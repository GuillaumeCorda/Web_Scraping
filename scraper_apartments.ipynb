{
 "cells": [
  {
   "cell_type": "code",
   "execution_count": null,
   "metadata": {
    "ExecuteTime": {
     "end_time": "2019-02-21T09:43:17.800320Z",
     "start_time": "2019-02-21T09:43:16.138034Z"
    }
   },
   "outputs": [],
   "source": [
    "import os\n",
    "import numpy as np\n",
    "import pandas as pd\n",
    "import time\n",
    "import httplib2\n",
    "import urllib\n",
    "import requests\n",
    "import re\n",
    "from bs4 import BeautifulSoup"
   ]
  },
  {
   "cell_type": "markdown",
   "metadata": {},
   "source": [
    "# Imports"
   ]
  },
  {
   "cell_type": "markdown",
   "metadata": {},
   "source": [
    "# Config"
   ]
  },
  {
   "cell_type": "code",
   "execution_count": null,
   "metadata": {
    "ExecuteTime": {
     "end_time": "2019-02-21T13:32:13.527544Z",
     "start_time": "2019-02-21T13:32:13.520180Z"
    }
   },
   "outputs": [],
   "source": [
    "class Config():\n",
    "    def __init__(self, data_path='/Users/guillaumecorda/Desktop/UvA/Information Retrieval/Project/data/', url=None):\n",
    "        self.data_path = data_path\n",
    "        self.url = url"
   ]
  },
  {
   "cell_type": "code",
   "execution_count": null,
   "metadata": {
    "ExecuteTime": {
     "end_time": "2019-02-21T13:32:13.679711Z",
     "start_time": "2019-02-21T13:32:13.670534Z"
    }
   },
   "outputs": [],
   "source": [
    "#add user-agent in url user-agent=bot\n",
    "cfg_ams = Config(url='https://www.huurda.com/Housing_offer.html?searchPhotos=1&searchKeywords=amsterdam&searchRentStart=0&searchSurface=0&searchRentEnd=0&searchAvailable=&searchFurnished=&searchBedrooms=&searchFormSubmit=Search+directly+in+6.510+rental+houses')\n",
    "cfg_rot = Config(url='https://www.huurda.com/Housing_offer.html?searchPhotos=1&searchKeywords=rotterdam&searchRentStart=0&searchSurface=0&searchRentEnd=0&searchAvailable=&searchFurnished=&searchBedrooms=&searchFormSubmit=Search+directly+in+6.518+rental+houses')\n",
    "cfg_haag = Config(url='https://www.huurda.com/Housing_offer.html?searchPhotos=1&searchKeywords=den+haag&searchRentStart=0&searchSurface=0&searchRentEnd=0&searchAvailable=&searchFurnished=&searchBedrooms=&searchFormSubmit=Search+directly+in+6.518+rental+houses')\n",
    "cfg_gro = Config(url='https://www.huurda.com/Housing_offer.html?searchPhotos=1&searchKeywords=groningen&searchRentStart=0&searchSurface=0&searchRentEnd=0&searchAvailable=&searchFurnished=&searchBedrooms=&searchFormSubmit=Search+directly+in+6.517+rental+houses')\n",
    "cfg_utr = Config(url='https://www.huurda.com/Housing_offer.html?searchPhotos=1&searchKeywords=utrecht&searchRentStart=0&searchSurface=0&searchRentEnd=0&searchAvailable=&searchFurnished=&searchBedrooms=&searchFormSubmit=Search+directly+in+6.517+rental+houses')\n",
    "cfg_ein = Config(url='https://www.huurda.com/Housing_offer.html?searchPhotos=1&searchKeywords=eindhoven&searchRentStart=0&searchSurface=0&searchRentEnd=0&searchAvailable=&searchFurnished=&searchBedrooms=&searchFormSubmit=Search+directly+in+6.517+rental+houses')"
   ]
  },
  {
   "cell_type": "markdown",
   "metadata": {},
   "source": [
    "# Helper functions"
   ]
  },
  {
   "cell_type": "markdown",
   "metadata": {},
   "source": [
    "## Get content"
   ]
  },
  {
   "cell_type": "code",
   "execution_count": null,
   "metadata": {
    "ExecuteTime": {
     "end_time": "2019-02-21T09:43:17.824692Z",
     "start_time": "2019-02-21T09:43:17.820076Z"
    }
   },
   "outputs": [],
   "source": [
    "def get_html(url):\n",
    "    if 'http' not in url:\n",
    "        raise ValueError('Please add protocol to url.')\n",
    "    html_page = urllib.request.urlopen(url)\n",
    "    soup = BeautifulSoup(html_page, features='html.parser')\n",
    "    return soup"
   ]
  },
  {
   "cell_type": "markdown",
   "metadata": {},
   "source": [
    "## Remove html tags"
   ]
  },
  {
   "cell_type": "code",
   "execution_count": null,
   "metadata": {
    "ExecuteTime": {
     "end_time": "2019-02-21T09:43:17.831979Z",
     "start_time": "2019-02-21T09:43:17.827831Z"
    }
   },
   "outputs": [],
   "source": [
    "def remove_html_tags(text):\n",
    "    p = re.compile(r'<.*?>')\n",
    "    return p.sub('', text)"
   ]
  },
  {
   "cell_type": "markdown",
   "metadata": {},
   "source": [
    "## Extract outgoing links"
   ]
  },
  {
   "cell_type": "code",
   "execution_count": null,
   "metadata": {
    "ExecuteTime": {
     "end_time": "2019-02-21T09:43:17.841761Z",
     "start_time": "2019-02-21T09:43:17.834607Z"
    }
   },
   "outputs": [],
   "source": [
    "def extract_outgoing_links(url):\n",
    "    soup = get_html(url)\n",
    "    content = soup.find_all('div', class_ = 'newsBox')\n",
    "    links = list()\n",
    "    for flat in content:\n",
    "        tag_news = str(flat.find('a', class_='news'))\n",
    "        url = re.findall('\"([^\"]*)\"', tag_news)[1]\n",
    "        links.append(url)\n",
    "    return links"
   ]
  },
  {
   "cell_type": "markdown",
   "metadata": {},
   "source": [
    "## Url editor"
   ]
  },
  {
   "cell_type": "code",
   "execution_count": null,
   "metadata": {
    "ExecuteTime": {
     "end_time": "2019-02-21T09:43:17.849694Z",
     "start_time": "2019-02-21T09:43:17.844343Z"
    }
   },
   "outputs": [],
   "source": [
    "def edit_url(url, page):\n",
    "    if 'page' not in url :\n",
    "        url = url+ '&page='+str(page)\n",
    "    else:\n",
    "        url = url.replace(url[-1], str(page))\n",
    "    return url"
   ]
  },
  {
   "cell_type": "markdown",
   "metadata": {},
   "source": [
    "## Details Scraper"
   ]
  },
  {
   "cell_type": "code",
   "execution_count": null,
   "metadata": {
    "ExecuteTime": {
     "end_time": "2019-02-21T09:43:17.871721Z",
     "start_time": "2019-02-21T09:43:17.855953Z"
    }
   },
   "outputs": [],
   "source": [
    "def get_rent_details(url):\n",
    "    soup = get_html(url)\n",
    "    details_rent = soup.find_all('div', class_ = 'detailBox')\n",
    "\n",
    "    infos = remove_html_tags(str(details_rent[0]))\n",
    "    infos = infos.replace('\\n', ' ')\n",
    "    infos = infos.replace('\\t', ' ')\n",
    "    infos = infos.replace('\\n2', ' ')\n",
    "    infos = infos.split('   ')\n",
    "    infos = [el for el in infos if el != '']\n",
    "    \n",
    "    infos = infos[1:8]\n",
    "    \n",
    "    #uncomment lines for new features\n",
    "    infos[0] = infos[0].replace('Rent per month: € ','')\n",
    "    infos[0] = infos[0].replace(',-', '')\n",
    "    infos[1] = infos[1].replace('Available from: ', '')\n",
    "    #infos[2] = infos[2].replace('Offered since: ', '')\n",
    "    #infos[3] = infos[3].replace('Offered by: ', '')\n",
    "    infos[4] = infos[4].replace('Surface (m2): ', '')\n",
    "    infos[4] = infos[4].replace(' m²', '')\n",
    "    infos[5] = infos[5].replace('Interior:  ', '')\n",
    "    infos[6] = infos[6].replace('Number of bedrooms ', '')\n",
    "\n",
    "    #remove line for new features\n",
    "    del infos[2:3]\n",
    "    del infos[2]\n",
    "    \n",
    "    return infos"
   ]
  },
  {
   "cell_type": "markdown",
   "metadata": {},
   "source": [
    "## Location Scraper"
   ]
  },
  {
   "cell_type": "code",
   "execution_count": null,
   "metadata": {
    "ExecuteTime": {
     "end_time": "2019-02-21T12:20:37.350911Z",
     "start_time": "2019-02-21T12:20:37.331516Z"
    }
   },
   "outputs": [],
   "source": [
    "def get_location(url, city):\n",
    "    \n",
    "    soup = get_html(url)\n",
    "    content = soup.find_all('div', class_ = 'brownBox')\n",
    "\n",
    "    infos = remove_html_tags(str(content[0]))\n",
    "    infos = infos.replace('\\n', ' ')\n",
    "    infos = infos.replace('\\t', ' ')\n",
    "    infos = infos.replace('\\r', ' ')\n",
    "    infos = infos.replace('\\n2', ' ')\n",
    "    infos = infos.lower()\n",
    "    \n",
    "    if city == 'Amsterdam':\n",
    "        indice_start = infos.rfind('in amsterdam')\n",
    "        infos = infos[indice_start+len('in amsterdam'):]\n",
    "        infos = infos.replace('amsterdam', 'Amsterdam')\n",
    "    elif city == 'Rotterdam':\n",
    "        indice_start = infos.rfind('in rotterdam')\n",
    "        infos = infos[indice_start+len('in rotterdam'):]\n",
    "        infos = infos.replace('rotterdam', 'Rotterdam')\n",
    "    elif city == 'Den Haag':\n",
    "        indice_start = infos.rfind('in den haag')\n",
    "        infos = infos[indice_start+len('in den haag'):]\n",
    "        infos = infos.replace('den haag', 'Den Haag')\n",
    "    elif city == 'Utrecht':\n",
    "        indice_start = infos.rfind('in utrecht')\n",
    "        infos = infos[indice_start+len('in utrecht'):]\n",
    "        infos = infos.replace('utrecht', 'Utrecht')\n",
    "    elif city == 'Groningen':\n",
    "        indice_start = infos.rfind('in groningen')\n",
    "        infos = infos[indice_start+len('in groningen'):]\n",
    "        infos = infos.replace('groningen', 'Groningen')\n",
    "    elif city == 'Eindhoven':\n",
    "        indice_start = infos.rfind('eindhoven')\n",
    "        infos = infos[indice_start+len('eindhoven'):]\n",
    "        infos = infos.replace('eindhoven', 'Eindhoven')\n",
    "    \n",
    "    infos = infos.strip()\n",
    "    indice_end = infos.find('€')\n",
    "    infos = infos[:indice_end]\n",
    "    location = \" \".join(infos.split())\n",
    "    \n",
    "    \n",
    "    return location"
   ]
  },
  {
   "cell_type": "markdown",
   "metadata": {},
   "source": [
    "## Description Scraper"
   ]
  },
  {
   "cell_type": "code",
   "execution_count": null,
   "metadata": {
    "ExecuteTime": {
     "end_time": "2019-02-21T12:51:24.190164Z",
     "start_time": "2019-02-21T12:51:24.175628Z"
    }
   },
   "outputs": [],
   "source": [
    "def get_description(url, city):\n",
    "    soup = get_html(url)\n",
    "    details_rent = soup.find_all('div', class_ = 'contentbox')\n",
    "    \n",
    "    infos = remove_html_tags(str(details_rent[0]))\n",
    "    infos = infos.replace('\\n', ' ')\n",
    "    infos = infos.replace('\\t', ' ')\n",
    "    infos = infos.replace('\\n2', ' ')\n",
    "    infos = infos.split('   ')\n",
    "    \n",
    "    if len(infos)==1:\n",
    "        infos = infos[0].strip()\n",
    "    \n",
    "    elif len(infos) > 1:\n",
    "        infos = ''.join(str(elem) for elem in infos)\n",
    "        infos = infos.strip()\n",
    "    \n",
    "    infos = infos.lower()\n",
    "    \n",
    "    if '123wonen the rental agency offers:' in infos:\n",
    "        infos = infos.replace('123wonen the rental agency offers:', '')\n",
    "    elif '123wonen the rental agent offers:' in infos:\n",
    "        infos = infos.replace('123wonen the rental agent offers:', '')\n",
    "    \n",
    "    if ',-' in infos:\n",
    "        indice_start = infos.find(',-')\n",
    "        infos = infos[indice_start+2:]\n",
    "    \n",
    "    elif ', -' in infos:\n",
    "        indice_start = infos.find(', -')\n",
    "        infos = infos[indice_start+3:]\n",
    "    \n",
    "    if 'all in' in infos:\n",
    "        indice_start = infos.find('all in')\n",
    "        infos = infos[indice_start+6:]\n",
    "    \n",
    "    if 'description' in infos:\n",
    "        indice_start = infos.find('description')\n",
    "        infos = infos[indice_start+len('description'):]\n",
    "    \n",
    "    infos = infos.strip()\n",
    "    \n",
    "    return infos"
   ]
  },
  {
   "cell_type": "code",
   "execution_count": null,
   "metadata": {
    "ExecuteTime": {
     "end_time": "2019-02-21T12:51:24.832329Z",
     "start_time": "2019-02-21T12:51:24.685384Z"
    }
   },
   "outputs": [],
   "source": [
    "get_description('https://www.huurda.com/properties_for_rent_in_Utrecht/One-family_living/Janskerkhof--11757/', 'Utrecht')"
   ]
  },
  {
   "cell_type": "code",
   "execution_count": null,
   "metadata": {
    "ExecuteTime": {
     "end_time": "2019-02-21T12:48:02.767847Z",
     "start_time": "2019-02-21T12:48:02.762350Z"
    }
   },
   "outputs": [],
   "source": [
    "url = 'https://www.huurda.com/properties_for_rent_in_Utrecht/One-family_living/Janskerkhof--11757/'"
   ]
  },
  {
   "cell_type": "code",
   "execution_count": null,
   "metadata": {
    "ExecuteTime": {
     "end_time": "2019-02-21T12:49:50.618595Z",
     "start_time": "2019-02-21T12:49:50.432413Z"
    }
   },
   "outputs": [],
   "source": [
    "soup = get_html(url)\n",
    "details_rent = soup.find_all('div', class_ = 'contentbox')\n",
    "\n",
    "infos = remove_html_tags(str(details_rent[0]))\n",
    "infos = infos.replace('\\n', ' ')\n",
    "infos = infos.replace('\\t', ' ')\n",
    "infos = infos.replace('\\n2', ' ')\n",
    "infos = infos.split('   ')\n",
    "\n",
    "infos = ''.join(str(elem) for elem in infos)\n",
    "infos = infos.strip()\n",
    "\n",
    "if 'all in' in infos:\n",
    "    indice_start = infos.find('all in')\n",
    "    infos = infos[indice_start+6:]"
   ]
  },
  {
   "cell_type": "code",
   "execution_count": null,
   "metadata": {
    "ExecuteTime": {
     "end_time": "2019-02-21T12:49:51.398870Z",
     "start_time": "2019-02-21T12:49:51.390747Z"
    }
   },
   "outputs": [],
   "source": [
    "infos"
   ]
  },
  {
   "cell_type": "markdown",
   "metadata": {},
   "source": [
    "# Scraper"
   ]
  },
  {
   "cell_type": "markdown",
   "metadata": {},
   "source": [
    "## Scrap one link"
   ]
  },
  {
   "cell_type": "code",
   "execution_count": null,
   "metadata": {
    "ExecuteTime": {
     "end_time": "2019-02-14T10:28:50.587825Z",
     "start_time": "2019-02-14T10:28:50.232080Z"
    },
    "scrolled": true
   },
   "outputs": [],
   "source": [
    "links_ams = extract_outgoing_links(cfg_ams.url)"
   ]
  },
  {
   "cell_type": "code",
   "execution_count": null,
   "metadata": {
    "ExecuteTime": {
     "end_time": "2019-02-14T10:28:51.008659Z",
     "start_time": "2019-02-14T10:28:50.592167Z"
    }
   },
   "outputs": [],
   "source": [
    "data = get_rent_details(links_ams[10])"
   ]
  },
  {
   "cell_type": "code",
   "execution_count": null,
   "metadata": {
    "ExecuteTime": {
     "end_time": "2019-02-14T10:28:51.274620Z",
     "start_time": "2019-02-14T10:28:51.014211Z"
    },
    "scrolled": true
   },
   "outputs": [],
   "source": [
    "data.append(get_location(links_ams[0], city='Amsterdam'))"
   ]
  },
  {
   "cell_type": "code",
   "execution_count": null,
   "metadata": {
    "ExecuteTime": {
     "end_time": "2019-02-14T10:28:51.276864Z",
     "start_time": "2019-02-14T10:28:49.514Z"
    }
   },
   "outputs": [],
   "source": [
    "data"
   ]
  },
  {
   "cell_type": "markdown",
   "metadata": {},
   "source": [
    "## Automation for one page"
   ]
  },
  {
   "cell_type": "code",
   "execution_count": null,
   "metadata": {
    "ExecuteTime": {
     "end_time": "2019-02-21T11:39:44.530958Z",
     "start_time": "2019-02-21T11:39:44.518839Z"
    }
   },
   "outputs": [],
   "source": [
    "def mini_scraper(url, city):\n",
    "    \n",
    "    links = extract_outgoing_links(url)\n",
    "    df = pd.DataFrame(columns=['Rent', 'Available from', 'Surface', 'Interior', 'Number of bedrooms',  'Location', 'Description', 'url'])\n",
    "    \n",
    "    for i, link in enumerate(links):\n",
    "        try:\n",
    "            data = get_rent_details(link)\n",
    "            data.append(get_location(link, city))\n",
    "            data.append(get_description(link, city))\n",
    "            data.append(link)\n",
    "            df.loc[i] = data\n",
    "            print('Scraping url {}/{}'.format(i+1, len(links)), end='\\r')\n",
    "        except:\n",
    "            print(link)\n",
    "    return df"
   ]
  },
  {
   "cell_type": "code",
   "execution_count": null,
   "metadata": {
    "ExecuteTime": {
     "end_time": "2019-02-14T10:29:37.252904Z",
     "start_time": "2019-02-14T10:29:14.988868Z"
    },
    "scrolled": true
   },
   "outputs": [],
   "source": [
    "df = mini_scraper(cfg_rot.url, city='Rotterdam')\n",
    "df.head()"
   ]
  },
  {
   "cell_type": "markdown",
   "metadata": {},
   "source": [
    "## Main Scraper"
   ]
  },
  {
   "cell_type": "code",
   "execution_count": null,
   "metadata": {
    "ExecuteTime": {
     "end_time": "2019-02-21T10:31:20.321537Z",
     "start_time": "2019-02-21T10:31:20.310599Z"
    }
   },
   "outputs": [],
   "source": [
    "def main_scraper(url, city, nb_page):\n",
    "    print('Scraping page: 1/{}'.format(nb_page))\n",
    "    df = mini_scraper(url, city)\n",
    "    df_list = [df]\n",
    "    for i in range(1, nb_page):\n",
    "        print('Scraping page: {}/{}'.format(i+1, nb_page))\n",
    "        url = edit_url(url, i)\n",
    "        df_list.append(mini_scraper(url, city))\n",
    "        #time.sleep(1)\n",
    "    df = pd.concat(df_list)\n",
    "    return df"
   ]
  },
  {
   "cell_type": "markdown",
   "metadata": {},
   "source": [
    "### Amsterdam"
   ]
  },
  {
   "cell_type": "code",
   "execution_count": null,
   "metadata": {
    "ExecuteTime": {
     "end_time": "2019-02-21T13:00:24.605187Z",
     "start_time": "2019-02-21T12:56:29.384936Z"
    },
    "scrolled": true
   },
   "outputs": [],
   "source": [
    "df_ams = main_scraper(cfg_ams.url, city='Amsterdam', nb_page=8)"
   ]
  },
  {
   "cell_type": "code",
   "execution_count": null,
   "metadata": {
    "ExecuteTime": {
     "end_time": "2019-02-21T13:00:24.618230Z",
     "start_time": "2019-02-21T13:00:24.611037Z"
    }
   },
   "outputs": [],
   "source": [
    "df_ams.shape"
   ]
  },
  {
   "cell_type": "code",
   "execution_count": null,
   "metadata": {
    "ExecuteTime": {
     "end_time": "2019-02-21T13:00:32.624870Z",
     "start_time": "2019-02-21T13:00:32.610886Z"
    }
   },
   "outputs": [],
   "source": [
    "df_ams.head()"
   ]
  },
  {
   "cell_type": "code",
   "execution_count": null,
   "metadata": {
    "ExecuteTime": {
     "end_time": "2019-02-21T13:00:36.537112Z",
     "start_time": "2019-02-21T13:00:36.515800Z"
    }
   },
   "outputs": [],
   "source": [
    "df_ams.to_csv(cfg_ams.data_path + 'ams_data.csv', encoding='utf-8', index=False)"
   ]
  },
  {
   "cell_type": "markdown",
   "metadata": {},
   "source": [
    "### Rotterdam"
   ]
  },
  {
   "cell_type": "code",
   "execution_count": null,
   "metadata": {
    "ExecuteTime": {
     "end_time": "2019-02-21T13:05:40.845196Z",
     "start_time": "2019-02-21T13:00:37.957551Z"
    }
   },
   "outputs": [],
   "source": [
    "df_rot = main_scraper(cfg_rot.url, city='Rotterdam', nb_page=13)"
   ]
  },
  {
   "cell_type": "code",
   "execution_count": null,
   "metadata": {
    "ExecuteTime": {
     "end_time": "2019-02-21T13:05:40.855828Z",
     "start_time": "2019-02-21T13:05:40.849623Z"
    }
   },
   "outputs": [],
   "source": [
    "df_rot.shape"
   ]
  },
  {
   "cell_type": "code",
   "execution_count": null,
   "metadata": {
    "ExecuteTime": {
     "end_time": "2019-02-21T13:05:54.269822Z",
     "start_time": "2019-02-21T13:05:54.238158Z"
    },
    "scrolled": true
   },
   "outputs": [],
   "source": [
    "df_rot.tail()"
   ]
  },
  {
   "cell_type": "code",
   "execution_count": null,
   "metadata": {
    "ExecuteTime": {
     "end_time": "2019-02-21T13:05:40.925511Z",
     "start_time": "2019-02-21T13:05:40.892599Z"
    }
   },
   "outputs": [],
   "source": [
    "df_rot.to_csv(cfg_rot.data_path + 'rot_data.csv', encoding='utf-8', index=False)"
   ]
  },
  {
   "cell_type": "markdown",
   "metadata": {},
   "source": [
    "### Den Haag"
   ]
  },
  {
   "cell_type": "code",
   "execution_count": null,
   "metadata": {
    "ExecuteTime": {
     "end_time": "2019-02-21T13:13:25.115350Z",
     "start_time": "2019-02-21T13:06:46.238609Z"
    }
   },
   "outputs": [],
   "source": [
    "df_haag = main_scraper(cfg_haag.url, city='Den Haag', nb_page=12)"
   ]
  },
  {
   "cell_type": "code",
   "execution_count": null,
   "metadata": {
    "ExecuteTime": {
     "end_time": "2019-02-21T13:13:25.126622Z",
     "start_time": "2019-02-21T13:13:25.119127Z"
    }
   },
   "outputs": [],
   "source": [
    "df_haag.shape"
   ]
  },
  {
   "cell_type": "code",
   "execution_count": null,
   "metadata": {
    "ExecuteTime": {
     "end_time": "2019-02-21T13:13:25.154287Z",
     "start_time": "2019-02-21T13:13:25.131966Z"
    }
   },
   "outputs": [],
   "source": [
    "df_haag.tail()"
   ]
  },
  {
   "cell_type": "code",
   "execution_count": null,
   "metadata": {
    "ExecuteTime": {
     "end_time": "2019-02-21T10:02:47.964035Z",
     "start_time": "2019-02-21T10:02:47.942834Z"
    }
   },
   "outputs": [],
   "source": [
    "df_haag.to_csv(cfg_haag.data_path + 'haag_data.csv', encoding='utf-8', index=False)"
   ]
  },
  {
   "cell_type": "markdown",
   "metadata": {},
   "source": [
    "### Groningen"
   ]
  },
  {
   "cell_type": "code",
   "execution_count": null,
   "metadata": {
    "ExecuteTime": {
     "end_time": "2019-02-21T11:32:53.980370Z",
     "start_time": "2019-02-21T11:30:40.930428Z"
    }
   },
   "outputs": [],
   "source": [
    "df_gro = main_scraper(cfg_gro.url, city='Groningen', nb_page=6)"
   ]
  },
  {
   "cell_type": "code",
   "execution_count": null,
   "metadata": {
    "ExecuteTime": {
     "end_time": "2019-02-21T11:32:53.999639Z",
     "start_time": "2019-02-21T11:32:53.984699Z"
    }
   },
   "outputs": [],
   "source": [
    "df_gro.shape"
   ]
  },
  {
   "cell_type": "code",
   "execution_count": null,
   "metadata": {
    "ExecuteTime": {
     "end_time": "2019-02-21T13:13:39.775986Z",
     "start_time": "2019-02-21T13:13:39.752855Z"
    }
   },
   "outputs": [],
   "source": [
    "df_gro.head()"
   ]
  },
  {
   "cell_type": "code",
   "execution_count": null,
   "metadata": {
    "ExecuteTime": {
     "end_time": "2019-02-21T13:32:18.290660Z",
     "start_time": "2019-02-21T13:32:18.266004Z"
    }
   },
   "outputs": [],
   "source": [
    "df_gro.to_csv(cfg_gro.data_path + 'gro_data.csv', encoding='utf-8', index=False)"
   ]
  },
  {
   "cell_type": "markdown",
   "metadata": {},
   "source": [
    "### Utrecht"
   ]
  },
  {
   "cell_type": "code",
   "execution_count": null,
   "metadata": {
    "ExecuteTime": {
     "end_time": "2019-02-21T12:55:05.163767Z",
     "start_time": "2019-02-21T12:51:34.356462Z"
    }
   },
   "outputs": [],
   "source": [
    "df_utr = main_scraper(cfg_utr.url, city='Utrecht', nb_page=10)"
   ]
  },
  {
   "cell_type": "code",
   "execution_count": null,
   "metadata": {
    "ExecuteTime": {
     "end_time": "2019-02-21T13:13:45.900917Z",
     "start_time": "2019-02-21T13:13:45.892066Z"
    }
   },
   "outputs": [],
   "source": [
    "df_utr.shape"
   ]
  },
  {
   "cell_type": "code",
   "execution_count": null,
   "metadata": {
    "ExecuteTime": {
     "end_time": "2019-02-21T13:13:51.323529Z",
     "start_time": "2019-02-21T13:13:51.293993Z"
    },
    "scrolled": true
   },
   "outputs": [],
   "source": [
    "df_utr.tail()"
   ]
  },
  {
   "cell_type": "code",
   "execution_count": null,
   "metadata": {
    "ExecuteTime": {
     "end_time": "2019-02-21T13:32:23.528709Z",
     "start_time": "2019-02-21T13:32:23.503806Z"
    }
   },
   "outputs": [],
   "source": [
    "df_utr.to_csv(cfg_utr.data_path + 'utr_data.csv', encoding='utf-8', index=False)"
   ]
  },
  {
   "cell_type": "markdown",
   "metadata": {},
   "source": [
    "### Eindhoven"
   ]
  },
  {
   "cell_type": "code",
   "execution_count": null,
   "metadata": {
    "ExecuteTime": {
     "end_time": "2019-02-21T13:18:03.263331Z",
     "start_time": "2019-02-21T13:14:36.248917Z"
    }
   },
   "outputs": [],
   "source": [
    "df_ein = main_scraper(cfg_utr.url, city='Eindhoven', nb_page=9)"
   ]
  },
  {
   "cell_type": "code",
   "execution_count": null,
   "metadata": {
    "ExecuteTime": {
     "end_time": "2019-02-21T13:18:03.274532Z",
     "start_time": "2019-02-21T13:18:03.267009Z"
    }
   },
   "outputs": [],
   "source": [
    "df_ein.shape"
   ]
  },
  {
   "cell_type": "code",
   "execution_count": null,
   "metadata": {
    "ExecuteTime": {
     "end_time": "2019-02-21T13:19:28.120061Z",
     "start_time": "2019-02-21T13:19:28.090285Z"
    }
   },
   "outputs": [],
   "source": [
    "df_ein.tail()"
   ]
  },
  {
   "cell_type": "code",
   "execution_count": null,
   "metadata": {
    "ExecuteTime": {
     "end_time": "2019-02-21T13:32:26.330721Z",
     "start_time": "2019-02-21T13:32:26.306663Z"
    }
   },
   "outputs": [],
   "source": [
    "df_ein.to_csv(cfg_ein.data_path + 'ein_data.csv', encoding='utf-8', index=False)"
   ]
  },
  {
   "cell_type": "markdown",
   "metadata": {},
   "source": [
    "## Merge all data"
   ]
  },
  {
   "cell_type": "code",
   "execution_count": null,
   "metadata": {
    "ExecuteTime": {
     "end_time": "2019-02-21T13:20:01.492116Z",
     "start_time": "2019-02-21T13:20:01.477246Z"
    }
   },
   "outputs": [],
   "source": [
    "df_list = [df_ams, df_rot, df_haag, df_gro, df_utr, df_ein]\n",
    "df = pd.concat(df_list)"
   ]
  },
  {
   "cell_type": "code",
   "execution_count": null,
   "metadata": {
    "ExecuteTime": {
     "end_time": "2019-02-21T13:20:01.927333Z",
     "start_time": "2019-02-21T13:20:01.921309Z"
    }
   },
   "outputs": [],
   "source": [
    "df.shape"
   ]
  },
  {
   "cell_type": "code",
   "execution_count": null,
   "metadata": {
    "ExecuteTime": {
     "end_time": "2019-02-21T13:20:02.197937Z",
     "start_time": "2019-02-21T13:20:02.181414Z"
    }
   },
   "outputs": [],
   "source": [
    "df.head()"
   ]
  },
  {
   "cell_type": "markdown",
   "metadata": {},
   "source": [
    "## Save"
   ]
  },
  {
   "cell_type": "code",
   "execution_count": null,
   "metadata": {
    "ExecuteTime": {
     "end_time": "2019-02-21T13:20:14.439299Z",
     "start_time": "2019-02-21T13:20:14.333014Z"
    }
   },
   "outputs": [],
   "source": [
    "df.to_csv(cfg_ams.data_path + 'crawled_data.csv', encoding='utf-8', index=False)"
   ]
  },
  {
   "cell_type": "markdown",
   "metadata": {},
   "source": [
    "## Load"
   ]
  },
  {
   "cell_type": "code",
   "execution_count": null,
   "metadata": {
    "ExecuteTime": {
     "end_time": "2019-02-21T13:20:26.545842Z",
     "start_time": "2019-02-21T13:20:26.484255Z"
    },
    "scrolled": true
   },
   "outputs": [],
   "source": [
    "data = pd.read_csv(cfg_ams.data_path + 'crawled_data.csv', encoding='utf-8', engine='python')"
   ]
  },
  {
   "cell_type": "code",
   "execution_count": null,
   "metadata": {
    "ExecuteTime": {
     "end_time": "2019-02-21T13:20:27.032041Z",
     "start_time": "2019-02-21T13:20:27.024649Z"
    }
   },
   "outputs": [],
   "source": [
    "data.shape"
   ]
  },
  {
   "cell_type": "code",
   "execution_count": null,
   "metadata": {
    "ExecuteTime": {
     "end_time": "2019-02-21T13:20:29.544932Z",
     "start_time": "2019-02-21T13:20:29.494840Z"
    }
   },
   "outputs": [],
   "source": [
    "data"
   ]
  },
  {
   "cell_type": "code",
   "execution_count": null,
   "metadata": {},
   "outputs": [],
   "source": []
  }
 ],
 "metadata": {
  "celltoolbar": "Aucun(e)",
  "kernelspec": {
   "display_name": "Python 3",
   "language": "python",
   "name": "python3"
  },
  "language_info": {
   "codemirror_mode": {
    "name": "ipython",
    "version": 3
   },
   "file_extension": ".py",
   "mimetype": "text/x-python",
   "name": "python",
   "nbconvert_exporter": "python",
   "pygments_lexer": "ipython3",
   "version": "3.7.1"
  },
  "toc": {
   "base_numbering": 1,
   "nav_menu": {},
   "number_sections": true,
   "sideBar": true,
   "skip_h1_title": false,
   "title_cell": "Table of Contents",
   "title_sidebar": "Contents",
   "toc_cell": false,
   "toc_position": {
    "height": "714.867px",
    "left": "0px",
    "right": "1310px",
    "top": "111.133px",
    "width": "165px"
   },
   "toc_section_display": "block",
   "toc_window_display": true
  }
 },
 "nbformat": 4,
 "nbformat_minor": 2
}
