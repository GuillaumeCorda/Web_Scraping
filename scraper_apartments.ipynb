{
 "cells": [
  {
   "cell_type": "markdown",
   "metadata": {},
   "source": [
    "# Imports"
   ]
  },
  {
   "cell_type": "code",
   "execution_count": 1,
   "metadata": {
    "ExecuteTime": {
     "end_time": "2019-02-14T10:28:50.154984Z",
     "start_time": "2019-02-14T10:28:47.603600Z"
    }
   },
   "outputs": [],
   "source": [
    "import os\n",
    "import numpy as np\n",
    "import pandas as pd\n",
    "\n",
    "import httplib2\n",
    "\n",
    "import urllib\n",
    "import requests\n",
    "import re\n",
    "from bs4 import BeautifulSoup"
   ]
  },
  {
   "cell_type": "markdown",
   "metadata": {},
   "source": [
    "# Config"
   ]
  },
  {
   "cell_type": "code",
   "execution_count": 2,
   "metadata": {
    "ExecuteTime": {
     "end_time": "2019-02-14T10:28:50.168307Z",
     "start_time": "2019-02-14T10:28:50.161124Z"
    }
   },
   "outputs": [],
   "source": [
    "class Config():\n",
    "    def __init__(self, data_path='/Users/guillaumecorda/Desktop/UvA/Information Retrieval/Project/', url=None):\n",
    "        self.data_path = data_path\n",
    "        self.url = url"
   ]
  },
  {
   "cell_type": "code",
   "execution_count": 3,
   "metadata": {
    "ExecuteTime": {
     "end_time": "2019-02-14T10:28:50.174917Z",
     "start_time": "2019-02-14T10:28:50.170360Z"
    }
   },
   "outputs": [],
   "source": [
    "cfg_ams = Config(url='https://www.huurda.com/Housing_offer.html?searchPhotos=1&searchKeywords=amsterdam&searchRentStart=0&searchSurface=0&searchRentEnd=0&searchAvailable=&searchFurnished=&searchBedrooms=&searchFormSubmit=Search+directly+in+6.510+rental+houses')\n",
    "cfg_rot = Config(url='https://www.huurda.com/Housing_offer.html?searchPhotos=1&searchKeywords=rotterdam&searchRentStart=0&searchSurface=0&searchRentEnd=0&searchAvailable=&searchFurnished=&searchBedrooms=&searchFormSubmit=Search+directly+in+6.518+rental+houses')\n",
    "cfg_haag = Config(url='https://www.huurda.com/Housing_offer.html?searchPhotos=1&searchKeywords=den+haag&searchRentStart=0&searchSurface=0&searchRentEnd=0&searchAvailable=&searchFurnished=&searchBedrooms=&searchFormSubmit=Search+directly+in+6.518+rental+houses')\n",
    "cfg_gro = Config(url='https://www.huurda.com/Housing_offer.html?searchPhotos=1&searchKeywords=groningen&searchRentStart=0&searchSurface=0&searchRentEnd=0&searchAvailable=&searchFurnished=&searchBedrooms=&searchFormSubmit=Search+directly+in+6.517+rental+houses')\n",
    "cfg_utr = Config(url='https://www.huurda.com/Housing_offer.html?searchPhotos=1&searchKeywords=utrecht&searchRentStart=0&searchSurface=0&searchRentEnd=0&searchAvailable=&searchFurnished=&searchBedrooms=&searchFormSubmit=Search+directly+in+6.517+rental+houses')\n",
    "cfg_ein = Config(url='https://www.huurda.com/Housing_offer.html?searchPhotos=1&searchKeywords=eindhoven&searchRentStart=0&searchSurface=0&searchRentEnd=0&searchAvailable=&searchFurnished=&searchBedrooms=&searchFormSubmit=Search+directly+in+6.517+rental+houses')"
   ]
  },
  {
   "cell_type": "markdown",
   "metadata": {},
   "source": [
    "# Helper functions"
   ]
  },
  {
   "cell_type": "markdown",
   "metadata": {},
   "source": [
    "## Get content"
   ]
  },
  {
   "cell_type": "code",
   "execution_count": 4,
   "metadata": {
    "ExecuteTime": {
     "end_time": "2019-02-14T10:28:50.182349Z",
     "start_time": "2019-02-14T10:28:50.178799Z"
    }
   },
   "outputs": [],
   "source": [
    "def get_html(url):\n",
    "    if 'http' not in url:\n",
    "        raise ValueError('Please add protocol to url.')\n",
    "    html_page = urllib.request.urlopen(url)\n",
    "    soup = BeautifulSoup(html_page, features='html.parser')\n",
    "    return soup"
   ]
  },
  {
   "cell_type": "markdown",
   "metadata": {},
   "source": [
    "## Remove html tags"
   ]
  },
  {
   "cell_type": "code",
   "execution_count": 5,
   "metadata": {
    "ExecuteTime": {
     "end_time": "2019-02-14T10:28:50.191251Z",
     "start_time": "2019-02-14T10:28:50.184941Z"
    }
   },
   "outputs": [],
   "source": [
    "def remove_html_tags(text):\n",
    "    p = re.compile(r'<.*?>')\n",
    "    return p.sub('', text)"
   ]
  },
  {
   "cell_type": "markdown",
   "metadata": {},
   "source": [
    "## Extract outgoing links"
   ]
  },
  {
   "cell_type": "code",
   "execution_count": 6,
   "metadata": {
    "ExecuteTime": {
     "end_time": "2019-02-14T10:28:50.201128Z",
     "start_time": "2019-02-14T10:28:50.196699Z"
    }
   },
   "outputs": [],
   "source": [
    "def extract_outgoing_links(url):\n",
    "    soup = get_html(url)\n",
    "    content = soup.find_all('div', class_ = 'newsBox')\n",
    "    links = list()\n",
    "    for flat in content:\n",
    "        tag_news = str(flat.find('a', class_='news'))\n",
    "        url = re.findall('\"([^\"]*)\"', tag_news)[1]\n",
    "        links.append(url)\n",
    "    return links"
   ]
  },
  {
   "cell_type": "markdown",
   "metadata": {},
   "source": [
    "## Url editor"
   ]
  },
  {
   "cell_type": "code",
   "execution_count": 7,
   "metadata": {
    "ExecuteTime": {
     "end_time": "2019-02-14T10:28:50.208890Z",
     "start_time": "2019-02-14T10:28:50.203797Z"
    }
   },
   "outputs": [],
   "source": [
    "def edit_url(url, page):\n",
    "    if 'page' not in url :\n",
    "        url = url+ '&page='+str(page)\n",
    "    else:\n",
    "        url = url.replace(url[-1], str(page))\n",
    "    return url"
   ]
  },
  {
   "cell_type": "markdown",
   "metadata": {},
   "source": [
    "## Details Scraper"
   ]
  },
  {
   "cell_type": "code",
   "execution_count": 8,
   "metadata": {
    "ExecuteTime": {
     "end_time": "2019-02-14T10:28:50.219614Z",
     "start_time": "2019-02-14T10:28:50.211827Z"
    }
   },
   "outputs": [],
   "source": [
    "def get_rent_details(url):\n",
    "    soup = get_html(url)\n",
    "    details_rent = soup.find_all('div', class_ = 'detailBox')\n",
    "\n",
    "    infos = remove_html_tags(str(details_rent[0]))\n",
    "    infos = infos.replace('\\n', ' ')\n",
    "    infos = infos.replace('\\t', ' ')\n",
    "    infos = infos.replace('\\n2', ' ')\n",
    "    infos = infos.split('   ')\n",
    "    infos = [el for el in infos if el != '']\n",
    "    \n",
    "    infos = infos[1:8]\n",
    "    \n",
    "    #uncomment lines for new features\n",
    "    infos[0] = infos[0].replace('Rent per month: € ','')\n",
    "    infos[0] = infos[0].replace(',-', '')\n",
    "    infos[1] = infos[1].replace('Available from: ', '')\n",
    "    #infos[2] = infos[2].replace('Offered since: ', '')\n",
    "    #infos[3] = infos[3].replace('Offered by: ', '')\n",
    "    infos[4] = infos[4].replace('Surface (m2): ', '')\n",
    "    infos[4] = infos[4].replace(' m²', '')\n",
    "    infos[5] = infos[5].replace('Interior:  ', '')\n",
    "    infos[6] = infos[6].replace('Number of bedrooms ', '')\n",
    "\n",
    "    #remove line for new features\n",
    "    del infos[2:3]\n",
    "    del infos[2]\n",
    "    \n",
    "    return infos"
   ]
  },
  {
   "cell_type": "markdown",
   "metadata": {},
   "source": [
    "## Location Scraper"
   ]
  },
  {
   "cell_type": "code",
   "execution_count": 9,
   "metadata": {
    "ExecuteTime": {
     "end_time": "2019-02-14T10:28:50.229330Z",
     "start_time": "2019-02-14T10:28:50.222041Z"
    }
   },
   "outputs": [],
   "source": [
    "def get_location(url, city):\n",
    "    \n",
    "    soup = get_html(url)\n",
    "    content = soup.find_all('div', class_ = 'brownBox')\n",
    "\n",
    "    infos = remove_html_tags(str(content[0]))\n",
    "    infos = infos.replace('\\n', ' ')\n",
    "    infos = infos.replace('\\t', ' ')\n",
    "    infos = infos.replace('\\n2', ' ')\n",
    "\n",
    "    indice_start = infos.find('Rental house')\n",
    "    infos = infos[indice_start:]\n",
    "    \n",
    "    if city == 'Amsterdam':\n",
    "        infos = infos.replace('Rental house: Apartment renting in Amsterdam                 ', '')\n",
    "    elif city == 'Rotterdam':\n",
    "        infos = infos.replace('Rental house: Apartment renting in Rotterdam                 ', '')\n",
    "    elif city == 'Den Haag':\n",
    "        infos = infos.replace('Rental house: Apartment renting in Den Haag                 ', '')\n",
    "    elif city == 'Utrecht':\n",
    "        infos = infos.replace('Rental house: Apartment renting in Utrecht                 ', '')\n",
    "    elif city == 'Groningen':\n",
    "        infos = infos.replace('Rental house: Apartment renting in Groningen                 ', '')\n",
    "    elif city == 'Eindhoven':\n",
    "        infos = infos.replace('Rental house: Apartment renting in Eindhoven                 ', '')\n",
    "    \n",
    "    indice_end = infos.find('€')\n",
    "    infos = infos[:indice_end]\n",
    "    location = \" \".join(infos.split())\n",
    "    \n",
    "    return location"
   ]
  },
  {
   "cell_type": "markdown",
   "metadata": {},
   "source": [
    "# Scraper"
   ]
  },
  {
   "cell_type": "markdown",
   "metadata": {},
   "source": [
    "## Scrap one link"
   ]
  },
  {
   "cell_type": "code",
   "execution_count": 10,
   "metadata": {
    "ExecuteTime": {
     "end_time": "2019-02-14T10:28:50.587825Z",
     "start_time": "2019-02-14T10:28:50.232080Z"
    },
    "scrolled": true
   },
   "outputs": [],
   "source": [
    "links_ams = extract_outgoing_links(cfg_ams.url)"
   ]
  },
  {
   "cell_type": "code",
   "execution_count": 11,
   "metadata": {
    "ExecuteTime": {
     "end_time": "2019-02-14T10:28:51.008659Z",
     "start_time": "2019-02-14T10:28:50.592167Z"
    }
   },
   "outputs": [],
   "source": [
    "data = get_rent_details(links_ams[10])"
   ]
  },
  {
   "cell_type": "code",
   "execution_count": 12,
   "metadata": {
    "ExecuteTime": {
     "end_time": "2019-02-14T10:28:51.274620Z",
     "start_time": "2019-02-14T10:28:51.014211Z"
    },
    "scrolled": true
   },
   "outputs": [
    {
     "ename": "UnicodeEncodeError",
     "evalue": "'ascii' codec can't encode characters in position 52-53: ordinal not in range(128)",
     "output_type": "error",
     "traceback": [
      "\u001b[0;31m---------------------------------------------------------------------------\u001b[0m",
      "\u001b[0;31mUnicodeEncodeError\u001b[0m                        Traceback (most recent call last)",
      "\u001b[0;32m<ipython-input-12-b6fb1b1e7b1f>\u001b[0m in \u001b[0;36m<module>\u001b[0;34m()\u001b[0m\n\u001b[0;32m----> 1\u001b[0;31m \u001b[0mdata\u001b[0m\u001b[0;34m.\u001b[0m\u001b[0mappend\u001b[0m\u001b[0;34m(\u001b[0m\u001b[0mget_location\u001b[0m\u001b[0;34m(\u001b[0m\u001b[0mlinks_ams\u001b[0m\u001b[0;34m[\u001b[0m\u001b[0;36m0\u001b[0m\u001b[0;34m]\u001b[0m\u001b[0;34m,\u001b[0m \u001b[0mcity\u001b[0m\u001b[0;34m=\u001b[0m\u001b[0;34m'Amsterdam'\u001b[0m\u001b[0;34m)\u001b[0m\u001b[0;34m)\u001b[0m\u001b[0;34m\u001b[0m\u001b[0m\n\u001b[0m",
      "\u001b[0;32m<ipython-input-9-d940fc6442dc>\u001b[0m in \u001b[0;36mget_location\u001b[0;34m(url, city)\u001b[0m\n\u001b[1;32m      1\u001b[0m \u001b[0;32mdef\u001b[0m \u001b[0mget_location\u001b[0m\u001b[0;34m(\u001b[0m\u001b[0murl\u001b[0m\u001b[0;34m,\u001b[0m \u001b[0mcity\u001b[0m\u001b[0;34m)\u001b[0m\u001b[0;34m:\u001b[0m\u001b[0;34m\u001b[0m\u001b[0m\n\u001b[1;32m      2\u001b[0m \u001b[0;34m\u001b[0m\u001b[0m\n\u001b[0;32m----> 3\u001b[0;31m     \u001b[0msoup\u001b[0m \u001b[0;34m=\u001b[0m \u001b[0mget_html\u001b[0m\u001b[0;34m(\u001b[0m\u001b[0murl\u001b[0m\u001b[0;34m)\u001b[0m\u001b[0;34m\u001b[0m\u001b[0m\n\u001b[0m\u001b[1;32m      4\u001b[0m     \u001b[0mcontent\u001b[0m \u001b[0;34m=\u001b[0m \u001b[0msoup\u001b[0m\u001b[0;34m.\u001b[0m\u001b[0mfind_all\u001b[0m\u001b[0;34m(\u001b[0m\u001b[0;34m'div'\u001b[0m\u001b[0;34m,\u001b[0m \u001b[0mclass_\u001b[0m \u001b[0;34m=\u001b[0m \u001b[0;34m'brownBox'\u001b[0m\u001b[0;34m)\u001b[0m\u001b[0;34m\u001b[0m\u001b[0m\n\u001b[1;32m      5\u001b[0m \u001b[0;34m\u001b[0m\u001b[0m\n",
      "\u001b[0;32m<ipython-input-4-7dc9323d7787>\u001b[0m in \u001b[0;36mget_html\u001b[0;34m(url)\u001b[0m\n\u001b[1;32m      2\u001b[0m     \u001b[0;32mif\u001b[0m \u001b[0;34m'http'\u001b[0m \u001b[0;32mnot\u001b[0m \u001b[0;32min\u001b[0m \u001b[0murl\u001b[0m\u001b[0;34m:\u001b[0m\u001b[0;34m\u001b[0m\u001b[0m\n\u001b[1;32m      3\u001b[0m         \u001b[0;32mraise\u001b[0m \u001b[0mValueError\u001b[0m\u001b[0;34m(\u001b[0m\u001b[0;34m'Please add protocol to url.'\u001b[0m\u001b[0;34m)\u001b[0m\u001b[0;34m\u001b[0m\u001b[0m\n\u001b[0;32m----> 4\u001b[0;31m     \u001b[0mhtml_page\u001b[0m \u001b[0;34m=\u001b[0m \u001b[0murllib\u001b[0m\u001b[0;34m.\u001b[0m\u001b[0mrequest\u001b[0m\u001b[0;34m.\u001b[0m\u001b[0murlopen\u001b[0m\u001b[0;34m(\u001b[0m\u001b[0murl\u001b[0m\u001b[0;34m)\u001b[0m\u001b[0;34m\u001b[0m\u001b[0m\n\u001b[0m\u001b[1;32m      5\u001b[0m     \u001b[0msoup\u001b[0m \u001b[0;34m=\u001b[0m \u001b[0mBeautifulSoup\u001b[0m\u001b[0;34m(\u001b[0m\u001b[0mhtml_page\u001b[0m\u001b[0;34m,\u001b[0m \u001b[0mfeatures\u001b[0m\u001b[0;34m=\u001b[0m\u001b[0;34m'html.parser'\u001b[0m\u001b[0;34m)\u001b[0m\u001b[0;34m\u001b[0m\u001b[0m\n\u001b[1;32m      6\u001b[0m     \u001b[0;32mreturn\u001b[0m \u001b[0msoup\u001b[0m\u001b[0;34m\u001b[0m\u001b[0m\n",
      "\u001b[0;32m~/anaconda3/lib/python3.6/urllib/request.py\u001b[0m in \u001b[0;36murlopen\u001b[0;34m(url, data, timeout, cafile, capath, cadefault, context)\u001b[0m\n\u001b[1;32m    221\u001b[0m     \u001b[0;32melse\u001b[0m\u001b[0;34m:\u001b[0m\u001b[0;34m\u001b[0m\u001b[0m\n\u001b[1;32m    222\u001b[0m         \u001b[0mopener\u001b[0m \u001b[0;34m=\u001b[0m \u001b[0m_opener\u001b[0m\u001b[0;34m\u001b[0m\u001b[0m\n\u001b[0;32m--> 223\u001b[0;31m     \u001b[0;32mreturn\u001b[0m \u001b[0mopener\u001b[0m\u001b[0;34m.\u001b[0m\u001b[0mopen\u001b[0m\u001b[0;34m(\u001b[0m\u001b[0murl\u001b[0m\u001b[0;34m,\u001b[0m \u001b[0mdata\u001b[0m\u001b[0;34m,\u001b[0m \u001b[0mtimeout\u001b[0m\u001b[0;34m)\u001b[0m\u001b[0;34m\u001b[0m\u001b[0m\n\u001b[0m\u001b[1;32m    224\u001b[0m \u001b[0;34m\u001b[0m\u001b[0m\n\u001b[1;32m    225\u001b[0m \u001b[0;32mdef\u001b[0m \u001b[0minstall_opener\u001b[0m\u001b[0;34m(\u001b[0m\u001b[0mopener\u001b[0m\u001b[0;34m)\u001b[0m\u001b[0;34m:\u001b[0m\u001b[0;34m\u001b[0m\u001b[0m\n",
      "\u001b[0;32m~/anaconda3/lib/python3.6/urllib/request.py\u001b[0m in \u001b[0;36mopen\u001b[0;34m(self, fullurl, data, timeout)\u001b[0m\n\u001b[1;32m    524\u001b[0m             \u001b[0mreq\u001b[0m \u001b[0;34m=\u001b[0m \u001b[0mmeth\u001b[0m\u001b[0;34m(\u001b[0m\u001b[0mreq\u001b[0m\u001b[0;34m)\u001b[0m\u001b[0;34m\u001b[0m\u001b[0m\n\u001b[1;32m    525\u001b[0m \u001b[0;34m\u001b[0m\u001b[0m\n\u001b[0;32m--> 526\u001b[0;31m         \u001b[0mresponse\u001b[0m \u001b[0;34m=\u001b[0m \u001b[0mself\u001b[0m\u001b[0;34m.\u001b[0m\u001b[0m_open\u001b[0m\u001b[0;34m(\u001b[0m\u001b[0mreq\u001b[0m\u001b[0;34m,\u001b[0m \u001b[0mdata\u001b[0m\u001b[0;34m)\u001b[0m\u001b[0;34m\u001b[0m\u001b[0m\n\u001b[0m\u001b[1;32m    527\u001b[0m \u001b[0;34m\u001b[0m\u001b[0m\n\u001b[1;32m    528\u001b[0m         \u001b[0;31m# post-process response\u001b[0m\u001b[0;34m\u001b[0m\u001b[0;34m\u001b[0m\u001b[0m\n",
      "\u001b[0;32m~/anaconda3/lib/python3.6/urllib/request.py\u001b[0m in \u001b[0;36m_open\u001b[0;34m(self, req, data)\u001b[0m\n\u001b[1;32m    542\u001b[0m         \u001b[0mprotocol\u001b[0m \u001b[0;34m=\u001b[0m \u001b[0mreq\u001b[0m\u001b[0;34m.\u001b[0m\u001b[0mtype\u001b[0m\u001b[0;34m\u001b[0m\u001b[0m\n\u001b[1;32m    543\u001b[0m         result = self._call_chain(self.handle_open, protocol, protocol +\n\u001b[0;32m--> 544\u001b[0;31m                                   '_open', req)\n\u001b[0m\u001b[1;32m    545\u001b[0m         \u001b[0;32mif\u001b[0m \u001b[0mresult\u001b[0m\u001b[0;34m:\u001b[0m\u001b[0;34m\u001b[0m\u001b[0m\n\u001b[1;32m    546\u001b[0m             \u001b[0;32mreturn\u001b[0m \u001b[0mresult\u001b[0m\u001b[0;34m\u001b[0m\u001b[0m\n",
      "\u001b[0;32m~/anaconda3/lib/python3.6/urllib/request.py\u001b[0m in \u001b[0;36m_call_chain\u001b[0;34m(self, chain, kind, meth_name, *args)\u001b[0m\n\u001b[1;32m    502\u001b[0m         \u001b[0;32mfor\u001b[0m \u001b[0mhandler\u001b[0m \u001b[0;32min\u001b[0m \u001b[0mhandlers\u001b[0m\u001b[0;34m:\u001b[0m\u001b[0;34m\u001b[0m\u001b[0m\n\u001b[1;32m    503\u001b[0m             \u001b[0mfunc\u001b[0m \u001b[0;34m=\u001b[0m \u001b[0mgetattr\u001b[0m\u001b[0;34m(\u001b[0m\u001b[0mhandler\u001b[0m\u001b[0;34m,\u001b[0m \u001b[0mmeth_name\u001b[0m\u001b[0;34m)\u001b[0m\u001b[0;34m\u001b[0m\u001b[0m\n\u001b[0;32m--> 504\u001b[0;31m             \u001b[0mresult\u001b[0m \u001b[0;34m=\u001b[0m \u001b[0mfunc\u001b[0m\u001b[0;34m(\u001b[0m\u001b[0;34m*\u001b[0m\u001b[0margs\u001b[0m\u001b[0;34m)\u001b[0m\u001b[0;34m\u001b[0m\u001b[0m\n\u001b[0m\u001b[1;32m    505\u001b[0m             \u001b[0;32mif\u001b[0m \u001b[0mresult\u001b[0m \u001b[0;32mis\u001b[0m \u001b[0;32mnot\u001b[0m \u001b[0;32mNone\u001b[0m\u001b[0;34m:\u001b[0m\u001b[0;34m\u001b[0m\u001b[0m\n\u001b[1;32m    506\u001b[0m                 \u001b[0;32mreturn\u001b[0m \u001b[0mresult\u001b[0m\u001b[0;34m\u001b[0m\u001b[0m\n",
      "\u001b[0;32m~/anaconda3/lib/python3.6/urllib/request.py\u001b[0m in \u001b[0;36mhttps_open\u001b[0;34m(self, req)\u001b[0m\n\u001b[1;32m   1359\u001b[0m         \u001b[0;32mdef\u001b[0m \u001b[0mhttps_open\u001b[0m\u001b[0;34m(\u001b[0m\u001b[0mself\u001b[0m\u001b[0;34m,\u001b[0m \u001b[0mreq\u001b[0m\u001b[0;34m)\u001b[0m\u001b[0;34m:\u001b[0m\u001b[0;34m\u001b[0m\u001b[0m\n\u001b[1;32m   1360\u001b[0m             return self.do_open(http.client.HTTPSConnection, req,\n\u001b[0;32m-> 1361\u001b[0;31m                 context=self._context, check_hostname=self._check_hostname)\n\u001b[0m\u001b[1;32m   1362\u001b[0m \u001b[0;34m\u001b[0m\u001b[0m\n\u001b[1;32m   1363\u001b[0m         \u001b[0mhttps_request\u001b[0m \u001b[0;34m=\u001b[0m \u001b[0mAbstractHTTPHandler\u001b[0m\u001b[0;34m.\u001b[0m\u001b[0mdo_request_\u001b[0m\u001b[0;34m\u001b[0m\u001b[0m\n",
      "\u001b[0;32m~/anaconda3/lib/python3.6/urllib/request.py\u001b[0m in \u001b[0;36mdo_open\u001b[0;34m(self, http_class, req, **http_conn_args)\u001b[0m\n\u001b[1;32m   1316\u001b[0m             \u001b[0;32mtry\u001b[0m\u001b[0;34m:\u001b[0m\u001b[0;34m\u001b[0m\u001b[0m\n\u001b[1;32m   1317\u001b[0m                 h.request(req.get_method(), req.selector, req.data, headers,\n\u001b[0;32m-> 1318\u001b[0;31m                           encode_chunked=req.has_header('Transfer-encoding'))\n\u001b[0m\u001b[1;32m   1319\u001b[0m             \u001b[0;32mexcept\u001b[0m \u001b[0mOSError\u001b[0m \u001b[0;32mas\u001b[0m \u001b[0merr\u001b[0m\u001b[0;34m:\u001b[0m \u001b[0;31m# timeout error\u001b[0m\u001b[0;34m\u001b[0m\u001b[0m\n\u001b[1;32m   1320\u001b[0m                 \u001b[0;32mraise\u001b[0m \u001b[0mURLError\u001b[0m\u001b[0;34m(\u001b[0m\u001b[0merr\u001b[0m\u001b[0;34m)\u001b[0m\u001b[0;34m\u001b[0m\u001b[0m\n",
      "\u001b[0;32m~/anaconda3/lib/python3.6/http/client.py\u001b[0m in \u001b[0;36mrequest\u001b[0;34m(self, method, url, body, headers, encode_chunked)\u001b[0m\n\u001b[1;32m   1237\u001b[0m                 encode_chunked=False):\n\u001b[1;32m   1238\u001b[0m         \u001b[0;34m\"\"\"Send a complete request to the server.\"\"\"\u001b[0m\u001b[0;34m\u001b[0m\u001b[0m\n\u001b[0;32m-> 1239\u001b[0;31m         \u001b[0mself\u001b[0m\u001b[0;34m.\u001b[0m\u001b[0m_send_request\u001b[0m\u001b[0;34m(\u001b[0m\u001b[0mmethod\u001b[0m\u001b[0;34m,\u001b[0m \u001b[0murl\u001b[0m\u001b[0;34m,\u001b[0m \u001b[0mbody\u001b[0m\u001b[0;34m,\u001b[0m \u001b[0mheaders\u001b[0m\u001b[0;34m,\u001b[0m \u001b[0mencode_chunked\u001b[0m\u001b[0;34m)\u001b[0m\u001b[0;34m\u001b[0m\u001b[0m\n\u001b[0m\u001b[1;32m   1240\u001b[0m \u001b[0;34m\u001b[0m\u001b[0m\n\u001b[1;32m   1241\u001b[0m     \u001b[0;32mdef\u001b[0m \u001b[0m_send_request\u001b[0m\u001b[0;34m(\u001b[0m\u001b[0mself\u001b[0m\u001b[0;34m,\u001b[0m \u001b[0mmethod\u001b[0m\u001b[0;34m,\u001b[0m \u001b[0murl\u001b[0m\u001b[0;34m,\u001b[0m \u001b[0mbody\u001b[0m\u001b[0;34m,\u001b[0m \u001b[0mheaders\u001b[0m\u001b[0;34m,\u001b[0m \u001b[0mencode_chunked\u001b[0m\u001b[0;34m)\u001b[0m\u001b[0;34m:\u001b[0m\u001b[0;34m\u001b[0m\u001b[0m\n",
      "\u001b[0;32m~/anaconda3/lib/python3.6/http/client.py\u001b[0m in \u001b[0;36m_send_request\u001b[0;34m(self, method, url, body, headers, encode_chunked)\u001b[0m\n\u001b[1;32m   1248\u001b[0m             \u001b[0mskips\u001b[0m\u001b[0;34m[\u001b[0m\u001b[0;34m'skip_accept_encoding'\u001b[0m\u001b[0;34m]\u001b[0m \u001b[0;34m=\u001b[0m \u001b[0;36m1\u001b[0m\u001b[0;34m\u001b[0m\u001b[0m\n\u001b[1;32m   1249\u001b[0m \u001b[0;34m\u001b[0m\u001b[0m\n\u001b[0;32m-> 1250\u001b[0;31m         \u001b[0mself\u001b[0m\u001b[0;34m.\u001b[0m\u001b[0mputrequest\u001b[0m\u001b[0;34m(\u001b[0m\u001b[0mmethod\u001b[0m\u001b[0;34m,\u001b[0m \u001b[0murl\u001b[0m\u001b[0;34m,\u001b[0m \u001b[0;34m**\u001b[0m\u001b[0mskips\u001b[0m\u001b[0;34m)\u001b[0m\u001b[0;34m\u001b[0m\u001b[0m\n\u001b[0m\u001b[1;32m   1251\u001b[0m \u001b[0;34m\u001b[0m\u001b[0m\n\u001b[1;32m   1252\u001b[0m         \u001b[0;31m# chunked encoding will happen if HTTP/1.1 is used and either\u001b[0m\u001b[0;34m\u001b[0m\u001b[0;34m\u001b[0m\u001b[0m\n",
      "\u001b[0;32m~/anaconda3/lib/python3.6/http/client.py\u001b[0m in \u001b[0;36mputrequest\u001b[0;34m(self, method, url, skip_host, skip_accept_encoding)\u001b[0m\n\u001b[1;32m   1115\u001b[0m \u001b[0;34m\u001b[0m\u001b[0m\n\u001b[1;32m   1116\u001b[0m         \u001b[0;31m# Non-ASCII characters should have been eliminated earlier\u001b[0m\u001b[0;34m\u001b[0m\u001b[0;34m\u001b[0m\u001b[0m\n\u001b[0;32m-> 1117\u001b[0;31m         \u001b[0mself\u001b[0m\u001b[0;34m.\u001b[0m\u001b[0m_output\u001b[0m\u001b[0;34m(\u001b[0m\u001b[0mrequest\u001b[0m\u001b[0;34m.\u001b[0m\u001b[0mencode\u001b[0m\u001b[0;34m(\u001b[0m\u001b[0;34m'ascii'\u001b[0m\u001b[0;34m)\u001b[0m\u001b[0;34m)\u001b[0m\u001b[0;34m\u001b[0m\u001b[0m\n\u001b[0m\u001b[1;32m   1118\u001b[0m \u001b[0;34m\u001b[0m\u001b[0m\n\u001b[1;32m   1119\u001b[0m         \u001b[0;32mif\u001b[0m \u001b[0mself\u001b[0m\u001b[0;34m.\u001b[0m\u001b[0m_http_vsn\u001b[0m \u001b[0;34m==\u001b[0m \u001b[0;36m11\u001b[0m\u001b[0;34m:\u001b[0m\u001b[0;34m\u001b[0m\u001b[0m\n",
      "\u001b[0;31mUnicodeEncodeError\u001b[0m: 'ascii' codec can't encode characters in position 52-53: ordinal not in range(128)"
     ]
    }
   ],
   "source": [
    "data.append(get_location(links_ams[0], city='Amsterdam'))"
   ]
  },
  {
   "cell_type": "code",
   "execution_count": null,
   "metadata": {
    "ExecuteTime": {
     "end_time": "2019-02-14T10:28:51.276864Z",
     "start_time": "2019-02-14T10:28:49.514Z"
    }
   },
   "outputs": [],
   "source": [
    "data"
   ]
  },
  {
   "cell_type": "markdown",
   "metadata": {},
   "source": [
    "## Automation for one page"
   ]
  },
  {
   "cell_type": "code",
   "execution_count": 15,
   "metadata": {
    "ExecuteTime": {
     "end_time": "2019-02-14T10:29:14.849530Z",
     "start_time": "2019-02-14T10:29:14.836307Z"
    }
   },
   "outputs": [],
   "source": [
    "def mini_scraper(url, city):\n",
    "    \n",
    "    links = extract_outgoing_links(url)\n",
    "    df = pd.DataFrame(columns=['Rent', 'Available from', 'Surface', 'Interior', 'Number of bedrooms',  'Location'])\n",
    "    \n",
    "    for i, link in enumerate(links):\n",
    "        try:\n",
    "            data = get_rent_details(link)\n",
    "            data.append(get_location(link, city))\n",
    "            df.loc[i] = data\n",
    "            print('Scraping url {}/{}'.format(i+1, len(links)), end='\\r')\n",
    "        except:\n",
    "            print(link)\n",
    "    return df"
   ]
  },
  {
   "cell_type": "code",
   "execution_count": 16,
   "metadata": {
    "ExecuteTime": {
     "end_time": "2019-02-14T10:29:37.252904Z",
     "start_time": "2019-02-14T10:29:14.988868Z"
    },
    "scrolled": true
   },
   "outputs": [
    {
     "name": "stdout",
     "output_type": "stream",
     "text": [
      "Scraping url 20/20\r"
     ]
    },
    {
     "data": {
      "text/html": [
       "<div>\n",
       "<style scoped>\n",
       "    .dataframe tbody tr th:only-of-type {\n",
       "        vertical-align: middle;\n",
       "    }\n",
       "\n",
       "    .dataframe tbody tr th {\n",
       "        vertical-align: top;\n",
       "    }\n",
       "\n",
       "    .dataframe thead th {\n",
       "        text-align: right;\n",
       "    }\n",
       "</style>\n",
       "<table border=\"1\" class=\"dataframe\">\n",
       "  <thead>\n",
       "    <tr style=\"text-align: right;\">\n",
       "      <th></th>\n",
       "      <th>Rent</th>\n",
       "      <th>Available from</th>\n",
       "      <th>Surface</th>\n",
       "      <th>Interior</th>\n",
       "      <th>Number of bedrooms</th>\n",
       "      <th>Location</th>\n",
       "    </tr>\n",
       "  </thead>\n",
       "  <tbody>\n",
       "    <tr>\n",
       "      <th>0</th>\n",
       "      <td>720</td>\n",
       "      <td>right away</td>\n",
       "      <td>52</td>\n",
       "      <td>upholstered</td>\n",
       "      <td>1</td>\n",
       "      <td>Keucheniusstraat 3038SK Rotterdam</td>\n",
       "    </tr>\n",
       "    <tr>\n",
       "      <th>1</th>\n",
       "      <td>595</td>\n",
       "      <td>right away</td>\n",
       "      <td>55</td>\n",
       "      <td>upholstered</td>\n",
       "      <td>2</td>\n",
       "      <td>Pleinweg 3081JR Rotterdam</td>\n",
       "    </tr>\n",
       "    <tr>\n",
       "      <th>2</th>\n",
       "      <td>595</td>\n",
       "      <td>right away</td>\n",
       "      <td>49</td>\n",
       "      <td>upholstered</td>\n",
       "      <td>1</td>\n",
       "      <td>Frans Bekkerstraat 3082TP Rotterdam</td>\n",
       "    </tr>\n",
       "    <tr>\n",
       "      <th>3</th>\n",
       "      <td>710</td>\n",
       "      <td>right away</td>\n",
       "      <td>56</td>\n",
       "      <td>upholstered</td>\n",
       "      <td>2</td>\n",
       "      <td>Fazantstraat 3083ZE Rotterdam</td>\n",
       "    </tr>\n",
       "    <tr>\n",
       "      <th>4</th>\n",
       "      <td>675</td>\n",
       "      <td>01-03-2019</td>\n",
       "      <td>20</td>\n",
       "      <td>upholstered</td>\n",
       "      <td>1</td>\n",
       "      <td>Rental house: Room renting in Rotterdam Mathen...</td>\n",
       "    </tr>\n",
       "  </tbody>\n",
       "</table>\n",
       "</div>"
      ],
      "text/plain": [
       "  Rent Available from Surface     Interior Number of bedrooms  \\\n",
       "0  720     right away      52  upholstered                  1   \n",
       "1  595     right away      55  upholstered                  2   \n",
       "2  595     right away      49  upholstered                  1   \n",
       "3  710     right away      56  upholstered                  2   \n",
       "4  675     01-03-2019      20  upholstered                  1   \n",
       "\n",
       "                                            Location  \n",
       "0                  Keucheniusstraat 3038SK Rotterdam  \n",
       "1                          Pleinweg 3081JR Rotterdam  \n",
       "2                Frans Bekkerstraat 3082TP Rotterdam  \n",
       "3                      Fazantstraat 3083ZE Rotterdam  \n",
       "4  Rental house: Room renting in Rotterdam Mathen...  "
      ]
     },
     "execution_count": 16,
     "metadata": {},
     "output_type": "execute_result"
    }
   ],
   "source": [
    "df = mini_scraper(cfg_rot.url, city='Rotterdam')\n",
    "df.head()"
   ]
  },
  {
   "cell_type": "markdown",
   "metadata": {},
   "source": [
    "## Main Scraper"
   ]
  },
  {
   "cell_type": "code",
   "execution_count": 19,
   "metadata": {
    "ExecuteTime": {
     "end_time": "2019-02-14T10:29:55.747743Z",
     "start_time": "2019-02-14T10:29:55.741283Z"
    }
   },
   "outputs": [],
   "source": [
    "def main_scraper(url, city, nb_page):\n",
    "    print('Scraping page: 1/{}'.format(nb_page))\n",
    "    df = mini_scraper(url, city)\n",
    "    df_list = [df]\n",
    "    for i in range(1, nb_page):\n",
    "        print('Scraping page: {}/{}'.format(i+1, nb_page))\n",
    "        url = edit_url(url, i)\n",
    "        df_list.append(mini_scraper(url, city))\n",
    "    df = pd.concat(df_list)\n",
    "    return df"
   ]
  },
  {
   "cell_type": "markdown",
   "metadata": {},
   "source": [
    "### Amsterdam"
   ]
  },
  {
   "cell_type": "code",
   "execution_count": 20,
   "metadata": {
    "ExecuteTime": {
     "end_time": "2019-02-14T10:32:43.666503Z",
     "start_time": "2019-02-14T10:29:55.917088Z"
    },
    "scrolled": true
   },
   "outputs": [
    {
     "name": "stdout",
     "output_type": "stream",
     "text": [
      "Scraping page: 1/8\n",
      "https://www.huurda.com/properties_for_rent_in_Amsterdam/Apartment/CuraÃ§aostraat--404633/\n",
      "https://www.huurda.com/properties_for_rent_in_Amsterdam/Apartment/BethaniÃ«ndwarsstraat--403731/\n",
      "Scraping page: 2/8\n",
      "https://www.huurda.com/properties_for_rent_in_Amsterdam/Apartment/CuraÃ§aostraat--404633/\n",
      "https://www.huurda.com/properties_for_rent_in_Amsterdam/Apartment/BethaniÃ«ndwarsstraat--403731/\n",
      "Scraping page: 3/8\n",
      "Scraping page: 4/8\n",
      "Scraping page: 5/8\n",
      "Scraping page: 6/8\n",
      "Scraping page: 7/8\n",
      "Scraping page: 8/8\n",
      "https://www.huurda.com/properties_for_rent_in_Amsterdam/Apartment/Sint_LuciÃ«nsteeg--278166/\n",
      "Scraping url 20/20\r"
     ]
    }
   ],
   "source": [
    "df_ams = main_scraper(cfg_ams.url, city='Amsterdam', nb_page=8)"
   ]
  },
  {
   "cell_type": "code",
   "execution_count": 21,
   "metadata": {
    "ExecuteTime": {
     "end_time": "2019-02-14T10:32:43.685194Z",
     "start_time": "2019-02-14T10:32:43.669761Z"
    }
   },
   "outputs": [
    {
     "data": {
      "text/plain": [
       "(155, 6)"
      ]
     },
     "execution_count": 21,
     "metadata": {},
     "output_type": "execute_result"
    }
   ],
   "source": [
    "df_ams.shape"
   ]
  },
  {
   "cell_type": "code",
   "execution_count": 41,
   "metadata": {
    "ExecuteTime": {
     "end_time": "2019-02-14T10:49:58.335775Z",
     "start_time": "2019-02-14T10:49:58.319489Z"
    }
   },
   "outputs": [
    {
     "data": {
      "text/html": [
       "<div>\n",
       "<style scoped>\n",
       "    .dataframe tbody tr th:only-of-type {\n",
       "        vertical-align: middle;\n",
       "    }\n",
       "\n",
       "    .dataframe tbody tr th {\n",
       "        vertical-align: top;\n",
       "    }\n",
       "\n",
       "    .dataframe thead th {\n",
       "        text-align: right;\n",
       "    }\n",
       "</style>\n",
       "<table border=\"1\" class=\"dataframe\">\n",
       "  <thead>\n",
       "    <tr style=\"text-align: right;\">\n",
       "      <th></th>\n",
       "      <th>Rent</th>\n",
       "      <th>Available from</th>\n",
       "      <th>Surface</th>\n",
       "      <th>Interior</th>\n",
       "      <th>Number of bedrooms</th>\n",
       "      <th>Location</th>\n",
       "    </tr>\n",
       "  </thead>\n",
       "  <tbody>\n",
       "    <tr>\n",
       "      <th>15</th>\n",
       "      <td>1.900</td>\n",
       "      <td>right away</td>\n",
       "      <td>80</td>\n",
       "      <td>furnished</td>\n",
       "      <td>2</td>\n",
       "      <td>Plantage Kerklaan 1018SX Amsterdam</td>\n",
       "    </tr>\n",
       "    <tr>\n",
       "      <th>16</th>\n",
       "      <td>1.750</td>\n",
       "      <td>right away</td>\n",
       "      <td>45</td>\n",
       "      <td>furnished</td>\n",
       "      <td>2</td>\n",
       "      <td>Rental house: Apartment renting in amsterdam w...</td>\n",
       "    </tr>\n",
       "    <tr>\n",
       "      <th>17</th>\n",
       "      <td>5.750</td>\n",
       "      <td>right away</td>\n",
       "      <td>335</td>\n",
       "      <td>furnished possible</td>\n",
       "      <td>n.a.</td>\n",
       "      <td>Rental house renting in Amsterdam, Van der Mad...</td>\n",
       "    </tr>\n",
       "    <tr>\n",
       "      <th>18</th>\n",
       "      <td>3.500</td>\n",
       "      <td>right away</td>\n",
       "      <td>130</td>\n",
       "      <td>furnished</td>\n",
       "      <td>2</td>\n",
       "      <td>Staalkade 1011JN Amsterdam</td>\n",
       "    </tr>\n",
       "    <tr>\n",
       "      <th>19</th>\n",
       "      <td>1.950</td>\n",
       "      <td>right away</td>\n",
       "      <td>90</td>\n",
       "      <td>furnished</td>\n",
       "      <td>1</td>\n",
       "      <td>Paardenstraat 1017CX Amsterdam</td>\n",
       "    </tr>\n",
       "  </tbody>\n",
       "</table>\n",
       "</div>"
      ],
      "text/plain": [
       "     Rent Available from Surface            Interior Number of bedrooms  \\\n",
       "15  1.900     right away      80           furnished                  2   \n",
       "16  1.750     right away      45           furnished                  2   \n",
       "17  5.750     right away     335  furnished possible               n.a.   \n",
       "18  3.500     right away     130           furnished                  2   \n",
       "19  1.950     right away      90           furnished                  1   \n",
       "\n",
       "                                             Location  \n",
       "15                 Plantage Kerklaan 1018SX Amsterdam  \n",
       "16  Rental house: Apartment renting in amsterdam w...  \n",
       "17  Rental house renting in Amsterdam, Van der Mad...  \n",
       "18                         Staalkade 1011JN Amsterdam  \n",
       "19                     Paardenstraat 1017CX Amsterdam  "
      ]
     },
     "execution_count": 41,
     "metadata": {},
     "output_type": "execute_result"
    }
   ],
   "source": [
    "df_ams.tail()"
   ]
  },
  {
   "cell_type": "code",
   "execution_count": 52,
   "metadata": {
    "ExecuteTime": {
     "end_time": "2019-02-14T10:53:22.528258Z",
     "start_time": "2019-02-14T10:53:22.522594Z"
    },
    "scrolled": true
   },
   "outputs": [],
   "source": [
    "test  = df_ams.loc[19, 'Location'].iloc[3]"
   ]
  },
  {
   "cell_type": "code",
   "execution_count": 53,
   "metadata": {
    "ExecuteTime": {
     "end_time": "2019-02-14T10:53:22.969988Z",
     "start_time": "2019-02-14T10:53:22.959048Z"
    }
   },
   "outputs": [
    {
     "data": {
      "text/plain": [
       "16"
      ]
     },
     "execution_count": 53,
     "metadata": {},
     "output_type": "execute_result"
    }
   ],
   "source": [
    "len(test.split())"
   ]
  },
  {
   "cell_type": "code",
   "execution_count": 54,
   "metadata": {
    "ExecuteTime": {
     "end_time": "2019-02-14T10:53:26.880428Z",
     "start_time": "2019-02-14T10:53:26.867379Z"
    }
   },
   "outputs": [
    {
     "data": {
      "text/plain": [
       "'Rental house renting in Amsterdam, Kloveniersburgwal Rental house: Rental house renting in Amsterdam Kloveniersburgwal 1012CT Amsterdam'"
      ]
     },
     "execution_count": 54,
     "metadata": {},
     "output_type": "execute_result"
    }
   ],
   "source": [
    "test"
   ]
  },
  {
   "cell_type": "markdown",
   "metadata": {},
   "source": [
    "### Rotterdam"
   ]
  },
  {
   "cell_type": "code",
   "execution_count": 22,
   "metadata": {
    "ExecuteTime": {
     "end_time": "2019-02-14T10:36:17.330641Z",
     "start_time": "2019-02-14T10:32:43.688593Z"
    }
   },
   "outputs": [
    {
     "name": "stdout",
     "output_type": "stream",
     "text": [
      "Scraping page: 1/13\n",
      "Scraping page: 2/13\n",
      "Scraping page: 3/13\n",
      "Scraping page: 4/13\n",
      "Scraping page: 5/13\n",
      "Scraping page: 6/13\n",
      "Scraping page: 7/13\n",
      "Scraping page: 8/13\n",
      "Scraping page: 9/13\n",
      "Scraping page: 10/13\n",
      "Scraping page: 11/13\n",
      "Scraping page: 12/13\n",
      "Scraping page: 13/13\n"
     ]
    }
   ],
   "source": [
    "df_rot = main_scraper(cfg_rot.url, city='Rotterdam', nb_page=13)"
   ]
  },
  {
   "cell_type": "code",
   "execution_count": 23,
   "metadata": {
    "ExecuteTime": {
     "end_time": "2019-02-14T10:36:17.343819Z",
     "start_time": "2019-02-14T10:36:17.333976Z"
    }
   },
   "outputs": [
    {
     "data": {
      "text/plain": [
       "(220, 6)"
      ]
     },
     "execution_count": 23,
     "metadata": {},
     "output_type": "execute_result"
    }
   ],
   "source": [
    "df_rot.shape"
   ]
  },
  {
   "cell_type": "code",
   "execution_count": 24,
   "metadata": {
    "ExecuteTime": {
     "end_time": "2019-02-14T10:36:17.386572Z",
     "start_time": "2019-02-14T10:36:17.347402Z"
    },
    "scrolled": true
   },
   "outputs": [
    {
     "data": {
      "text/html": [
       "<div>\n",
       "<style scoped>\n",
       "    .dataframe tbody tr th:only-of-type {\n",
       "        vertical-align: middle;\n",
       "    }\n",
       "\n",
       "    .dataframe tbody tr th {\n",
       "        vertical-align: top;\n",
       "    }\n",
       "\n",
       "    .dataframe thead th {\n",
       "        text-align: right;\n",
       "    }\n",
       "</style>\n",
       "<table border=\"1\" class=\"dataframe\">\n",
       "  <thead>\n",
       "    <tr style=\"text-align: right;\">\n",
       "      <th></th>\n",
       "      <th>Rent</th>\n",
       "      <th>Available from</th>\n",
       "      <th>Surface</th>\n",
       "      <th>Interior</th>\n",
       "      <th>Number of bedrooms</th>\n",
       "      <th>Location</th>\n",
       "    </tr>\n",
       "  </thead>\n",
       "  <tbody>\n",
       "    <tr>\n",
       "      <th>15</th>\n",
       "      <td>0</td>\n",
       "      <td>right away</td>\n",
       "      <td>70</td>\n",
       "      <td>upholstered</td>\n",
       "      <td>4</td>\n",
       "      <td>Rental house: Apartment renting in Rotterdam-z...</td>\n",
       "    </tr>\n",
       "    <tr>\n",
       "      <th>16</th>\n",
       "      <td>1.250</td>\n",
       "      <td>right away</td>\n",
       "      <td>65</td>\n",
       "      <td>furnished</td>\n",
       "      <td>2</td>\n",
       "      <td>Schiedamsedijk 3011EN Rotterdam</td>\n",
       "    </tr>\n",
       "    <tr>\n",
       "      <th>17</th>\n",
       "      <td>1.500</td>\n",
       "      <td>right away</td>\n",
       "      <td>85</td>\n",
       "      <td>furnished</td>\n",
       "      <td>2</td>\n",
       "      <td>Wijnbrugstraat 3011XW Rotterdam</td>\n",
       "    </tr>\n",
       "    <tr>\n",
       "      <th>18</th>\n",
       "      <td>0</td>\n",
       "      <td>right away</td>\n",
       "      <td>20</td>\n",
       "      <td>upholstered</td>\n",
       "      <td>1</td>\n",
       "      <td>Rental house: Room renting in Rotterdam-centru...</td>\n",
       "    </tr>\n",
       "    <tr>\n",
       "      <th>19</th>\n",
       "      <td>1.100</td>\n",
       "      <td>right away</td>\n",
       "      <td>55</td>\n",
       "      <td>upholstered</td>\n",
       "      <td>1</td>\n",
       "      <td>Schiedamsesingel 3012BA Rotterdam</td>\n",
       "    </tr>\n",
       "  </tbody>\n",
       "</table>\n",
       "</div>"
      ],
      "text/plain": [
       "     Rent Available from Surface     Interior Number of bedrooms  \\\n",
       "15      0     right away      70  upholstered                  4   \n",
       "16  1.250     right away      65    furnished                  2   \n",
       "17  1.500     right away      85    furnished                  2   \n",
       "18      0     right away      20  upholstered                  1   \n",
       "19  1.100     right away      55  upholstered                  1   \n",
       "\n",
       "                                             Location  \n",
       "15  Rental house: Apartment renting in Rotterdam-z...  \n",
       "16                    Schiedamsedijk 3011EN Rotterdam  \n",
       "17                    Wijnbrugstraat 3011XW Rotterdam  \n",
       "18  Rental house: Room renting in Rotterdam-centru...  \n",
       "19                  Schiedamsesingel 3012BA Rotterdam  "
      ]
     },
     "execution_count": 24,
     "metadata": {},
     "output_type": "execute_result"
    }
   ],
   "source": [
    "df_rot.tail()"
   ]
  },
  {
   "cell_type": "markdown",
   "metadata": {},
   "source": [
    "### Den Haag"
   ]
  },
  {
   "cell_type": "code",
   "execution_count": 25,
   "metadata": {
    "ExecuteTime": {
     "end_time": "2019-02-14T10:40:18.024307Z",
     "start_time": "2019-02-14T10:36:17.402342Z"
    }
   },
   "outputs": [
    {
     "name": "stdout",
     "output_type": "stream",
     "text": [
      "Scraping page: 1/12\n",
      "Scraping page: 2/12\n",
      "Scraping page: 3/12\n",
      "https://www.huurda.com/properties_for_rent_in_Den_Haag/Upstairs_apartment/LandrÃ©straat--391694/\n",
      "Scraping page: 4/12\n",
      "Scraping page: 5/12\n",
      "Scraping page: 6/12\n",
      "Scraping page: 7/12\n",
      "Scraping page: 8/12\n",
      "Scraping page: 9/12\n",
      "Scraping page: 10/12\n",
      "Scraping page: 11/12\n",
      "Scraping page: 12/12\n"
     ]
    }
   ],
   "source": [
    "df_haag = main_scraper(cfg_haag.url, city='Den Haag', nb_page=12)"
   ]
  },
  {
   "cell_type": "code",
   "execution_count": 26,
   "metadata": {
    "ExecuteTime": {
     "end_time": "2019-02-14T10:40:18.033346Z",
     "start_time": "2019-02-14T10:40:18.026874Z"
    }
   },
   "outputs": [
    {
     "data": {
      "text/plain": [
       "(219, 6)"
      ]
     },
     "execution_count": 26,
     "metadata": {},
     "output_type": "execute_result"
    }
   ],
   "source": [
    "df_haag.shape"
   ]
  },
  {
   "cell_type": "code",
   "execution_count": 27,
   "metadata": {
    "ExecuteTime": {
     "end_time": "2019-02-14T10:40:18.050930Z",
     "start_time": "2019-02-14T10:40:18.036449Z"
    }
   },
   "outputs": [
    {
     "data": {
      "text/html": [
       "<div>\n",
       "<style scoped>\n",
       "    .dataframe tbody tr th:only-of-type {\n",
       "        vertical-align: middle;\n",
       "    }\n",
       "\n",
       "    .dataframe tbody tr th {\n",
       "        vertical-align: top;\n",
       "    }\n",
       "\n",
       "    .dataframe thead th {\n",
       "        text-align: right;\n",
       "    }\n",
       "</style>\n",
       "<table border=\"1\" class=\"dataframe\">\n",
       "  <thead>\n",
       "    <tr style=\"text-align: right;\">\n",
       "      <th></th>\n",
       "      <th>Rent</th>\n",
       "      <th>Available from</th>\n",
       "      <th>Surface</th>\n",
       "      <th>Interior</th>\n",
       "      <th>Number of bedrooms</th>\n",
       "      <th>Location</th>\n",
       "    </tr>\n",
       "  </thead>\n",
       "  <tbody>\n",
       "    <tr>\n",
       "      <th>0</th>\n",
       "      <td>835</td>\n",
       "      <td>right away</td>\n",
       "      <td>50</td>\n",
       "      <td>upholstered</td>\n",
       "      <td>1</td>\n",
       "      <td>Van de Spiegelstraat 2518 ES Den Haag</td>\n",
       "    </tr>\n",
       "    <tr>\n",
       "      <th>1</th>\n",
       "      <td>960</td>\n",
       "      <td>right away</td>\n",
       "      <td>50</td>\n",
       "      <td>upholstered</td>\n",
       "      <td>2</td>\n",
       "      <td>Nicolaas Tulpstraat 2563 XL Den Haag</td>\n",
       "    </tr>\n",
       "    <tr>\n",
       "      <th>2</th>\n",
       "      <td>995</td>\n",
       "      <td>right away</td>\n",
       "      <td>70</td>\n",
       "      <td>furnished possible</td>\n",
       "      <td>2</td>\n",
       "      <td>Veenendaalkade 2547 AR Den Haag</td>\n",
       "    </tr>\n",
       "    <tr>\n",
       "      <th>3</th>\n",
       "      <td>1.850</td>\n",
       "      <td>25-04-2019</td>\n",
       "      <td>185</td>\n",
       "      <td>furnished</td>\n",
       "      <td>4</td>\n",
       "      <td>Rental house: Family house renting in Den Haag...</td>\n",
       "    </tr>\n",
       "    <tr>\n",
       "      <th>4</th>\n",
       "      <td>2.195</td>\n",
       "      <td>01-03-2019</td>\n",
       "      <td>90</td>\n",
       "      <td>furnished</td>\n",
       "      <td>2</td>\n",
       "      <td>Turfhaven 2511 DK Den Haag</td>\n",
       "    </tr>\n",
       "  </tbody>\n",
       "</table>\n",
       "</div>"
      ],
      "text/plain": [
       "    Rent Available from Surface            Interior Number of bedrooms  \\\n",
       "0    835     right away      50         upholstered                  1   \n",
       "1    960     right away      50         upholstered                  2   \n",
       "2    995     right away      70  furnished possible                  2   \n",
       "3  1.850     25-04-2019     185           furnished                  4   \n",
       "4  2.195     01-03-2019      90           furnished                  2   \n",
       "\n",
       "                                            Location  \n",
       "0              Van de Spiegelstraat 2518 ES Den Haag  \n",
       "1               Nicolaas Tulpstraat 2563 XL Den Haag  \n",
       "2                    Veenendaalkade 2547 AR Den Haag  \n",
       "3  Rental house: Family house renting in Den Haag...  \n",
       "4                         Turfhaven 2511 DK Den Haag  "
      ]
     },
     "execution_count": 27,
     "metadata": {},
     "output_type": "execute_result"
    }
   ],
   "source": [
    "df_haag.head()"
   ]
  },
  {
   "cell_type": "markdown",
   "metadata": {},
   "source": [
    "### Groningen"
   ]
  },
  {
   "cell_type": "code",
   "execution_count": 28,
   "metadata": {
    "ExecuteTime": {
     "end_time": "2019-02-14T10:42:16.132509Z",
     "start_time": "2019-02-14T10:40:18.053977Z"
    }
   },
   "outputs": [
    {
     "name": "stdout",
     "output_type": "stream",
     "text": [
      "Scraping page: 1/6\n",
      "Scraping page: 2/6\n",
      "Scraping page: 3/6\n",
      "Scraping page: 4/6\n",
      "Scraping page: 5/6\n",
      "Scraping page: 6/6\n",
      "Scraping url 20/20\r"
     ]
    }
   ],
   "source": [
    "df_gro = main_scraper(cfg_gro.url, city='Groningen', nb_page=6)"
   ]
  },
  {
   "cell_type": "code",
   "execution_count": 29,
   "metadata": {
    "ExecuteTime": {
     "end_time": "2019-02-14T10:42:16.143704Z",
     "start_time": "2019-02-14T10:42:16.136340Z"
    }
   },
   "outputs": [
    {
     "data": {
      "text/plain": [
       "(120, 6)"
      ]
     },
     "execution_count": 29,
     "metadata": {},
     "output_type": "execute_result"
    }
   ],
   "source": [
    "df_gro.shape"
   ]
  },
  {
   "cell_type": "code",
   "execution_count": 30,
   "metadata": {
    "ExecuteTime": {
     "end_time": "2019-02-14T10:42:16.167797Z",
     "start_time": "2019-02-14T10:42:16.148079Z"
    }
   },
   "outputs": [
    {
     "data": {
      "text/html": [
       "<div>\n",
       "<style scoped>\n",
       "    .dataframe tbody tr th:only-of-type {\n",
       "        vertical-align: middle;\n",
       "    }\n",
       "\n",
       "    .dataframe tbody tr th {\n",
       "        vertical-align: top;\n",
       "    }\n",
       "\n",
       "    .dataframe thead th {\n",
       "        text-align: right;\n",
       "    }\n",
       "</style>\n",
       "<table border=\"1\" class=\"dataframe\">\n",
       "  <thead>\n",
       "    <tr style=\"text-align: right;\">\n",
       "      <th></th>\n",
       "      <th>Rent</th>\n",
       "      <th>Available from</th>\n",
       "      <th>Surface</th>\n",
       "      <th>Interior</th>\n",
       "      <th>Number of bedrooms</th>\n",
       "      <th>Location</th>\n",
       "    </tr>\n",
       "  </thead>\n",
       "  <tbody>\n",
       "    <tr>\n",
       "      <th>0</th>\n",
       "      <td>975</td>\n",
       "      <td>01-03-2019</td>\n",
       "      <td>190</td>\n",
       "      <td>upholstered</td>\n",
       "      <td>5</td>\n",
       "      <td>Rental house: Family house renting in Stitswer...</td>\n",
       "    </tr>\n",
       "    <tr>\n",
       "      <th>1</th>\n",
       "      <td>850</td>\n",
       "      <td>15-04-2019</td>\n",
       "      <td>55</td>\n",
       "      <td>furnished</td>\n",
       "      <td>1</td>\n",
       "      <td>Witte de Withstraat 9726EC Groningen</td>\n",
       "    </tr>\n",
       "    <tr>\n",
       "      <th>2</th>\n",
       "      <td>1.155</td>\n",
       "      <td>01-03-2019</td>\n",
       "      <td>85</td>\n",
       "      <td>furnished</td>\n",
       "      <td>2</td>\n",
       "      <td>Rental house: Family house renting in Groninge...</td>\n",
       "    </tr>\n",
       "    <tr>\n",
       "      <th>3</th>\n",
       "      <td>700</td>\n",
       "      <td>right away</td>\n",
       "      <td>120</td>\n",
       "      <td>upholstered</td>\n",
       "      <td>4</td>\n",
       "      <td>Rental house: Family house renting in Nieuw Be...</td>\n",
       "    </tr>\n",
       "    <tr>\n",
       "      <th>4</th>\n",
       "      <td>1.295</td>\n",
       "      <td>right away</td>\n",
       "      <td>118</td>\n",
       "      <td>upholstered</td>\n",
       "      <td>4</td>\n",
       "      <td>Rental house: Family house renting in Groninge...</td>\n",
       "    </tr>\n",
       "  </tbody>\n",
       "</table>\n",
       "</div>"
      ],
      "text/plain": [
       "    Rent Available from Surface     Interior Number of bedrooms  \\\n",
       "0    975     01-03-2019     190  upholstered                  5   \n",
       "1    850     15-04-2019      55    furnished                  1   \n",
       "2  1.155     01-03-2019      85    furnished                  2   \n",
       "3    700     right away     120  upholstered                  4   \n",
       "4  1.295     right away     118  upholstered                  4   \n",
       "\n",
       "                                            Location  \n",
       "0  Rental house: Family house renting in Stitswer...  \n",
       "1               Witte de Withstraat 9726EC Groningen  \n",
       "2  Rental house: Family house renting in Groninge...  \n",
       "3  Rental house: Family house renting in Nieuw Be...  \n",
       "4  Rental house: Family house renting in Groninge...  "
      ]
     },
     "execution_count": 30,
     "metadata": {},
     "output_type": "execute_result"
    }
   ],
   "source": [
    "df_gro.head()"
   ]
  },
  {
   "cell_type": "markdown",
   "metadata": {},
   "source": [
    "### Utrecht"
   ]
  },
  {
   "cell_type": "code",
   "execution_count": 31,
   "metadata": {
    "ExecuteTime": {
     "end_time": "2019-02-14T10:45:58.287658Z",
     "start_time": "2019-02-14T10:42:16.171297Z"
    }
   },
   "outputs": [
    {
     "name": "stdout",
     "output_type": "stream",
     "text": [
      "Scraping page: 1/10\n",
      "https://www.huurda.com/properties_for_rent_in_Utrecht/Upstairs_apartment/Aziëlaan--404464/\n",
      "Scraping page: 2/10\n",
      "https://www.huurda.com/properties_for_rent_in_Utrecht/Upstairs_apartment/Aziëlaan--404464/\n",
      "Scraping page: 3/10\n",
      "Scraping page: 4/10\n",
      "Scraping page: 5/10\n",
      "Scraping page: 6/10\n",
      "Scraping page: 7/10\n",
      "Scraping page: 8/10\n",
      "Scraping page: 9/10\n",
      "Scraping page: 10/10\n",
      "Scraping url 20/20\r"
     ]
    }
   ],
   "source": [
    "df_utr = main_scraper(cfg_utr.url, city='Utrecht', nb_page=10)"
   ]
  },
  {
   "cell_type": "code",
   "execution_count": 32,
   "metadata": {
    "ExecuteTime": {
     "end_time": "2019-02-14T10:45:58.301331Z",
     "start_time": "2019-02-14T10:45:58.289914Z"
    }
   },
   "outputs": [
    {
     "data": {
      "text/plain": [
       "(198, 6)"
      ]
     },
     "execution_count": 32,
     "metadata": {},
     "output_type": "execute_result"
    }
   ],
   "source": [
    "df_utr.shape"
   ]
  },
  {
   "cell_type": "code",
   "execution_count": 33,
   "metadata": {
    "ExecuteTime": {
     "end_time": "2019-02-14T10:45:58.355731Z",
     "start_time": "2019-02-14T10:45:58.304819Z"
    },
    "scrolled": true
   },
   "outputs": [
    {
     "data": {
      "text/html": [
       "<div>\n",
       "<style scoped>\n",
       "    .dataframe tbody tr th:only-of-type {\n",
       "        vertical-align: middle;\n",
       "    }\n",
       "\n",
       "    .dataframe tbody tr th {\n",
       "        vertical-align: top;\n",
       "    }\n",
       "\n",
       "    .dataframe thead th {\n",
       "        text-align: right;\n",
       "    }\n",
       "</style>\n",
       "<table border=\"1\" class=\"dataframe\">\n",
       "  <thead>\n",
       "    <tr style=\"text-align: right;\">\n",
       "      <th></th>\n",
       "      <th>Rent</th>\n",
       "      <th>Available from</th>\n",
       "      <th>Surface</th>\n",
       "      <th>Interior</th>\n",
       "      <th>Number of bedrooms</th>\n",
       "      <th>Location</th>\n",
       "    </tr>\n",
       "  </thead>\n",
       "  <tbody>\n",
       "    <tr>\n",
       "      <th>0</th>\n",
       "      <td>1.000</td>\n",
       "      <td>01-03-2019</td>\n",
       "      <td>40</td>\n",
       "      <td>upholstered</td>\n",
       "      <td>2</td>\n",
       "      <td>Lucas Bolwerk 3512EH Utrecht</td>\n",
       "    </tr>\n",
       "    <tr>\n",
       "      <th>1</th>\n",
       "      <td>1.375</td>\n",
       "      <td>01-03-2019</td>\n",
       "      <td>80</td>\n",
       "      <td>upholstered</td>\n",
       "      <td>2</td>\n",
       "      <td>Kintgenshaven 3512GA Utrecht</td>\n",
       "    </tr>\n",
       "    <tr>\n",
       "      <th>2</th>\n",
       "      <td>1.250</td>\n",
       "      <td>01-03-2019</td>\n",
       "      <td>100</td>\n",
       "      <td>furnished</td>\n",
       "      <td>2</td>\n",
       "      <td>Rental house: Family house renting in Soesterb...</td>\n",
       "    </tr>\n",
       "    <tr>\n",
       "      <th>3</th>\n",
       "      <td>2.750</td>\n",
       "      <td>right away</td>\n",
       "      <td>125</td>\n",
       "      <td>upholstered</td>\n",
       "      <td>3</td>\n",
       "      <td>Voorstraat 3512 AH Utrecht</td>\n",
       "    </tr>\n",
       "    <tr>\n",
       "      <th>4</th>\n",
       "      <td>1.500</td>\n",
       "      <td>right away</td>\n",
       "      <td>104</td>\n",
       "      <td>furnished possible</td>\n",
       "      <td>2</td>\n",
       "      <td>Rental house: Family house renting in Breukele...</td>\n",
       "    </tr>\n",
       "    <tr>\n",
       "      <th>5</th>\n",
       "      <td>3.750</td>\n",
       "      <td>right away</td>\n",
       "      <td>220</td>\n",
       "      <td>furnished</td>\n",
       "      <td>7</td>\n",
       "      <td>Rental house: Family house renting in Utrecht ...</td>\n",
       "    </tr>\n",
       "    <tr>\n",
       "      <th>6</th>\n",
       "      <td>1.150</td>\n",
       "      <td>right away</td>\n",
       "      <td>50</td>\n",
       "      <td>upholstered</td>\n",
       "      <td>1</td>\n",
       "      <td>Weerdsingel 3513 BE Utrecht</td>\n",
       "    </tr>\n",
       "    <tr>\n",
       "      <th>8</th>\n",
       "      <td>1.195</td>\n",
       "      <td>01-05-2019</td>\n",
       "      <td>75</td>\n",
       "      <td>furnished</td>\n",
       "      <td>2</td>\n",
       "      <td>Rental house: Apartment renting in Bilthoven M...</td>\n",
       "    </tr>\n",
       "    <tr>\n",
       "      <th>9</th>\n",
       "      <td>1.100</td>\n",
       "      <td>right away</td>\n",
       "      <td>65</td>\n",
       "      <td>upholstered</td>\n",
       "      <td>1</td>\n",
       "      <td>Rental house: Apartment renting in De Bilt Hes...</td>\n",
       "    </tr>\n",
       "    <tr>\n",
       "      <th>10</th>\n",
       "      <td>1.745</td>\n",
       "      <td>right away</td>\n",
       "      <td>91</td>\n",
       "      <td>upholstered</td>\n",
       "      <td>2</td>\n",
       "      <td>Rental house: Family house renting in Utrecht ...</td>\n",
       "    </tr>\n",
       "    <tr>\n",
       "      <th>11</th>\n",
       "      <td>1.495</td>\n",
       "      <td>15-03-2019</td>\n",
       "      <td>90</td>\n",
       "      <td>furnished</td>\n",
       "      <td>2</td>\n",
       "      <td>Rental house: Family house renting in Utrecht ...</td>\n",
       "    </tr>\n",
       "    <tr>\n",
       "      <th>12</th>\n",
       "      <td>1.200</td>\n",
       "      <td>right away</td>\n",
       "      <td>45</td>\n",
       "      <td>upholstered</td>\n",
       "      <td>2</td>\n",
       "      <td>Potterstraat 3512TA Utrecht</td>\n",
       "    </tr>\n",
       "    <tr>\n",
       "      <th>13</th>\n",
       "      <td>1.495</td>\n",
       "      <td>01-04-2019</td>\n",
       "      <td>100</td>\n",
       "      <td>upholstered</td>\n",
       "      <td>4</td>\n",
       "      <td>Rental house: Family house renting in Utrecht ...</td>\n",
       "    </tr>\n",
       "    <tr>\n",
       "      <th>14</th>\n",
       "      <td>1.650</td>\n",
       "      <td>01-03-2019</td>\n",
       "      <td>50</td>\n",
       "      <td>furnished</td>\n",
       "      <td>2</td>\n",
       "      <td>Maliestraat 3581 SH Utrecht</td>\n",
       "    </tr>\n",
       "    <tr>\n",
       "      <th>15</th>\n",
       "      <td>1.550</td>\n",
       "      <td>01-03-2019</td>\n",
       "      <td>45</td>\n",
       "      <td>furnished</td>\n",
       "      <td>2</td>\n",
       "      <td>Maliestraat 3581 SH Utrecht</td>\n",
       "    </tr>\n",
       "    <tr>\n",
       "      <th>16</th>\n",
       "      <td>2.750</td>\n",
       "      <td>01-03-2019</td>\n",
       "      <td>146</td>\n",
       "      <td>furnished</td>\n",
       "      <td>4</td>\n",
       "      <td>Vredenburg 3511 BD Utrecht</td>\n",
       "    </tr>\n",
       "    <tr>\n",
       "      <th>17</th>\n",
       "      <td>870</td>\n",
       "      <td>right away</td>\n",
       "      <td>55</td>\n",
       "      <td>upholstered</td>\n",
       "      <td>3</td>\n",
       "      <td>Rental house: Apartment renting in Zeist Slotl...</td>\n",
       "    </tr>\n",
       "    <tr>\n",
       "      <th>18</th>\n",
       "      <td>1.275</td>\n",
       "      <td>right away</td>\n",
       "      <td>50</td>\n",
       "      <td>furnished</td>\n",
       "      <td>1</td>\n",
       "      <td>Wittevrouwensingel 3572 CB Utrecht</td>\n",
       "    </tr>\n",
       "    <tr>\n",
       "      <th>19</th>\n",
       "      <td>2.250</td>\n",
       "      <td>right away</td>\n",
       "      <td>140</td>\n",
       "      <td>furnished</td>\n",
       "      <td>4</td>\n",
       "      <td>Rental house: Family house renting in Utrecht ...</td>\n",
       "    </tr>\n",
       "    <tr>\n",
       "      <th>0</th>\n",
       "      <td>1.000</td>\n",
       "      <td>01-03-2019</td>\n",
       "      <td>40</td>\n",
       "      <td>upholstered</td>\n",
       "      <td>2</td>\n",
       "      <td>Lucas Bolwerk 3512EH Utrecht</td>\n",
       "    </tr>\n",
       "    <tr>\n",
       "      <th>1</th>\n",
       "      <td>1.375</td>\n",
       "      <td>01-03-2019</td>\n",
       "      <td>80</td>\n",
       "      <td>upholstered</td>\n",
       "      <td>2</td>\n",
       "      <td>Kintgenshaven 3512GA Utrecht</td>\n",
       "    </tr>\n",
       "    <tr>\n",
       "      <th>2</th>\n",
       "      <td>1.250</td>\n",
       "      <td>01-03-2019</td>\n",
       "      <td>100</td>\n",
       "      <td>furnished</td>\n",
       "      <td>2</td>\n",
       "      <td>Rental house: Family house renting in Soesterb...</td>\n",
       "    </tr>\n",
       "    <tr>\n",
       "      <th>3</th>\n",
       "      <td>2.750</td>\n",
       "      <td>right away</td>\n",
       "      <td>125</td>\n",
       "      <td>upholstered</td>\n",
       "      <td>3</td>\n",
       "      <td>Voorstraat 3512 AH Utrecht</td>\n",
       "    </tr>\n",
       "    <tr>\n",
       "      <th>4</th>\n",
       "      <td>1.500</td>\n",
       "      <td>right away</td>\n",
       "      <td>104</td>\n",
       "      <td>furnished possible</td>\n",
       "      <td>2</td>\n",
       "      <td>Rental house: Family house renting in Breukele...</td>\n",
       "    </tr>\n",
       "    <tr>\n",
       "      <th>5</th>\n",
       "      <td>3.750</td>\n",
       "      <td>right away</td>\n",
       "      <td>220</td>\n",
       "      <td>furnished</td>\n",
       "      <td>7</td>\n",
       "      <td>Rental house: Family house renting in Utrecht ...</td>\n",
       "    </tr>\n",
       "    <tr>\n",
       "      <th>6</th>\n",
       "      <td>1.150</td>\n",
       "      <td>right away</td>\n",
       "      <td>50</td>\n",
       "      <td>upholstered</td>\n",
       "      <td>1</td>\n",
       "      <td>Weerdsingel 3513 BE Utrecht</td>\n",
       "    </tr>\n",
       "    <tr>\n",
       "      <th>8</th>\n",
       "      <td>1.195</td>\n",
       "      <td>01-05-2019</td>\n",
       "      <td>75</td>\n",
       "      <td>furnished</td>\n",
       "      <td>2</td>\n",
       "      <td>Rental house: Apartment renting in Bilthoven M...</td>\n",
       "    </tr>\n",
       "    <tr>\n",
       "      <th>9</th>\n",
       "      <td>1.100</td>\n",
       "      <td>right away</td>\n",
       "      <td>65</td>\n",
       "      <td>upholstered</td>\n",
       "      <td>1</td>\n",
       "      <td>Rental house: Apartment renting in De Bilt Hes...</td>\n",
       "    </tr>\n",
       "    <tr>\n",
       "      <th>10</th>\n",
       "      <td>1.745</td>\n",
       "      <td>right away</td>\n",
       "      <td>91</td>\n",
       "      <td>upholstered</td>\n",
       "      <td>2</td>\n",
       "      <td>Rental house: Family house renting in Utrecht ...</td>\n",
       "    </tr>\n",
       "    <tr>\n",
       "      <th>11</th>\n",
       "      <td>1.495</td>\n",
       "      <td>15-03-2019</td>\n",
       "      <td>90</td>\n",
       "      <td>furnished</td>\n",
       "      <td>2</td>\n",
       "      <td>Rental house: Family house renting in Utrecht ...</td>\n",
       "    </tr>\n",
       "    <tr>\n",
       "      <th>...</th>\n",
       "      <td>...</td>\n",
       "      <td>...</td>\n",
       "      <td>...</td>\n",
       "      <td>...</td>\n",
       "      <td>...</td>\n",
       "      <td>...</td>\n",
       "    </tr>\n",
       "    <tr>\n",
       "      <th>10</th>\n",
       "      <td>2.200</td>\n",
       "      <td>right away</td>\n",
       "      <td>152</td>\n",
       "      <td>furnished</td>\n",
       "      <td>3</td>\n",
       "      <td>Rental house: Family house renting in Abcoude ...</td>\n",
       "    </tr>\n",
       "    <tr>\n",
       "      <th>11</th>\n",
       "      <td>650</td>\n",
       "      <td>right away</td>\n",
       "      <td>60</td>\n",
       "      <td>furnished</td>\n",
       "      <td>2</td>\n",
       "      <td>Rental house: Bungalow renting in Rhenen Nieuw...</td>\n",
       "    </tr>\n",
       "    <tr>\n",
       "      <th>12</th>\n",
       "      <td>750</td>\n",
       "      <td>right away</td>\n",
       "      <td>30</td>\n",
       "      <td>upholstered</td>\n",
       "      <td>n.a.</td>\n",
       "      <td>Rental house: Studio renting in Utrecht Koppes...</td>\n",
       "    </tr>\n",
       "    <tr>\n",
       "      <th>13</th>\n",
       "      <td>350</td>\n",
       "      <td>right away</td>\n",
       "      <td>20</td>\n",
       "      <td>upholstered</td>\n",
       "      <td>1</td>\n",
       "      <td>Rental house renting in Nieuwegein, Mr. J.M.M....</td>\n",
       "    </tr>\n",
       "    <tr>\n",
       "      <th>14</th>\n",
       "      <td>1.175</td>\n",
       "      <td>right away</td>\n",
       "      <td>95</td>\n",
       "      <td>upholstered</td>\n",
       "      <td>2</td>\n",
       "      <td>Rental house: Duplex renting in Utrecht ambons...</td>\n",
       "    </tr>\n",
       "    <tr>\n",
       "      <th>15</th>\n",
       "      <td>1.500</td>\n",
       "      <td>right away</td>\n",
       "      <td>85</td>\n",
       "      <td>furnished</td>\n",
       "      <td>2</td>\n",
       "      <td>Rental house: Family house renting in Vinkevee...</td>\n",
       "    </tr>\n",
       "    <tr>\n",
       "      <th>16</th>\n",
       "      <td>1.450</td>\n",
       "      <td>right away</td>\n",
       "      <td>77</td>\n",
       "      <td>upholstered</td>\n",
       "      <td>2</td>\n",
       "      <td>Rental house: Apartment renting in Vinkeveen M...</td>\n",
       "    </tr>\n",
       "    <tr>\n",
       "      <th>17</th>\n",
       "      <td>945</td>\n",
       "      <td>right away</td>\n",
       "      <td>75</td>\n",
       "      <td>upholstered</td>\n",
       "      <td>1</td>\n",
       "      <td>Livingstonelaan 3526JM Utrecht</td>\n",
       "    </tr>\n",
       "    <tr>\n",
       "      <th>18</th>\n",
       "      <td>1.800</td>\n",
       "      <td>right away</td>\n",
       "      <td>125</td>\n",
       "      <td>upholstered</td>\n",
       "      <td>4</td>\n",
       "      <td>Rental house: Family house renting in Abcoude ...</td>\n",
       "    </tr>\n",
       "    <tr>\n",
       "      <th>19</th>\n",
       "      <td>1.250</td>\n",
       "      <td>right away</td>\n",
       "      <td>n.b.</td>\n",
       "      <td>upholstered</td>\n",
       "      <td>n.a.</td>\n",
       "      <td>Rental house renting in Woerden, Barwoutswaard...</td>\n",
       "    </tr>\n",
       "    <tr>\n",
       "      <th>0</th>\n",
       "      <td>995</td>\n",
       "      <td>right away</td>\n",
       "      <td>85</td>\n",
       "      <td>furnished</td>\n",
       "      <td>1</td>\n",
       "      <td>azielaan 752 3526 SZ Utrecht</td>\n",
       "    </tr>\n",
       "    <tr>\n",
       "      <th>1</th>\n",
       "      <td>4.500</td>\n",
       "      <td>right away</td>\n",
       "      <td>350</td>\n",
       "      <td>upholstered</td>\n",
       "      <td>4</td>\n",
       "      <td>Rental house: Family house renting in Vinkevee...</td>\n",
       "    </tr>\n",
       "    <tr>\n",
       "      <th>2</th>\n",
       "      <td>5.000</td>\n",
       "      <td>right away</td>\n",
       "      <td>300</td>\n",
       "      <td>furnished</td>\n",
       "      <td>4</td>\n",
       "      <td>Rental house: Family house renting in Vinkevee...</td>\n",
       "    </tr>\n",
       "    <tr>\n",
       "      <th>3</th>\n",
       "      <td>975</td>\n",
       "      <td>right away</td>\n",
       "      <td>90</td>\n",
       "      <td>upholstered</td>\n",
       "      <td>2</td>\n",
       "      <td>Rental house: Apartment renting in veenendaal ...</td>\n",
       "    </tr>\n",
       "    <tr>\n",
       "      <th>4</th>\n",
       "      <td>3.139</td>\n",
       "      <td>right away</td>\n",
       "      <td>179</td>\n",
       "      <td>furnished</td>\n",
       "      <td>2</td>\n",
       "      <td>Jufferstraat 3011XM Utrecht</td>\n",
       "    </tr>\n",
       "    <tr>\n",
       "      <th>5</th>\n",
       "      <td>2.250</td>\n",
       "      <td>right away</td>\n",
       "      <td>120</td>\n",
       "      <td>furnished</td>\n",
       "      <td>3</td>\n",
       "      <td>Oudwijk 3581TG Utrecht</td>\n",
       "    </tr>\n",
       "    <tr>\n",
       "      <th>6</th>\n",
       "      <td>995</td>\n",
       "      <td>right away</td>\n",
       "      <td>65</td>\n",
       "      <td>upholstered</td>\n",
       "      <td>1</td>\n",
       "      <td>Oudegracht 3511AR Utrecht</td>\n",
       "    </tr>\n",
       "    <tr>\n",
       "      <th>7</th>\n",
       "      <td>1.200</td>\n",
       "      <td>right away</td>\n",
       "      <td>65</td>\n",
       "      <td>furnished</td>\n",
       "      <td>1</td>\n",
       "      <td>Nobeldwarsstraat 3512EW Utrecht</td>\n",
       "    </tr>\n",
       "    <tr>\n",
       "      <th>8</th>\n",
       "      <td>1.170</td>\n",
       "      <td>right away</td>\n",
       "      <td>65</td>\n",
       "      <td>furnished</td>\n",
       "      <td>2</td>\n",
       "      <td>Rental house: Duplex renting in Utrecht Living...</td>\n",
       "    </tr>\n",
       "    <tr>\n",
       "      <th>9</th>\n",
       "      <td>1.200</td>\n",
       "      <td>right away</td>\n",
       "      <td>55</td>\n",
       "      <td>furnished</td>\n",
       "      <td>1</td>\n",
       "      <td>Lange Nieuwstraat 3512PL Utrecht</td>\n",
       "    </tr>\n",
       "    <tr>\n",
       "      <th>10</th>\n",
       "      <td>995</td>\n",
       "      <td>right away</td>\n",
       "      <td>130</td>\n",
       "      <td>upholstered</td>\n",
       "      <td>4</td>\n",
       "      <td>Rental house: Duplex renting in Utrecht Kastee...</td>\n",
       "    </tr>\n",
       "    <tr>\n",
       "      <th>11</th>\n",
       "      <td>1.175</td>\n",
       "      <td>right away</td>\n",
       "      <td>60</td>\n",
       "      <td>furnished</td>\n",
       "      <td>1</td>\n",
       "      <td>Amsterdamsestraatweg 3513AK Utrecht</td>\n",
       "    </tr>\n",
       "    <tr>\n",
       "      <th>12</th>\n",
       "      <td>1.250</td>\n",
       "      <td>right away</td>\n",
       "      <td>65</td>\n",
       "      <td>upholstered</td>\n",
       "      <td>1</td>\n",
       "      <td>Rental house: Duplex renting in Utrecht Janske...</td>\n",
       "    </tr>\n",
       "    <tr>\n",
       "      <th>13</th>\n",
       "      <td>1.650</td>\n",
       "      <td>right away</td>\n",
       "      <td>120</td>\n",
       "      <td>furnished</td>\n",
       "      <td>3</td>\n",
       "      <td>Haverstraat 3511NA Utrecht</td>\n",
       "    </tr>\n",
       "    <tr>\n",
       "      <th>14</th>\n",
       "      <td>720</td>\n",
       "      <td>right away</td>\n",
       "      <td>16</td>\n",
       "      <td>furnished</td>\n",
       "      <td>1</td>\n",
       "      <td>Deandelstraat 3531GE Utrecht</td>\n",
       "    </tr>\n",
       "    <tr>\n",
       "      <th>15</th>\n",
       "      <td>995</td>\n",
       "      <td>right away</td>\n",
       "      <td>60</td>\n",
       "      <td>furnished</td>\n",
       "      <td>1</td>\n",
       "      <td>Catharijnesingel 3511GV Utrecht</td>\n",
       "    </tr>\n",
       "    <tr>\n",
       "      <th>16</th>\n",
       "      <td>1.175</td>\n",
       "      <td>right away</td>\n",
       "      <td>60</td>\n",
       "      <td>furnished</td>\n",
       "      <td>2</td>\n",
       "      <td>Amsterdamsestraatweg 3513AK Utrecht</td>\n",
       "    </tr>\n",
       "    <tr>\n",
       "      <th>17</th>\n",
       "      <td>865</td>\n",
       "      <td>right away</td>\n",
       "      <td>50</td>\n",
       "      <td>upholstered</td>\n",
       "      <td>1</td>\n",
       "      <td>Molukkenstraat 3531WE Utrecht</td>\n",
       "    </tr>\n",
       "    <tr>\n",
       "      <th>18</th>\n",
       "      <td>995</td>\n",
       "      <td>right away</td>\n",
       "      <td>50</td>\n",
       "      <td>upholstered</td>\n",
       "      <td>1</td>\n",
       "      <td>Malistraat 3581SN Utrecht</td>\n",
       "    </tr>\n",
       "    <tr>\n",
       "      <th>19</th>\n",
       "      <td>925</td>\n",
       "      <td>right away</td>\n",
       "      <td>40</td>\n",
       "      <td>upholstered</td>\n",
       "      <td>1</td>\n",
       "      <td>Leidsekade 3531HE Utrecht</td>\n",
       "    </tr>\n",
       "  </tbody>\n",
       "</table>\n",
       "<p>198 rows × 6 columns</p>\n",
       "</div>"
      ],
      "text/plain": [
       "     Rent Available from Surface            Interior Number of bedrooms  \\\n",
       "0   1.000     01-03-2019      40         upholstered                  2   \n",
       "1   1.375     01-03-2019      80         upholstered                  2   \n",
       "2   1.250     01-03-2019     100           furnished                  2   \n",
       "3   2.750     right away     125         upholstered                  3   \n",
       "4   1.500     right away     104  furnished possible                  2   \n",
       "5   3.750     right away     220           furnished                  7   \n",
       "6   1.150     right away      50         upholstered                  1   \n",
       "8   1.195     01-05-2019      75           furnished                  2   \n",
       "9   1.100     right away      65         upholstered                  1   \n",
       "10  1.745     right away      91         upholstered                  2   \n",
       "11  1.495     15-03-2019      90           furnished                  2   \n",
       "12  1.200     right away      45         upholstered                  2   \n",
       "13  1.495     01-04-2019     100         upholstered                  4   \n",
       "14  1.650     01-03-2019      50           furnished                  2   \n",
       "15  1.550     01-03-2019      45           furnished                  2   \n",
       "16  2.750     01-03-2019     146           furnished                  4   \n",
       "17    870     right away      55         upholstered                  3   \n",
       "18  1.275     right away      50           furnished                  1   \n",
       "19  2.250     right away     140           furnished                  4   \n",
       "0   1.000     01-03-2019      40         upholstered                  2   \n",
       "1   1.375     01-03-2019      80         upholstered                  2   \n",
       "2   1.250     01-03-2019     100           furnished                  2   \n",
       "3   2.750     right away     125         upholstered                  3   \n",
       "4   1.500     right away     104  furnished possible                  2   \n",
       "5   3.750     right away     220           furnished                  7   \n",
       "6   1.150     right away      50         upholstered                  1   \n",
       "8   1.195     01-05-2019      75           furnished                  2   \n",
       "9   1.100     right away      65         upholstered                  1   \n",
       "10  1.745     right away      91         upholstered                  2   \n",
       "11  1.495     15-03-2019      90           furnished                  2   \n",
       "..    ...            ...     ...                 ...                ...   \n",
       "10  2.200     right away     152           furnished                  3   \n",
       "11    650     right away      60           furnished                  2   \n",
       "12    750     right away      30         upholstered               n.a.   \n",
       "13    350     right away      20         upholstered                  1   \n",
       "14  1.175     right away      95         upholstered                  2   \n",
       "15  1.500     right away      85           furnished                  2   \n",
       "16  1.450     right away      77         upholstered                  2   \n",
       "17    945     right away      75         upholstered                  1   \n",
       "18  1.800     right away     125         upholstered                  4   \n",
       "19  1.250     right away    n.b.         upholstered               n.a.   \n",
       "0     995     right away      85           furnished                  1   \n",
       "1   4.500     right away     350         upholstered                  4   \n",
       "2   5.000     right away     300           furnished                  4   \n",
       "3     975     right away      90         upholstered                  2   \n",
       "4   3.139     right away     179           furnished                  2   \n",
       "5   2.250     right away     120           furnished                  3   \n",
       "6     995     right away      65         upholstered                  1   \n",
       "7   1.200     right away      65           furnished                  1   \n",
       "8   1.170     right away      65           furnished                  2   \n",
       "9   1.200     right away      55           furnished                  1   \n",
       "10    995     right away     130         upholstered                  4   \n",
       "11  1.175     right away      60           furnished                  1   \n",
       "12  1.250     right away      65         upholstered                  1   \n",
       "13  1.650     right away     120           furnished                  3   \n",
       "14    720     right away      16           furnished                  1   \n",
       "15    995     right away      60           furnished                  1   \n",
       "16  1.175     right away      60           furnished                  2   \n",
       "17    865     right away      50         upholstered                  1   \n",
       "18    995     right away      50         upholstered                  1   \n",
       "19    925     right away      40         upholstered                  1   \n",
       "\n",
       "                                             Location  \n",
       "0                        Lucas Bolwerk 3512EH Utrecht  \n",
       "1                        Kintgenshaven 3512GA Utrecht  \n",
       "2   Rental house: Family house renting in Soesterb...  \n",
       "3                          Voorstraat 3512 AH Utrecht  \n",
       "4   Rental house: Family house renting in Breukele...  \n",
       "5   Rental house: Family house renting in Utrecht ...  \n",
       "6                         Weerdsingel 3513 BE Utrecht  \n",
       "8   Rental house: Apartment renting in Bilthoven M...  \n",
       "9   Rental house: Apartment renting in De Bilt Hes...  \n",
       "10  Rental house: Family house renting in Utrecht ...  \n",
       "11  Rental house: Family house renting in Utrecht ...  \n",
       "12                        Potterstraat 3512TA Utrecht  \n",
       "13  Rental house: Family house renting in Utrecht ...  \n",
       "14                        Maliestraat 3581 SH Utrecht  \n",
       "15                        Maliestraat 3581 SH Utrecht  \n",
       "16                         Vredenburg 3511 BD Utrecht  \n",
       "17  Rental house: Apartment renting in Zeist Slotl...  \n",
       "18                 Wittevrouwensingel 3572 CB Utrecht  \n",
       "19  Rental house: Family house renting in Utrecht ...  \n",
       "0                        Lucas Bolwerk 3512EH Utrecht  \n",
       "1                        Kintgenshaven 3512GA Utrecht  \n",
       "2   Rental house: Family house renting in Soesterb...  \n",
       "3                          Voorstraat 3512 AH Utrecht  \n",
       "4   Rental house: Family house renting in Breukele...  \n",
       "5   Rental house: Family house renting in Utrecht ...  \n",
       "6                         Weerdsingel 3513 BE Utrecht  \n",
       "8   Rental house: Apartment renting in Bilthoven M...  \n",
       "9   Rental house: Apartment renting in De Bilt Hes...  \n",
       "10  Rental house: Family house renting in Utrecht ...  \n",
       "11  Rental house: Family house renting in Utrecht ...  \n",
       "..                                                ...  \n",
       "10  Rental house: Family house renting in Abcoude ...  \n",
       "11  Rental house: Bungalow renting in Rhenen Nieuw...  \n",
       "12  Rental house: Studio renting in Utrecht Koppes...  \n",
       "13  Rental house renting in Nieuwegein, Mr. J.M.M....  \n",
       "14  Rental house: Duplex renting in Utrecht ambons...  \n",
       "15  Rental house: Family house renting in Vinkevee...  \n",
       "16  Rental house: Apartment renting in Vinkeveen M...  \n",
       "17                     Livingstonelaan 3526JM Utrecht  \n",
       "18  Rental house: Family house renting in Abcoude ...  \n",
       "19  Rental house renting in Woerden, Barwoutswaard...  \n",
       "0                        azielaan 752 3526 SZ Utrecht  \n",
       "1   Rental house: Family house renting in Vinkevee...  \n",
       "2   Rental house: Family house renting in Vinkevee...  \n",
       "3   Rental house: Apartment renting in veenendaal ...  \n",
       "4                         Jufferstraat 3011XM Utrecht  \n",
       "5                              Oudwijk 3581TG Utrecht  \n",
       "6                           Oudegracht 3511AR Utrecht  \n",
       "7                     Nobeldwarsstraat 3512EW Utrecht  \n",
       "8   Rental house: Duplex renting in Utrecht Living...  \n",
       "9                    Lange Nieuwstraat 3512PL Utrecht  \n",
       "10  Rental house: Duplex renting in Utrecht Kastee...  \n",
       "11                Amsterdamsestraatweg 3513AK Utrecht  \n",
       "12  Rental house: Duplex renting in Utrecht Janske...  \n",
       "13                         Haverstraat 3511NA Utrecht  \n",
       "14                       Deandelstraat 3531GE Utrecht  \n",
       "15                    Catharijnesingel 3511GV Utrecht  \n",
       "16                Amsterdamsestraatweg 3513AK Utrecht  \n",
       "17                      Molukkenstraat 3531WE Utrecht  \n",
       "18                          Malistraat 3581SN Utrecht  \n",
       "19                          Leidsekade 3531HE Utrecht  \n",
       "\n",
       "[198 rows x 6 columns]"
      ]
     },
     "execution_count": 33,
     "metadata": {},
     "output_type": "execute_result"
    }
   ],
   "source": [
    "df_utr.head()"
   ]
  },
  {
   "cell_type": "markdown",
   "metadata": {},
   "source": [
    "### Eindhoven"
   ]
  },
  {
   "cell_type": "code",
   "execution_count": 34,
   "metadata": {
    "ExecuteTime": {
     "end_time": "2019-02-14T10:48:06.540400Z",
     "start_time": "2019-02-14T10:45:58.359133Z"
    }
   },
   "outputs": [
    {
     "name": "stdout",
     "output_type": "stream",
     "text": [
      "Scraping page: 1/9\n",
      "https://www.huurda.com/properties_for_rent_in_Utrecht/Upstairs_apartment/Aziëlaan--404464/\n",
      "Scraping page: 2/9\n",
      "https://www.huurda.com/properties_for_rent_in_Utrecht/Upstairs_apartment/Aziëlaan--404464/\n",
      "Scraping page: 3/9\n",
      "Scraping page: 4/9\n",
      "Scraping page: 5/9\n",
      "Scraping page: 6/9\n",
      "Scraping page: 7/9\n",
      "Scraping page: 8/9\n",
      "Scraping page: 9/9\n",
      "Scraping url 20/20\r"
     ]
    }
   ],
   "source": [
    "df_ein = main_scraper(cfg_utr.url, city='Eindhoven', nb_page=9)"
   ]
  },
  {
   "cell_type": "code",
   "execution_count": 35,
   "metadata": {
    "ExecuteTime": {
     "end_time": "2019-02-14T10:48:06.556378Z",
     "start_time": "2019-02-14T10:48:06.542957Z"
    }
   },
   "outputs": [
    {
     "data": {
      "text/plain": [
       "(178, 6)"
      ]
     },
     "execution_count": 35,
     "metadata": {},
     "output_type": "execute_result"
    }
   ],
   "source": [
    "df_ein.shape"
   ]
  },
  {
   "cell_type": "code",
   "execution_count": 36,
   "metadata": {
    "ExecuteTime": {
     "end_time": "2019-02-14T10:48:06.584644Z",
     "start_time": "2019-02-14T10:48:06.560034Z"
    }
   },
   "outputs": [
    {
     "data": {
      "text/html": [
       "<div>\n",
       "<style scoped>\n",
       "    .dataframe tbody tr th:only-of-type {\n",
       "        vertical-align: middle;\n",
       "    }\n",
       "\n",
       "    .dataframe tbody tr th {\n",
       "        vertical-align: top;\n",
       "    }\n",
       "\n",
       "    .dataframe thead th {\n",
       "        text-align: right;\n",
       "    }\n",
       "</style>\n",
       "<table border=\"1\" class=\"dataframe\">\n",
       "  <thead>\n",
       "    <tr style=\"text-align: right;\">\n",
       "      <th></th>\n",
       "      <th>Rent</th>\n",
       "      <th>Available from</th>\n",
       "      <th>Surface</th>\n",
       "      <th>Interior</th>\n",
       "      <th>Number of bedrooms</th>\n",
       "      <th>Location</th>\n",
       "    </tr>\n",
       "  </thead>\n",
       "  <tbody>\n",
       "    <tr>\n",
       "      <th>0</th>\n",
       "      <td>1.000</td>\n",
       "      <td>01-03-2019</td>\n",
       "      <td>40</td>\n",
       "      <td>upholstered</td>\n",
       "      <td>2</td>\n",
       "      <td>Rental house: Apartment renting in Utrecht Luc...</td>\n",
       "    </tr>\n",
       "    <tr>\n",
       "      <th>1</th>\n",
       "      <td>1.375</td>\n",
       "      <td>01-03-2019</td>\n",
       "      <td>80</td>\n",
       "      <td>upholstered</td>\n",
       "      <td>2</td>\n",
       "      <td>Rental house: Apartment renting in Utrecht Kin...</td>\n",
       "    </tr>\n",
       "    <tr>\n",
       "      <th>2</th>\n",
       "      <td>1.250</td>\n",
       "      <td>01-03-2019</td>\n",
       "      <td>100</td>\n",
       "      <td>furnished</td>\n",
       "      <td>2</td>\n",
       "      <td>Rental house: Family house renting in Soesterb...</td>\n",
       "    </tr>\n",
       "    <tr>\n",
       "      <th>3</th>\n",
       "      <td>2.750</td>\n",
       "      <td>right away</td>\n",
       "      <td>125</td>\n",
       "      <td>upholstered</td>\n",
       "      <td>3</td>\n",
       "      <td>Rental house: Apartment renting in Utrecht Voo...</td>\n",
       "    </tr>\n",
       "    <tr>\n",
       "      <th>4</th>\n",
       "      <td>1.500</td>\n",
       "      <td>right away</td>\n",
       "      <td>104</td>\n",
       "      <td>furnished possible</td>\n",
       "      <td>2</td>\n",
       "      <td>Rental house: Family house renting in Breukele...</td>\n",
       "    </tr>\n",
       "  </tbody>\n",
       "</table>\n",
       "</div>"
      ],
      "text/plain": [
       "    Rent Available from Surface            Interior Number of bedrooms  \\\n",
       "0  1.000     01-03-2019      40         upholstered                  2   \n",
       "1  1.375     01-03-2019      80         upholstered                  2   \n",
       "2  1.250     01-03-2019     100           furnished                  2   \n",
       "3  2.750     right away     125         upholstered                  3   \n",
       "4  1.500     right away     104  furnished possible                  2   \n",
       "\n",
       "                                            Location  \n",
       "0  Rental house: Apartment renting in Utrecht Luc...  \n",
       "1  Rental house: Apartment renting in Utrecht Kin...  \n",
       "2  Rental house: Family house renting in Soesterb...  \n",
       "3  Rental house: Apartment renting in Utrecht Voo...  \n",
       "4  Rental house: Family house renting in Breukele...  "
      ]
     },
     "execution_count": 36,
     "metadata": {},
     "output_type": "execute_result"
    }
   ],
   "source": [
    "df_ein.head()"
   ]
  },
  {
   "cell_type": "markdown",
   "metadata": {},
   "source": [
    "## Clean output"
   ]
  },
  {
   "cell_type": "code",
   "execution_count": null,
   "metadata": {},
   "outputs": [],
   "source": []
  },
  {
   "cell_type": "markdown",
   "metadata": {},
   "source": [
    "## Merge all data"
   ]
  },
  {
   "cell_type": "code",
   "execution_count": 37,
   "metadata": {
    "ExecuteTime": {
     "end_time": "2019-02-14T10:48:06.602365Z",
     "start_time": "2019-02-14T10:48:06.588325Z"
    }
   },
   "outputs": [],
   "source": [
    "df_list = [df_ams, df_rot, df_haag, df_gro, df_utr, df_ein]\n",
    "df = pd.concat(df_list)"
   ]
  },
  {
   "cell_type": "code",
   "execution_count": 38,
   "metadata": {
    "ExecuteTime": {
     "end_time": "2019-02-14T10:48:06.620118Z",
     "start_time": "2019-02-14T10:48:06.607426Z"
    }
   },
   "outputs": [
    {
     "data": {
      "text/plain": [
       "(1090, 6)"
      ]
     },
     "execution_count": 38,
     "metadata": {},
     "output_type": "execute_result"
    }
   ],
   "source": [
    "df.shape"
   ]
  },
  {
   "cell_type": "code",
   "execution_count": 39,
   "metadata": {
    "ExecuteTime": {
     "end_time": "2019-02-14T10:48:06.655959Z",
     "start_time": "2019-02-14T10:48:06.623193Z"
    }
   },
   "outputs": [
    {
     "data": {
      "text/html": [
       "<div>\n",
       "<style scoped>\n",
       "    .dataframe tbody tr th:only-of-type {\n",
       "        vertical-align: middle;\n",
       "    }\n",
       "\n",
       "    .dataframe tbody tr th {\n",
       "        vertical-align: top;\n",
       "    }\n",
       "\n",
       "    .dataframe thead th {\n",
       "        text-align: right;\n",
       "    }\n",
       "</style>\n",
       "<table border=\"1\" class=\"dataframe\">\n",
       "  <thead>\n",
       "    <tr style=\"text-align: right;\">\n",
       "      <th></th>\n",
       "      <th>Rent</th>\n",
       "      <th>Available from</th>\n",
       "      <th>Surface</th>\n",
       "      <th>Interior</th>\n",
       "      <th>Number of bedrooms</th>\n",
       "      <th>Location</th>\n",
       "    </tr>\n",
       "  </thead>\n",
       "  <tbody>\n",
       "    <tr>\n",
       "      <th>1</th>\n",
       "      <td>1.995</td>\n",
       "      <td>right away</td>\n",
       "      <td>60</td>\n",
       "      <td>furnished</td>\n",
       "      <td>1</td>\n",
       "      <td>Herengracht 1015 BT Amsterdam</td>\n",
       "    </tr>\n",
       "    <tr>\n",
       "      <th>2</th>\n",
       "      <td>1.675</td>\n",
       "      <td>11-03-2019</td>\n",
       "      <td>60</td>\n",
       "      <td>furnished</td>\n",
       "      <td>1</td>\n",
       "      <td>Schinkelkade 1075 VH Amsterdam</td>\n",
       "    </tr>\n",
       "    <tr>\n",
       "      <th>3</th>\n",
       "      <td>1.450</td>\n",
       "      <td>right away</td>\n",
       "      <td>86</td>\n",
       "      <td>furnished</td>\n",
       "      <td>2</td>\n",
       "      <td>Meeuwenlaan 1021 JC Amsterdam</td>\n",
       "    </tr>\n",
       "    <tr>\n",
       "      <th>4</th>\n",
       "      <td>1.700</td>\n",
       "      <td>right away</td>\n",
       "      <td>68</td>\n",
       "      <td>furnished</td>\n",
       "      <td>2</td>\n",
       "      <td>Legmeerplein 1058 NL Amsterdam</td>\n",
       "    </tr>\n",
       "    <tr>\n",
       "      <th>5</th>\n",
       "      <td>1.600</td>\n",
       "      <td>right away</td>\n",
       "      <td>80</td>\n",
       "      <td>furnished</td>\n",
       "      <td>2</td>\n",
       "      <td>Loenermark 1025 TS Amsterdam</td>\n",
       "    </tr>\n",
       "  </tbody>\n",
       "</table>\n",
       "</div>"
      ],
      "text/plain": [
       "    Rent Available from Surface   Interior Number of bedrooms  \\\n",
       "1  1.995     right away      60  furnished                  1   \n",
       "2  1.675     11-03-2019      60  furnished                  1   \n",
       "3  1.450     right away      86  furnished                  2   \n",
       "4  1.700     right away      68  furnished                  2   \n",
       "5  1.600     right away      80  furnished                  2   \n",
       "\n",
       "                         Location  \n",
       "1   Herengracht 1015 BT Amsterdam  \n",
       "2  Schinkelkade 1075 VH Amsterdam  \n",
       "3   Meeuwenlaan 1021 JC Amsterdam  \n",
       "4  Legmeerplein 1058 NL Amsterdam  \n",
       "5    Loenermark 1025 TS Amsterdam  "
      ]
     },
     "execution_count": 39,
     "metadata": {},
     "output_type": "execute_result"
    }
   ],
   "source": [
    "df.head()"
   ]
  },
  {
   "cell_type": "code",
   "execution_count": null,
   "metadata": {},
   "outputs": [],
   "source": []
  }
 ],
 "metadata": {
  "kernelspec": {
   "display_name": "Python 3",
   "language": "python",
   "name": "python3"
  },
  "language_info": {
   "codemirror_mode": {
    "name": "ipython",
    "version": 3
   },
   "file_extension": ".py",
   "mimetype": "text/x-python",
   "name": "python",
   "nbconvert_exporter": "python",
   "pygments_lexer": "ipython3",
   "version": "3.6.6"
  },
  "toc": {
   "nav_menu": {},
   "number_sections": true,
   "sideBar": true,
   "skip_h1_title": false,
   "toc_cell": false,
   "toc_position": {
    "height": "714.867px",
    "left": "0px",
    "right": "1310px",
    "top": "111.133px",
    "width": "130px"
   },
   "toc_section_display": "block",
   "toc_window_display": true
  }
 },
 "nbformat": 4,
 "nbformat_minor": 2
}
