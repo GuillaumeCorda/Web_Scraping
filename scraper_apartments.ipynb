{
 "cells": [
  {
   "cell_type": "code",
   "execution_count": 1,
   "metadata": {
    "ExecuteTime": {
     "end_time": "2019-02-21T09:43:17.800320Z",
     "start_time": "2019-02-21T09:43:16.138034Z"
    }
   },
   "outputs": [],
   "source": [
    "import os\n",
    "import numpy as np\n",
    "import pandas as pd\n",
    "import time\n",
    "import httplib2\n",
    "import urllib\n",
    "import requests\n",
    "import re\n",
    "from bs4 import BeautifulSoup"
   ]
  },
  {
   "cell_type": "markdown",
   "metadata": {},
   "source": [
    "# Imports"
   ]
  },
  {
   "cell_type": "markdown",
   "metadata": {},
   "source": [
    "# Config"
   ]
  },
  {
   "cell_type": "code",
   "execution_count": 239,
   "metadata": {
    "ExecuteTime": {
     "end_time": "2019-02-21T13:32:13.527544Z",
     "start_time": "2019-02-21T13:32:13.520180Z"
    }
   },
   "outputs": [],
   "source": [
    "class Config():\n",
    "    def __init__(self, data_path='/Users/guillaumecorda/Desktop/UvA/Information Retrieval/Project/data/', url=None):\n",
    "        self.data_path = data_path\n",
    "        self.url = url"
   ]
  },
  {
   "cell_type": "code",
   "execution_count": 240,
   "metadata": {
    "ExecuteTime": {
     "end_time": "2019-02-21T13:32:13.679711Z",
     "start_time": "2019-02-21T13:32:13.670534Z"
    }
   },
   "outputs": [],
   "source": [
    "#addd user-agent in url user-agent=bot\n",
    "cfg_ams = Config(url='https://www.huurda.com/Housing_offer.html?searchPhotos=1&searchKeywords=amsterdam&searchRentStart=0&searchSurface=0&searchRentEnd=0&searchAvailable=&searchFurnished=&searchBedrooms=&searchFormSubmit=Search+directly+in+6.510+rental+houses')\n",
    "cfg_rot = Config(url='https://www.huurda.com/Housing_offer.html?searchPhotos=1&searchKeywords=rotterdam&searchRentStart=0&searchSurface=0&searchRentEnd=0&searchAvailable=&searchFurnished=&searchBedrooms=&searchFormSubmit=Search+directly+in+6.518+rental+houses')\n",
    "cfg_haag = Config(url='https://www.huurda.com/Housing_offer.html?searchPhotos=1&searchKeywords=den+haag&searchRentStart=0&searchSurface=0&searchRentEnd=0&searchAvailable=&searchFurnished=&searchBedrooms=&searchFormSubmit=Search+directly+in+6.518+rental+houses')\n",
    "cfg_gro = Config(url='https://www.huurda.com/Housing_offer.html?searchPhotos=1&searchKeywords=groningen&searchRentStart=0&searchSurface=0&searchRentEnd=0&searchAvailable=&searchFurnished=&searchBedrooms=&searchFormSubmit=Search+directly+in+6.517+rental+houses')\n",
    "cfg_utr = Config(url='https://www.huurda.com/Housing_offer.html?searchPhotos=1&searchKeywords=utrecht&searchRentStart=0&searchSurface=0&searchRentEnd=0&searchAvailable=&searchFurnished=&searchBedrooms=&searchFormSubmit=Search+directly+in+6.517+rental+houses')\n",
    "cfg_ein = Config(url='https://www.huurda.com/Housing_offer.html?searchPhotos=1&searchKeywords=eindhoven&searchRentStart=0&searchSurface=0&searchRentEnd=0&searchAvailable=&searchFurnished=&searchBedrooms=&searchFormSubmit=Search+directly+in+6.517+rental+houses')"
   ]
  },
  {
   "cell_type": "markdown",
   "metadata": {},
   "source": [
    "# Helper functions"
   ]
  },
  {
   "cell_type": "markdown",
   "metadata": {},
   "source": [
    "## Get content"
   ]
  },
  {
   "cell_type": "code",
   "execution_count": 4,
   "metadata": {
    "ExecuteTime": {
     "end_time": "2019-02-21T09:43:17.824692Z",
     "start_time": "2019-02-21T09:43:17.820076Z"
    }
   },
   "outputs": [],
   "source": [
    "def get_html(url):\n",
    "    if 'http' not in url:\n",
    "        raise ValueError('Please add protocol to url.')\n",
    "    html_page = urllib.request.urlopen(url)\n",
    "    soup = BeautifulSoup(html_page, features='html.parser')\n",
    "    return soup"
   ]
  },
  {
   "cell_type": "markdown",
   "metadata": {},
   "source": [
    "## Remove html tags"
   ]
  },
  {
   "cell_type": "code",
   "execution_count": 5,
   "metadata": {
    "ExecuteTime": {
     "end_time": "2019-02-21T09:43:17.831979Z",
     "start_time": "2019-02-21T09:43:17.827831Z"
    }
   },
   "outputs": [],
   "source": [
    "def remove_html_tags(text):\n",
    "    p = re.compile(r'<.*?>')\n",
    "    return p.sub('', text)"
   ]
  },
  {
   "cell_type": "markdown",
   "metadata": {},
   "source": [
    "## Extract outgoing links"
   ]
  },
  {
   "cell_type": "code",
   "execution_count": 6,
   "metadata": {
    "ExecuteTime": {
     "end_time": "2019-02-21T09:43:17.841761Z",
     "start_time": "2019-02-21T09:43:17.834607Z"
    }
   },
   "outputs": [],
   "source": [
    "def extract_outgoing_links(url):\n",
    "    soup = get_html(url)\n",
    "    content = soup.find_all('div', class_ = 'newsBox')\n",
    "    links = list()\n",
    "    for flat in content:\n",
    "        tag_news = str(flat.find('a', class_='news'))\n",
    "        url = re.findall('\"([^\"]*)\"', tag_news)[1]\n",
    "        links.append(url)\n",
    "    return links"
   ]
  },
  {
   "cell_type": "markdown",
   "metadata": {},
   "source": [
    "## Url editor"
   ]
  },
  {
   "cell_type": "code",
   "execution_count": 7,
   "metadata": {
    "ExecuteTime": {
     "end_time": "2019-02-21T09:43:17.849694Z",
     "start_time": "2019-02-21T09:43:17.844343Z"
    }
   },
   "outputs": [],
   "source": [
    "def edit_url(url, page):\n",
    "    if 'page' not in url :\n",
    "        url = url+ '&page='+str(page)\n",
    "    else:\n",
    "        url = url.replace(url[-1], str(page))\n",
    "    return url"
   ]
  },
  {
   "cell_type": "markdown",
   "metadata": {},
   "source": [
    "## Details Scraper"
   ]
  },
  {
   "cell_type": "code",
   "execution_count": 8,
   "metadata": {
    "ExecuteTime": {
     "end_time": "2019-02-21T09:43:17.871721Z",
     "start_time": "2019-02-21T09:43:17.855953Z"
    }
   },
   "outputs": [],
   "source": [
    "def get_rent_details(url):\n",
    "    soup = get_html(url)\n",
    "    details_rent = soup.find_all('div', class_ = 'detailBox')\n",
    "\n",
    "    infos = remove_html_tags(str(details_rent[0]))\n",
    "    infos = infos.replace('\\n', ' ')\n",
    "    infos = infos.replace('\\t', ' ')\n",
    "    infos = infos.replace('\\n2', ' ')\n",
    "    infos = infos.split('   ')\n",
    "    infos = [el for el in infos if el != '']\n",
    "    \n",
    "    infos = infos[1:8]\n",
    "    \n",
    "    #uncomment lines for new features\n",
    "    infos[0] = infos[0].replace('Rent per month: € ','')\n",
    "    infos[0] = infos[0].replace(',-', '')\n",
    "    infos[1] = infos[1].replace('Available from: ', '')\n",
    "    #infos[2] = infos[2].replace('Offered since: ', '')\n",
    "    #infos[3] = infos[3].replace('Offered by: ', '')\n",
    "    infos[4] = infos[4].replace('Surface (m2): ', '')\n",
    "    infos[4] = infos[4].replace(' m²', '')\n",
    "    infos[5] = infos[5].replace('Interior:  ', '')\n",
    "    infos[6] = infos[6].replace('Number of bedrooms ', '')\n",
    "\n",
    "    #remove line for new features\n",
    "    del infos[2:3]\n",
    "    del infos[2]\n",
    "    \n",
    "    return infos"
   ]
  },
  {
   "cell_type": "markdown",
   "metadata": {},
   "source": [
    "## Location Scraper"
   ]
  },
  {
   "cell_type": "code",
   "execution_count": 158,
   "metadata": {
    "ExecuteTime": {
     "end_time": "2019-02-21T12:20:37.350911Z",
     "start_time": "2019-02-21T12:20:37.331516Z"
    }
   },
   "outputs": [],
   "source": [
    "def get_location(url, city):\n",
    "    \n",
    "    soup = get_html(url)\n",
    "    content = soup.find_all('div', class_ = 'brownBox')\n",
    "\n",
    "    infos = remove_html_tags(str(content[0]))\n",
    "    infos = infos.replace('\\n', ' ')\n",
    "    infos = infos.replace('\\t', ' ')\n",
    "    infos = infos.replace('\\r', ' ')\n",
    "    infos = infos.replace('\\n2', ' ')\n",
    "    infos = infos.lower()\n",
    "    \n",
    "    if city == 'Amsterdam':\n",
    "        indice_start = infos.rfind('in amsterdam')\n",
    "        infos = infos[indice_start+len('in amsterdam'):]\n",
    "        infos = infos.replace('amsterdam', 'Amsterdam')\n",
    "    elif city == 'Rotterdam':\n",
    "        indice_start = infos.rfind('in rotterdam')\n",
    "        infos = infos[indice_start+len('in rotterdam'):]\n",
    "        infos = infos.replace('rotterdam', 'Rotterdam')\n",
    "    elif city == 'Den Haag':\n",
    "        indice_start = infos.rfind('in den haag')\n",
    "        infos = infos[indice_start+len('in den haag'):]\n",
    "        infos = infos.replace('den haag', 'Den Haag')\n",
    "    elif city == 'Utrecht':\n",
    "        indice_start = infos.rfind('in utrecht')\n",
    "        infos = infos[indice_start+len('in utrecht'):]\n",
    "        infos = infos.replace('utrecht', 'Utrecht')\n",
    "    elif city == 'Groningen':\n",
    "        indice_start = infos.rfind('in groningen')\n",
    "        infos = infos[indice_start+len('in groningen'):]\n",
    "        infos = infos.replace('groningen', 'Groningen')\n",
    "    elif city == 'Eindhoven':\n",
    "        indice_start = infos.rfind('eindhoven')\n",
    "        infos = infos[indice_start+len('eindhoven'):]\n",
    "        infos = infos.replace('eindhoven', 'Eindhoven')\n",
    "    \n",
    "    infos = infos.strip()\n",
    "    indice_end = infos.find('€')\n",
    "    infos = infos[:indice_end]\n",
    "    location = \" \".join(infos.split())\n",
    "    \n",
    "    \n",
    "    return location"
   ]
  },
  {
   "cell_type": "markdown",
   "metadata": {},
   "source": [
    "## Description Scraper"
   ]
  },
  {
   "cell_type": "code",
   "execution_count": 191,
   "metadata": {
    "ExecuteTime": {
     "end_time": "2019-02-21T12:51:24.190164Z",
     "start_time": "2019-02-21T12:51:24.175628Z"
    }
   },
   "outputs": [],
   "source": [
    "def get_description(url, city):\n",
    "    soup = get_html(url)\n",
    "    details_rent = soup.find_all('div', class_ = 'contentbox')\n",
    "    \n",
    "    infos = remove_html_tags(str(details_rent[0]))\n",
    "    infos = infos.replace('\\n', ' ')\n",
    "    infos = infos.replace('\\t', ' ')\n",
    "    infos = infos.replace('\\n2', ' ')\n",
    "    infos = infos.split('   ')\n",
    "    \n",
    "    if len(infos)==1:\n",
    "        infos = infos[0].strip()\n",
    "    \n",
    "    elif len(infos) > 1:\n",
    "        infos = ''.join(str(elem) for elem in infos)\n",
    "        infos = infos.strip()\n",
    "    \n",
    "    infos = infos.lower()\n",
    "    \n",
    "    if '123wonen the rental agency offers:' in infos:\n",
    "        infos = infos.replace('123wonen the rental agency offers:', '')\n",
    "    elif '123wonen the rental agent offers:' in infos:\n",
    "        infos = infos.replace('123wonen the rental agent offers:', '')\n",
    "    \n",
    "    if ',-' in infos:\n",
    "        indice_start = infos.find(',-')\n",
    "        infos = infos[indice_start+2:]\n",
    "    \n",
    "    elif ', -' in infos:\n",
    "        indice_start = infos.find(', -')\n",
    "        infos = infos[indice_start+3:]\n",
    "    \n",
    "    if 'all in' in infos:\n",
    "        indice_start = infos.find('all in')\n",
    "        infos = infos[indice_start+6:]\n",
    "    \n",
    "    if 'description' in infos:\n",
    "        indice_start = infos.find('description')\n",
    "        infos = infos[indice_start+len('description'):]\n",
    "    \n",
    "    infos = infos.strip()\n",
    "    \n",
    "    return infos"
   ]
  },
  {
   "cell_type": "code",
   "execution_count": 192,
   "metadata": {
    "ExecuteTime": {
     "end_time": "2019-02-21T12:51:24.832329Z",
     "start_time": "2019-02-21T12:51:24.685384Z"
    }
   },
   "outputs": [
    {
     "data": {
      "text/plain": [
       "':  fully furnished\\xa0 2 room apartment. this apartment has a big living room and dining area an open kitchen. separate toilet at the entrance. spacious bedroom with an adjoining bathroom. the apartment has a spacious garden. this is a beautiful and apartment suitable for a short or long term stay.classification:  layout: entrance, toilet, living room approx 35m2 with sofa, coffee table, tv and tv cabinet, chairs, stereo, 2 standing lamps. kitchen with a refrigerator, stove with 4 burners, microwave, toaster and coffee/water cooker. bedroom approx 16m2 with double bed, bedside table and lamp, bathroom with shower, bath, 2nd toilet, sink and washing machine.location:  the apartment is located on the jans kerkhof heart of the city center. it has a beautiful view of the cathedral and in the surrounding area all supplies nearby.  specialties:  - total area approx 65m2  - no pets allowed  - rental period: min. 3 months \\xa0 - deposit: equal to 1 month rent  - mediation costs is one months rent plus 19% vat. - available from: 01/05/2010rent:  € 1250,- inclusive g/w/e, cable tv, internet, service costs and council tax.for more information and viewings of property above please contact us.  vgw vastgoedmgr. van de weteringstraat 1323581 en utrecht  t: +31 (0)30-2626 505f: +31 (0)84-740 89 45e: info@vgwvastgoed.nlw: www.vwgvastgoed.nl'"
      ]
     },
     "execution_count": 192,
     "metadata": {},
     "output_type": "execute_result"
    }
   ],
   "source": [
    "get_description('https://www.huurda.com/properties_for_rent_in_Utrecht/One-family_living/Janskerkhof--11757/', 'Utrecht')"
   ]
  },
  {
   "cell_type": "code",
   "execution_count": 173,
   "metadata": {
    "ExecuteTime": {
     "end_time": "2019-02-21T12:48:02.767847Z",
     "start_time": "2019-02-21T12:48:02.762350Z"
    }
   },
   "outputs": [],
   "source": [
    "url = 'https://www.huurda.com/properties_for_rent_in_Utrecht/One-family_living/Janskerkhof--11757/'"
   ]
  },
  {
   "cell_type": "code",
   "execution_count": 187,
   "metadata": {
    "ExecuteTime": {
     "end_time": "2019-02-21T12:49:50.618595Z",
     "start_time": "2019-02-21T12:49:50.432413Z"
    }
   },
   "outputs": [],
   "source": [
    "soup = get_html(url)\n",
    "details_rent = soup.find_all('div', class_ = 'contentbox')\n",
    "\n",
    "infos = remove_html_tags(str(details_rent[0]))\n",
    "infos = infos.replace('\\n', ' ')\n",
    "infos = infos.replace('\\t', ' ')\n",
    "infos = infos.replace('\\n2', ' ')\n",
    "infos = infos.split('   ')\n",
    "\n",
    "infos = ''.join(str(elem) for elem in infos)\n",
    "infos = infos.strip()\n",
    "\n",
    "if 'all in' in infos:\n",
    "    indice_start = infos.find('all in')\n",
    "    infos = infos[indice_start+6:]"
   ]
  },
  {
   "cell_type": "code",
   "execution_count": 188,
   "metadata": {
    "ExecuteTime": {
     "end_time": "2019-02-21T12:49:51.398870Z",
     "start_time": "2019-02-21T12:49:51.390747Z"
    }
   },
   "outputs": [
    {
     "data": {
      "text/plain": [
       "'.  Description:  Fully furnished\\xa0 2 room apartment. This apartment has a big living room and dining area an open kitchen. Separate toilet at the entrance. Spacious bedroom with an adjoining bathroom. The apartment has a spacious garden. This is a beautiful and apartment suitable for a short or long term stay.Classification:  Layout: entrance, toilet, living room approx 35m2 with sofa, coffee table, tv and TV cabinet, chairs, stereo, 2 standing lamps. Kitchen with a refrigerator, stove with 4 burners, microwave, toaster and coffee/water cooker. Bedroom approx 16m2 with double bed, bedside table and lamp, bathroom with shower, bath, 2nd toilet, sink and washing machine.Location:  The apartment is located on the Jans Kerkhof heart of the city center. It has a beautiful view of the cathedral and in the surrounding area all supplies nearby.  Specialties:  - Total area approx 65m2  - No pets allowed  - Rental period: min. 3 months \\xa0 - Deposit: equal to 1 month rent  - Mediation costs is one months rent plus 19% VAT. - Available from: 01/05/2010Rent:  € 1250,- Inclusive g/w/e, cable TV, internet, service costs and council tax.For more information and viewings of property above please contact us.  VGW VastgoedMgr. van de Weteringstraat 1323581 EN Utrecht  T: +31 (0)30-2626 505F: +31 (0)84-740 89 45E: info@vgwvastgoed.nlW: www.vwgvastgoed.nl'"
      ]
     },
     "execution_count": 188,
     "metadata": {},
     "output_type": "execute_result"
    }
   ],
   "source": [
    "infos"
   ]
  },
  {
   "cell_type": "markdown",
   "metadata": {},
   "source": [
    "# Scraper"
   ]
  },
  {
   "cell_type": "markdown",
   "metadata": {},
   "source": [
    "## Scrap one link"
   ]
  },
  {
   "cell_type": "code",
   "execution_count": null,
   "metadata": {
    "ExecuteTime": {
     "end_time": "2019-02-14T10:28:50.587825Z",
     "start_time": "2019-02-14T10:28:50.232080Z"
    },
    "scrolled": true
   },
   "outputs": [],
   "source": [
    "links_ams = extract_outgoing_links(cfg_ams.url)"
   ]
  },
  {
   "cell_type": "code",
   "execution_count": null,
   "metadata": {
    "ExecuteTime": {
     "end_time": "2019-02-14T10:28:51.008659Z",
     "start_time": "2019-02-14T10:28:50.592167Z"
    }
   },
   "outputs": [],
   "source": [
    "data = get_rent_details(links_ams[10])"
   ]
  },
  {
   "cell_type": "code",
   "execution_count": null,
   "metadata": {
    "ExecuteTime": {
     "end_time": "2019-02-14T10:28:51.274620Z",
     "start_time": "2019-02-14T10:28:51.014211Z"
    },
    "scrolled": true
   },
   "outputs": [],
   "source": [
    "data.append(get_location(links_ams[0], city='Amsterdam'))"
   ]
  },
  {
   "cell_type": "code",
   "execution_count": null,
   "metadata": {
    "ExecuteTime": {
     "end_time": "2019-02-14T10:28:51.276864Z",
     "start_time": "2019-02-14T10:28:49.514Z"
    }
   },
   "outputs": [],
   "source": [
    "data"
   ]
  },
  {
   "cell_type": "markdown",
   "metadata": {},
   "source": [
    "## Automation for one page"
   ]
  },
  {
   "cell_type": "code",
   "execution_count": 144,
   "metadata": {
    "ExecuteTime": {
     "end_time": "2019-02-21T11:39:44.530958Z",
     "start_time": "2019-02-21T11:39:44.518839Z"
    }
   },
   "outputs": [],
   "source": [
    "def mini_scraper(url, city):\n",
    "    \n",
    "    links = extract_outgoing_links(url)\n",
    "    df = pd.DataFrame(columns=['Rent', 'Available from', 'Surface', 'Interior', 'Number of bedrooms',  'Location', 'Description', 'url'])\n",
    "    \n",
    "    for i, link in enumerate(links):\n",
    "        try:\n",
    "            data = get_rent_details(link)\n",
    "            data.append(get_location(link, city))\n",
    "            data.append(get_description(link, city))\n",
    "            data.append(link)\n",
    "            df.loc[i] = data\n",
    "            print('Scraping url {}/{}'.format(i+1, len(links)), end='\\r')\n",
    "        except:\n",
    "            print(link)\n",
    "    return df"
   ]
  },
  {
   "cell_type": "code",
   "execution_count": null,
   "metadata": {
    "ExecuteTime": {
     "end_time": "2019-02-14T10:29:37.252904Z",
     "start_time": "2019-02-14T10:29:14.988868Z"
    },
    "scrolled": true
   },
   "outputs": [],
   "source": [
    "df = mini_scraper(cfg_rot.url, city='Rotterdam')\n",
    "df.head()"
   ]
  },
  {
   "cell_type": "markdown",
   "metadata": {},
   "source": [
    "## Main Scraper"
   ]
  },
  {
   "cell_type": "code",
   "execution_count": 94,
   "metadata": {
    "ExecuteTime": {
     "end_time": "2019-02-21T10:31:20.321537Z",
     "start_time": "2019-02-21T10:31:20.310599Z"
    }
   },
   "outputs": [],
   "source": [
    "def main_scraper(url, city, nb_page):\n",
    "    print('Scraping page: 1/{}'.format(nb_page))\n",
    "    df = mini_scraper(url, city)\n",
    "    df_list = [df]\n",
    "    for i in range(1, nb_page):\n",
    "        print('Scraping page: {}/{}'.format(i+1, nb_page))\n",
    "        url = edit_url(url, i)\n",
    "        df_list.append(mini_scraper(url, city))\n",
    "        #time.sleep(1)\n",
    "    df = pd.concat(df_list)\n",
    "    return df"
   ]
  },
  {
   "cell_type": "markdown",
   "metadata": {},
   "source": [
    "### Amsterdam"
   ]
  },
  {
   "cell_type": "code",
   "execution_count": 198,
   "metadata": {
    "ExecuteTime": {
     "end_time": "2019-02-21T13:00:24.605187Z",
     "start_time": "2019-02-21T12:56:29.384936Z"
    },
    "scrolled": true
   },
   "outputs": [
    {
     "name": "stdout",
     "output_type": "stream",
     "text": [
      "Scraping page: 1/8\n",
      "https://www.huurda.com/properties_for_rent_in_Amsterdam/Apartment/CuraÃ§aostraat--404633/\n",
      "https://www.huurda.com/properties_for_rent_in_Amsterdam/Apartment/BethaniÃ«ndwarsstraat--403731/\n",
      "Scraping page: 2/8\n",
      "https://www.huurda.com/properties_for_rent_in_Amsterdam/Apartment/CuraÃ§aostraat--404633/\n",
      "https://www.huurda.com/properties_for_rent_in_Amsterdam/Apartment/BethaniÃ«ndwarsstraat--403731/\n",
      "Scraping page: 3/8\n",
      "Scraping page: 4/8\n",
      "Scraping page: 5/8\n",
      "Scraping page: 6/8\n",
      "Scraping page: 7/8\n",
      "Scraping page: 8/8\n",
      "https://www.huurda.com/properties_for_rent_in_Amsterdam/Apartment/Sint_LuciÃ«nsteeg--278166/\n",
      "Scraping url 20/20\r"
     ]
    }
   ],
   "source": [
    "df_ams = main_scraper(cfg_ams.url, city='Amsterdam', nb_page=8)"
   ]
  },
  {
   "cell_type": "code",
   "execution_count": 199,
   "metadata": {
    "ExecuteTime": {
     "end_time": "2019-02-21T13:00:24.618230Z",
     "start_time": "2019-02-21T13:00:24.611037Z"
    }
   },
   "outputs": [
    {
     "data": {
      "text/plain": [
       "(155, 8)"
      ]
     },
     "execution_count": 199,
     "metadata": {},
     "output_type": "execute_result"
    }
   ],
   "source": [
    "df_ams.shape"
   ]
  },
  {
   "cell_type": "code",
   "execution_count": 202,
   "metadata": {
    "ExecuteTime": {
     "end_time": "2019-02-21T13:00:32.624870Z",
     "start_time": "2019-02-21T13:00:32.610886Z"
    }
   },
   "outputs": [
    {
     "data": {
      "text/html": [
       "<div>\n",
       "<style scoped>\n",
       "    .dataframe tbody tr th:only-of-type {\n",
       "        vertical-align: middle;\n",
       "    }\n",
       "\n",
       "    .dataframe tbody tr th {\n",
       "        vertical-align: top;\n",
       "    }\n",
       "\n",
       "    .dataframe thead th {\n",
       "        text-align: right;\n",
       "    }\n",
       "</style>\n",
       "<table border=\"1\" class=\"dataframe\">\n",
       "  <thead>\n",
       "    <tr style=\"text-align: right;\">\n",
       "      <th></th>\n",
       "      <th>Rent</th>\n",
       "      <th>Available from</th>\n",
       "      <th>Surface</th>\n",
       "      <th>Interior</th>\n",
       "      <th>Number of bedrooms</th>\n",
       "      <th>Location</th>\n",
       "      <th>Description</th>\n",
       "      <th>url</th>\n",
       "    </tr>\n",
       "  </thead>\n",
       "  <tbody>\n",
       "    <tr>\n",
       "      <th>0</th>\n",
       "      <td>1.950</td>\n",
       "      <td>15-03-2019</td>\n",
       "      <td>86</td>\n",
       "      <td>furnished</td>\n",
       "      <td>2</td>\n",
       "      <td>knsm-laan 1019ld Amsterdam</td>\n",
       "      <td>modern and comfortable fully furnished apartme...</td>\n",
       "      <td>https://www.huurda.com/properties_for_rent_in_...</td>\n",
       "    </tr>\n",
       "    <tr>\n",
       "      <th>1</th>\n",
       "      <td>3.500</td>\n",
       "      <td>right away</td>\n",
       "      <td>130</td>\n",
       "      <td>furnished</td>\n",
       "      <td>4</td>\n",
       "      <td>cornelis anthoniszstraat 1071 vp Amsterdam</td>\n",
       "      <td>superb and completely renovated house in a pop...</td>\n",
       "      <td>https://www.huurda.com/properties_for_rent_in_...</td>\n",
       "    </tr>\n",
       "    <tr>\n",
       "      <th>2</th>\n",
       "      <td>1.995</td>\n",
       "      <td>right away</td>\n",
       "      <td>60</td>\n",
       "      <td>furnished</td>\n",
       "      <td>1</td>\n",
       "      <td>herengracht 1015 bt Amsterdam</td>\n",
       "      <td>fully furnished apartment in the middle of the...</td>\n",
       "      <td>https://www.huurda.com/properties_for_rent_in_...</td>\n",
       "    </tr>\n",
       "    <tr>\n",
       "      <th>4</th>\n",
       "      <td>1.675</td>\n",
       "      <td>11-03-2019</td>\n",
       "      <td>60</td>\n",
       "      <td>furnished</td>\n",
       "      <td>1</td>\n",
       "      <td>schinkelkade 1075 vh Amsterdam</td>\n",
       "      <td>on a top location in the old south near the vo...</td>\n",
       "      <td>https://www.huurda.com/properties_for_rent_in_...</td>\n",
       "    </tr>\n",
       "    <tr>\n",
       "      <th>5</th>\n",
       "      <td>1.450</td>\n",
       "      <td>right away</td>\n",
       "      <td>86</td>\n",
       "      <td>furnished</td>\n",
       "      <td>2</td>\n",
       "      <td>meeuwenlaan 1021 jc Amsterdam</td>\n",
       "      <td>the property is centrally located; pont ijplei...</td>\n",
       "      <td>https://www.huurda.com/properties_for_rent_in_...</td>\n",
       "    </tr>\n",
       "  </tbody>\n",
       "</table>\n",
       "</div>"
      ],
      "text/plain": [
       "    Rent Available from Surface   Interior Number of bedrooms  \\\n",
       "0  1.950     15-03-2019      86  furnished                  2   \n",
       "1  3.500     right away     130  furnished                  4   \n",
       "2  1.995     right away      60  furnished                  1   \n",
       "4  1.675     11-03-2019      60  furnished                  1   \n",
       "5  1.450     right away      86  furnished                  2   \n",
       "\n",
       "                                     Location  \\\n",
       "0                  knsm-laan 1019ld Amsterdam   \n",
       "1  cornelis anthoniszstraat 1071 vp Amsterdam   \n",
       "2               herengracht 1015 bt Amsterdam   \n",
       "4              schinkelkade 1075 vh Amsterdam   \n",
       "5               meeuwenlaan 1021 jc Amsterdam   \n",
       "\n",
       "                                         Description  \\\n",
       "0  modern and comfortable fully furnished apartme...   \n",
       "1  superb and completely renovated house in a pop...   \n",
       "2  fully furnished apartment in the middle of the...   \n",
       "4  on a top location in the old south near the vo...   \n",
       "5  the property is centrally located; pont ijplei...   \n",
       "\n",
       "                                                 url  \n",
       "0  https://www.huurda.com/properties_for_rent_in_...  \n",
       "1  https://www.huurda.com/properties_for_rent_in_...  \n",
       "2  https://www.huurda.com/properties_for_rent_in_...  \n",
       "4  https://www.huurda.com/properties_for_rent_in_...  \n",
       "5  https://www.huurda.com/properties_for_rent_in_...  "
      ]
     },
     "execution_count": 202,
     "metadata": {},
     "output_type": "execute_result"
    }
   ],
   "source": [
    "df_ams.head()"
   ]
  },
  {
   "cell_type": "code",
   "execution_count": 203,
   "metadata": {
    "ExecuteTime": {
     "end_time": "2019-02-21T13:00:36.537112Z",
     "start_time": "2019-02-21T13:00:36.515800Z"
    }
   },
   "outputs": [],
   "source": [
    "df_ams.to_csv(cfg_ams.data_path + 'ams_data.csv', encoding='utf-8', index=False)"
   ]
  },
  {
   "cell_type": "markdown",
   "metadata": {},
   "source": [
    "### Rotterdam"
   ]
  },
  {
   "cell_type": "code",
   "execution_count": 204,
   "metadata": {
    "ExecuteTime": {
     "end_time": "2019-02-21T13:05:40.845196Z",
     "start_time": "2019-02-21T13:00:37.957551Z"
    }
   },
   "outputs": [
    {
     "name": "stdout",
     "output_type": "stream",
     "text": [
      "Scraping page: 1/13\n",
      "Scraping page: 2/13\n",
      "Scraping page: 3/13\n",
      "Scraping page: 4/13\n",
      "Scraping page: 5/13\n",
      "Scraping page: 6/13\n",
      "Scraping page: 7/13\n",
      "Scraping page: 8/13\n",
      "Scraping page: 9/13\n",
      "Scraping page: 10/13\n",
      "Scraping page: 11/13\n",
      "Scraping page: 12/13\n",
      "Scraping page: 13/13\n"
     ]
    }
   ],
   "source": [
    "df_rot = main_scraper(cfg_rot.url, city='Rotterdam', nb_page=13)"
   ]
  },
  {
   "cell_type": "code",
   "execution_count": 205,
   "metadata": {
    "ExecuteTime": {
     "end_time": "2019-02-21T13:05:40.855828Z",
     "start_time": "2019-02-21T13:05:40.849623Z"
    }
   },
   "outputs": [
    {
     "data": {
      "text/plain": [
       "(220, 8)"
      ]
     },
     "execution_count": 205,
     "metadata": {},
     "output_type": "execute_result"
    }
   ],
   "source": [
    "df_rot.shape"
   ]
  },
  {
   "cell_type": "code",
   "execution_count": 208,
   "metadata": {
    "ExecuteTime": {
     "end_time": "2019-02-21T13:05:54.269822Z",
     "start_time": "2019-02-21T13:05:54.238158Z"
    },
    "scrolled": true
   },
   "outputs": [
    {
     "data": {
      "text/html": [
       "<div>\n",
       "<style scoped>\n",
       "    .dataframe tbody tr th:only-of-type {\n",
       "        vertical-align: middle;\n",
       "    }\n",
       "\n",
       "    .dataframe tbody tr th {\n",
       "        vertical-align: top;\n",
       "    }\n",
       "\n",
       "    .dataframe thead th {\n",
       "        text-align: right;\n",
       "    }\n",
       "</style>\n",
       "<table border=\"1\" class=\"dataframe\">\n",
       "  <thead>\n",
       "    <tr style=\"text-align: right;\">\n",
       "      <th></th>\n",
       "      <th>Rent</th>\n",
       "      <th>Available from</th>\n",
       "      <th>Surface</th>\n",
       "      <th>Interior</th>\n",
       "      <th>Number of bedrooms</th>\n",
       "      <th>Location</th>\n",
       "      <th>Description</th>\n",
       "      <th>url</th>\n",
       "    </tr>\n",
       "  </thead>\n",
       "  <tbody>\n",
       "    <tr>\n",
       "      <th>15</th>\n",
       "      <td>3.000</td>\n",
       "      <td>right away</td>\n",
       "      <td>95</td>\n",
       "      <td>furnished</td>\n",
       "      <td>2</td>\n",
       "      <td>schinkelstraat 3061mn Rotterdam</td>\n",
       "      <td>furnished and luxurious 3 room apartment in ro...</td>\n",
       "      <td>https://www.huurda.com/properties_for_rent_in_...</td>\n",
       "    </tr>\n",
       "    <tr>\n",
       "      <th>16</th>\n",
       "      <td>0</td>\n",
       "      <td>right away</td>\n",
       "      <td>70</td>\n",
       "      <td>upholstered</td>\n",
       "      <td>4</td>\n",
       "      <td>-zuid putsebocht 3073 hs Rotterdam-zuid</td>\n",
       "      <td>wij bieden u een 2 kamer appartement gelegen a...</td>\n",
       "      <td>https://www.huurda.com/properties_for_rent_in_...</td>\n",
       "    </tr>\n",
       "    <tr>\n",
       "      <th>17</th>\n",
       "      <td>1.250</td>\n",
       "      <td>right away</td>\n",
       "      <td>65</td>\n",
       "      <td>furnished</td>\n",
       "      <td>2</td>\n",
       "      <td>schiedamsedijk 3011en Rotterdam</td>\n",
       "      <td>in a prime location well maintained 3 room fur...</td>\n",
       "      <td>https://www.huurda.com/properties_for_rent_in_...</td>\n",
       "    </tr>\n",
       "    <tr>\n",
       "      <th>18</th>\n",
       "      <td>1.500</td>\n",
       "      <td>right away</td>\n",
       "      <td>85</td>\n",
       "      <td>furnished</td>\n",
       "      <td>2</td>\n",
       "      <td>wijnbrugstraat 3011xw Rotterdam</td>\n",
       "      <td>lovely apartment located at  wijnbrugstraat in...</td>\n",
       "      <td>https://www.huurda.com/properties_for_rent_in_...</td>\n",
       "    </tr>\n",
       "    <tr>\n",
       "      <th>19</th>\n",
       "      <td>0</td>\n",
       "      <td>right away</td>\n",
       "      <td>20</td>\n",
       "      <td>upholstered</td>\n",
       "      <td>1</td>\n",
       "      <td>-centrum korte schoonderloostraat 3024 tp Rott...</td>\n",
       "      <td>wij bieden u een gerenoveerde kamer gelegen in...</td>\n",
       "      <td>https://www.huurda.com/properties_for_rent_in_...</td>\n",
       "    </tr>\n",
       "  </tbody>\n",
       "</table>\n",
       "</div>"
      ],
      "text/plain": [
       "     Rent Available from Surface     Interior Number of bedrooms  \\\n",
       "15  3.000     right away      95    furnished                  2   \n",
       "16      0     right away      70  upholstered                  4   \n",
       "17  1.250     right away      65    furnished                  2   \n",
       "18  1.500     right away      85    furnished                  2   \n",
       "19      0     right away      20  upholstered                  1   \n",
       "\n",
       "                                             Location  \\\n",
       "15                    schinkelstraat 3061mn Rotterdam   \n",
       "16            -zuid putsebocht 3073 hs Rotterdam-zuid   \n",
       "17                    schiedamsedijk 3011en Rotterdam   \n",
       "18                    wijnbrugstraat 3011xw Rotterdam   \n",
       "19  -centrum korte schoonderloostraat 3024 tp Rott...   \n",
       "\n",
       "                                          Description  \\\n",
       "15  furnished and luxurious 3 room apartment in ro...   \n",
       "16  wij bieden u een 2 kamer appartement gelegen a...   \n",
       "17  in a prime location well maintained 3 room fur...   \n",
       "18  lovely apartment located at  wijnbrugstraat in...   \n",
       "19  wij bieden u een gerenoveerde kamer gelegen in...   \n",
       "\n",
       "                                                  url  \n",
       "15  https://www.huurda.com/properties_for_rent_in_...  \n",
       "16  https://www.huurda.com/properties_for_rent_in_...  \n",
       "17  https://www.huurda.com/properties_for_rent_in_...  \n",
       "18  https://www.huurda.com/properties_for_rent_in_...  \n",
       "19  https://www.huurda.com/properties_for_rent_in_...  "
      ]
     },
     "execution_count": 208,
     "metadata": {},
     "output_type": "execute_result"
    }
   ],
   "source": [
    "df_rot.tail()"
   ]
  },
  {
   "cell_type": "code",
   "execution_count": 207,
   "metadata": {
    "ExecuteTime": {
     "end_time": "2019-02-21T13:05:40.925511Z",
     "start_time": "2019-02-21T13:05:40.892599Z"
    }
   },
   "outputs": [],
   "source": [
    "df_rot.to_csv(cfg_rot.data_path + 'rot_data.csv', encoding='utf-8', index=False)"
   ]
  },
  {
   "cell_type": "markdown",
   "metadata": {},
   "source": [
    "### Den Haag"
   ]
  },
  {
   "cell_type": "code",
   "execution_count": 209,
   "metadata": {
    "ExecuteTime": {
     "end_time": "2019-02-21T13:13:25.115350Z",
     "start_time": "2019-02-21T13:06:46.238609Z"
    }
   },
   "outputs": [
    {
     "name": "stdout",
     "output_type": "stream",
     "text": [
      "Scraping page: 1/12\n",
      "Scraping page: 2/12\n",
      "Scraping page: 3/12\n",
      "https://www.huurda.com/properties_for_rent_in_Den_Haag/Upstairs_apartment/LandrÃ©straat--391694/\n",
      "Scraping page: 4/12\n",
      "Scraping page: 5/12\n",
      "Scraping page: 6/12\n",
      "Scraping page: 7/12\n",
      "Scraping page: 8/12\n",
      "Scraping page: 9/12\n",
      "Scraping page: 10/12\n",
      "Scraping page: 11/12\n",
      "Scraping page: 12/12\n"
     ]
    }
   ],
   "source": [
    "df_haag = main_scraper(cfg_haag.url, city='Den Haag', nb_page=12)"
   ]
  },
  {
   "cell_type": "code",
   "execution_count": 210,
   "metadata": {
    "ExecuteTime": {
     "end_time": "2019-02-21T13:13:25.126622Z",
     "start_time": "2019-02-21T13:13:25.119127Z"
    }
   },
   "outputs": [
    {
     "data": {
      "text/plain": [
       "(219, 8)"
      ]
     },
     "execution_count": 210,
     "metadata": {},
     "output_type": "execute_result"
    }
   ],
   "source": [
    "df_haag.shape"
   ]
  },
  {
   "cell_type": "code",
   "execution_count": 211,
   "metadata": {
    "ExecuteTime": {
     "end_time": "2019-02-21T13:13:25.154287Z",
     "start_time": "2019-02-21T13:13:25.131966Z"
    }
   },
   "outputs": [
    {
     "data": {
      "text/html": [
       "<div>\n",
       "<style scoped>\n",
       "    .dataframe tbody tr th:only-of-type {\n",
       "        vertical-align: middle;\n",
       "    }\n",
       "\n",
       "    .dataframe tbody tr th {\n",
       "        vertical-align: top;\n",
       "    }\n",
       "\n",
       "    .dataframe thead th {\n",
       "        text-align: right;\n",
       "    }\n",
       "</style>\n",
       "<table border=\"1\" class=\"dataframe\">\n",
       "  <thead>\n",
       "    <tr style=\"text-align: right;\">\n",
       "      <th></th>\n",
       "      <th>Rent</th>\n",
       "      <th>Available from</th>\n",
       "      <th>Surface</th>\n",
       "      <th>Interior</th>\n",
       "      <th>Number of bedrooms</th>\n",
       "      <th>Location</th>\n",
       "      <th>Description</th>\n",
       "      <th>url</th>\n",
       "    </tr>\n",
       "  </thead>\n",
       "  <tbody>\n",
       "    <tr>\n",
       "      <th>15</th>\n",
       "      <td>775</td>\n",
       "      <td>right away</td>\n",
       "      <td>80</td>\n",
       "      <td>upholstered</td>\n",
       "      <td>2</td>\n",
       "      <td>tesselsestraat 2583jk Den Haag</td>\n",
       "      <td>nice 4 room apartment (top floor), at a walkin...</td>\n",
       "      <td>https://www.huurda.com/properties_for_rent_in_...</td>\n",
       "    </tr>\n",
       "    <tr>\n",
       "      <th>16</th>\n",
       "      <td>1.150</td>\n",
       "      <td>right away</td>\n",
       "      <td>75</td>\n",
       "      <td>furnished</td>\n",
       "      <td>2</td>\n",
       "      <td>paul gabrielstraat 2596vb Den Haag</td>\n",
       "      <td>charming fully furnished 2 bedroom apartment s...</td>\n",
       "      <td>https://www.huurda.com/properties_for_rent_in_...</td>\n",
       "    </tr>\n",
       "    <tr>\n",
       "      <th>17</th>\n",
       "      <td>1.250</td>\n",
       "      <td>right away</td>\n",
       "      <td>55</td>\n",
       "      <td>upholstered</td>\n",
       "      <td>2</td>\n",
       "      <td>noordeinde 2514gr Den Haag</td>\n",
       "      <td>prachtig volledig gemeubileerd appartement met...</td>\n",
       "      <td>https://www.huurda.com/properties_for_rent_in_...</td>\n",
       "    </tr>\n",
       "    <tr>\n",
       "      <th>18</th>\n",
       "      <td>1.650</td>\n",
       "      <td>right away</td>\n",
       "      <td>85</td>\n",
       "      <td>furnished</td>\n",
       "      <td>2</td>\n",
       "      <td>bezuidenhoutseweg 2594ac Den Haag</td>\n",
       "      <td>zeer luxe 3-kamer woning van ca.:85 m2, gelege...</td>\n",
       "      <td>https://www.huurda.com/properties_for_rent_in_...</td>\n",
       "    </tr>\n",
       "    <tr>\n",
       "      <th>19</th>\n",
       "      <td>2.750</td>\n",
       "      <td>right away</td>\n",
       "      <td>150</td>\n",
       "      <td>upholstered</td>\n",
       "      <td>5</td>\n",
       "      <td>hooikade 2514bk Den Haag</td>\n",
       "      <td>zeer ruime volledig gestoffeerde 5-kamerwoning...</td>\n",
       "      <td>https://www.huurda.com/properties_for_rent_in_...</td>\n",
       "    </tr>\n",
       "  </tbody>\n",
       "</table>\n",
       "</div>"
      ],
      "text/plain": [
       "     Rent Available from Surface     Interior Number of bedrooms  \\\n",
       "15    775     right away      80  upholstered                  2   \n",
       "16  1.150     right away      75    furnished                  2   \n",
       "17  1.250     right away      55  upholstered                  2   \n",
       "18  1.650     right away      85    furnished                  2   \n",
       "19  2.750     right away     150  upholstered                  5   \n",
       "\n",
       "                              Location  \\\n",
       "15      tesselsestraat 2583jk Den Haag   \n",
       "16  paul gabrielstraat 2596vb Den Haag   \n",
       "17          noordeinde 2514gr Den Haag   \n",
       "18   bezuidenhoutseweg 2594ac Den Haag   \n",
       "19            hooikade 2514bk Den Haag   \n",
       "\n",
       "                                          Description  \\\n",
       "15  nice 4 room apartment (top floor), at a walkin...   \n",
       "16  charming fully furnished 2 bedroom apartment s...   \n",
       "17  prachtig volledig gemeubileerd appartement met...   \n",
       "18  zeer luxe 3-kamer woning van ca.:85 m2, gelege...   \n",
       "19  zeer ruime volledig gestoffeerde 5-kamerwoning...   \n",
       "\n",
       "                                                  url  \n",
       "15  https://www.huurda.com/properties_for_rent_in_...  \n",
       "16  https://www.huurda.com/properties_for_rent_in_...  \n",
       "17  https://www.huurda.com/properties_for_rent_in_...  \n",
       "18  https://www.huurda.com/properties_for_rent_in_...  \n",
       "19  https://www.huurda.com/properties_for_rent_in_...  "
      ]
     },
     "execution_count": 211,
     "metadata": {},
     "output_type": "execute_result"
    }
   ],
   "source": [
    "df_haag.tail()"
   ]
  },
  {
   "cell_type": "code",
   "execution_count": 25,
   "metadata": {
    "ExecuteTime": {
     "end_time": "2019-02-21T10:02:47.964035Z",
     "start_time": "2019-02-21T10:02:47.942834Z"
    }
   },
   "outputs": [],
   "source": [
    "df_haag.to_csv(cfg_haag.data_path + 'haag_data.csv', encoding='utf-8', index=False)"
   ]
  },
  {
   "cell_type": "markdown",
   "metadata": {},
   "source": [
    "### Groningen"
   ]
  },
  {
   "cell_type": "code",
   "execution_count": 122,
   "metadata": {
    "ExecuteTime": {
     "end_time": "2019-02-21T11:32:53.980370Z",
     "start_time": "2019-02-21T11:30:40.930428Z"
    }
   },
   "outputs": [
    {
     "name": "stdout",
     "output_type": "stream",
     "text": [
      "Scraping page: 1/6\n",
      "Scraping page: 2/6\n",
      "Scraping page: 3/6\n",
      "Scraping page: 4/6\n",
      "Scraping page: 5/6\n",
      "Scraping page: 6/6\n",
      "Scraping url 20/20\r"
     ]
    }
   ],
   "source": [
    "df_gro = main_scraper(cfg_gro.url, city='Groningen', nb_page=6)"
   ]
  },
  {
   "cell_type": "code",
   "execution_count": 123,
   "metadata": {
    "ExecuteTime": {
     "end_time": "2019-02-21T11:32:53.999639Z",
     "start_time": "2019-02-21T11:32:53.984699Z"
    }
   },
   "outputs": [
    {
     "data": {
      "text/plain": [
       "(120, 8)"
      ]
     },
     "execution_count": 123,
     "metadata": {},
     "output_type": "execute_result"
    }
   ],
   "source": [
    "df_gro.shape"
   ]
  },
  {
   "cell_type": "code",
   "execution_count": 212,
   "metadata": {
    "ExecuteTime": {
     "end_time": "2019-02-21T13:13:39.775986Z",
     "start_time": "2019-02-21T13:13:39.752855Z"
    }
   },
   "outputs": [
    {
     "data": {
      "text/html": [
       "<div>\n",
       "<style scoped>\n",
       "    .dataframe tbody tr th:only-of-type {\n",
       "        vertical-align: middle;\n",
       "    }\n",
       "\n",
       "    .dataframe tbody tr th {\n",
       "        vertical-align: top;\n",
       "    }\n",
       "\n",
       "    .dataframe thead th {\n",
       "        text-align: right;\n",
       "    }\n",
       "</style>\n",
       "<table border=\"1\" class=\"dataframe\">\n",
       "  <thead>\n",
       "    <tr style=\"text-align: right;\">\n",
       "      <th></th>\n",
       "      <th>Rent</th>\n",
       "      <th>Available from</th>\n",
       "      <th>Surface</th>\n",
       "      <th>Interior</th>\n",
       "      <th>Number of bedrooms</th>\n",
       "      <th>Location</th>\n",
       "      <th>Description</th>\n",
       "      <th>url</th>\n",
       "    </tr>\n",
       "  </thead>\n",
       "  <tbody>\n",
       "    <tr>\n",
       "      <th>0</th>\n",
       "      <td>690</td>\n",
       "      <td>01-03-2019</td>\n",
       "      <td>27</td>\n",
       "      <td>upholstered</td>\n",
       "      <td>2</td>\n",
       "      <td>herebinnensingel 9711ge Groningen</td>\n",
       "      <td>two rooms available in student residence for 1...</td>\n",
       "      <td>https://www.huurda.com/properties_for_rent_in_...</td>\n",
       "    </tr>\n",
       "    <tr>\n",
       "      <th>1</th>\n",
       "      <td>1.490</td>\n",
       "      <td>01-03-2019</td>\n",
       "      <td>100</td>\n",
       "      <td>furnished possible</td>\n",
       "      <td>3</td>\n",
       "      <td>van starkenborghstraat 9721 ee Groningen</td>\n",
       "      <td>nice upstairs-house with three bedrooms in sou...</td>\n",
       "      <td>https://www.huurda.com/properties_for_rent_in_...</td>\n",
       "    </tr>\n",
       "    <tr>\n",
       "      <th>2</th>\n",
       "      <td>975</td>\n",
       "      <td>01-03-2019</td>\n",
       "      <td>190</td>\n",
       "      <td>upholstered</td>\n",
       "      <td>5</td>\n",
       "      <td>se renting in stitswerd, jacob tilbusscherweg ...</td>\n",
       "      <td>detached house with stunning views!  jacob til...</td>\n",
       "      <td>https://www.huurda.com/properties_for_rent_in_...</td>\n",
       "    </tr>\n",
       "    <tr>\n",
       "      <th>3</th>\n",
       "      <td>850</td>\n",
       "      <td>15-04-2019</td>\n",
       "      <td>55</td>\n",
       "      <td>furnished</td>\n",
       "      <td>1</td>\n",
       "      <td>witte de withstraat 9726ec Groningen</td>\n",
       "      <td>furnished house near center temporarily for re...</td>\n",
       "      <td>https://www.huurda.com/properties_for_rent_in_...</td>\n",
       "    </tr>\n",
       "    <tr>\n",
       "      <th>4</th>\n",
       "      <td>1.155</td>\n",
       "      <td>01-03-2019</td>\n",
       "      <td>85</td>\n",
       "      <td>furnished</td>\n",
       "      <td>2</td>\n",
       "      <td>petrus campersingel 9713ac Groningen</td>\n",
       "      <td>furnished rental with garden in groningen for ...</td>\n",
       "      <td>https://www.huurda.com/properties_for_rent_in_...</td>\n",
       "    </tr>\n",
       "  </tbody>\n",
       "</table>\n",
       "</div>"
      ],
      "text/plain": [
       "    Rent Available from Surface            Interior Number of bedrooms  \\\n",
       "0    690     01-03-2019      27         upholstered                  2   \n",
       "1  1.490     01-03-2019     100  furnished possible                  3   \n",
       "2    975     01-03-2019     190         upholstered                  5   \n",
       "3    850     15-04-2019      55           furnished                  1   \n",
       "4  1.155     01-03-2019      85           furnished                  2   \n",
       "\n",
       "                                            Location  \\\n",
       "0                  herebinnensingel 9711ge Groningen   \n",
       "1           van starkenborghstraat 9721 ee Groningen   \n",
       "2  se renting in stitswerd, jacob tilbusscherweg ...   \n",
       "3               witte de withstraat 9726ec Groningen   \n",
       "4               petrus campersingel 9713ac Groningen   \n",
       "\n",
       "                                         Description  \\\n",
       "0  two rooms available in student residence for 1...   \n",
       "1  nice upstairs-house with three bedrooms in sou...   \n",
       "2  detached house with stunning views!  jacob til...   \n",
       "3  furnished house near center temporarily for re...   \n",
       "4  furnished rental with garden in groningen for ...   \n",
       "\n",
       "                                                 url  \n",
       "0  https://www.huurda.com/properties_for_rent_in_...  \n",
       "1  https://www.huurda.com/properties_for_rent_in_...  \n",
       "2  https://www.huurda.com/properties_for_rent_in_...  \n",
       "3  https://www.huurda.com/properties_for_rent_in_...  \n",
       "4  https://www.huurda.com/properties_for_rent_in_...  "
      ]
     },
     "execution_count": 212,
     "metadata": {},
     "output_type": "execute_result"
    }
   ],
   "source": [
    "df_gro.head()"
   ]
  },
  {
   "cell_type": "code",
   "execution_count": 241,
   "metadata": {
    "ExecuteTime": {
     "end_time": "2019-02-21T13:32:18.290660Z",
     "start_time": "2019-02-21T13:32:18.266004Z"
    }
   },
   "outputs": [],
   "source": [
    "df_gro.to_csv(cfg_gro.data_path + 'gro_data.csv', encoding='utf-8', index=False)"
   ]
  },
  {
   "cell_type": "markdown",
   "metadata": {},
   "source": [
    "### Utrecht"
   ]
  },
  {
   "cell_type": "code",
   "execution_count": 193,
   "metadata": {
    "ExecuteTime": {
     "end_time": "2019-02-21T12:55:05.163767Z",
     "start_time": "2019-02-21T12:51:34.356462Z"
    }
   },
   "outputs": [
    {
     "name": "stdout",
     "output_type": "stream",
     "text": [
      "Scraping page: 1/10\n",
      "Scraping page: 2/10\n",
      "Scraping page: 3/10\n",
      "Scraping page: 4/10\n",
      "Scraping page: 5/10\n",
      "Scraping page: 6/10\n",
      "Scraping page: 7/10\n",
      "Scraping page: 8/10\n",
      "Scraping page: 9/10\n",
      "Scraping page: 10/10\n",
      "Scraping url 20/20\r"
     ]
    }
   ],
   "source": [
    "df_utr = main_scraper(cfg_utr.url, city='Utrecht', nb_page=10)"
   ]
  },
  {
   "cell_type": "code",
   "execution_count": 214,
   "metadata": {
    "ExecuteTime": {
     "end_time": "2019-02-21T13:13:45.900917Z",
     "start_time": "2019-02-21T13:13:45.892066Z"
    }
   },
   "outputs": [
    {
     "data": {
      "text/plain": [
       "(200, 8)"
      ]
     },
     "execution_count": 214,
     "metadata": {},
     "output_type": "execute_result"
    }
   ],
   "source": [
    "df_utr.shape"
   ]
  },
  {
   "cell_type": "code",
   "execution_count": 216,
   "metadata": {
    "ExecuteTime": {
     "end_time": "2019-02-21T13:13:51.323529Z",
     "start_time": "2019-02-21T13:13:51.293993Z"
    },
    "scrolled": true
   },
   "outputs": [
    {
     "data": {
      "text/html": [
       "<div>\n",
       "<style scoped>\n",
       "    .dataframe tbody tr th:only-of-type {\n",
       "        vertical-align: middle;\n",
       "    }\n",
       "\n",
       "    .dataframe tbody tr th {\n",
       "        vertical-align: top;\n",
       "    }\n",
       "\n",
       "    .dataframe thead th {\n",
       "        text-align: right;\n",
       "    }\n",
       "</style>\n",
       "<table border=\"1\" class=\"dataframe\">\n",
       "  <thead>\n",
       "    <tr style=\"text-align: right;\">\n",
       "      <th></th>\n",
       "      <th>Rent</th>\n",
       "      <th>Available from</th>\n",
       "      <th>Surface</th>\n",
       "      <th>Interior</th>\n",
       "      <th>Number of bedrooms</th>\n",
       "      <th>Location</th>\n",
       "      <th>Description</th>\n",
       "      <th>url</th>\n",
       "    </tr>\n",
       "  </thead>\n",
       "  <tbody>\n",
       "    <tr>\n",
       "      <th>15</th>\n",
       "      <td>1.200</td>\n",
       "      <td>right away</td>\n",
       "      <td>55</td>\n",
       "      <td>furnished</td>\n",
       "      <td>1</td>\n",
       "      <td>lange nieuwstraat 3512pl Utrecht</td>\n",
       "      <td>this wonderful 2 room apartment is fully furni...</td>\n",
       "      <td>https://www.huurda.com/properties_for_rent_in_...</td>\n",
       "    </tr>\n",
       "    <tr>\n",
       "      <th>16</th>\n",
       "      <td>995</td>\n",
       "      <td>right away</td>\n",
       "      <td>130</td>\n",
       "      <td>upholstered</td>\n",
       "      <td>4</td>\n",
       "      <td>kasteeldrift 3436tr Utrecht</td>\n",
       "      <td>normal 021false false false  nl x-none x-none ...</td>\n",
       "      <td>https://www.huurda.com/properties_for_rent_in_...</td>\n",
       "    </tr>\n",
       "    <tr>\n",
       "      <th>17</th>\n",
       "      <td>1.175</td>\n",
       "      <td>right away</td>\n",
       "      <td>60</td>\n",
       "      <td>furnished</td>\n",
       "      <td>1</td>\n",
       "      <td>amsterdamsestraatweg 3513ak Utrecht</td>\n",
       "      <td>:in 2007 renovated 2 bedroom apartment on the ...</td>\n",
       "      <td>https://www.huurda.com/properties_for_rent_in_...</td>\n",
       "    </tr>\n",
       "    <tr>\n",
       "      <th>18</th>\n",
       "      <td>1.250</td>\n",
       "      <td>right away</td>\n",
       "      <td>65</td>\n",
       "      <td>upholstered</td>\n",
       "      <td>1</td>\n",
       "      <td>janskerkhof 3512ad Utrecht</td>\n",
       "      <td>:  fully furnished  2 room apartment. this apa...</td>\n",
       "      <td>https://www.huurda.com/properties_for_rent_in_...</td>\n",
       "    </tr>\n",
       "    <tr>\n",
       "      <th>19</th>\n",
       "      <td>1.650</td>\n",
       "      <td>right away</td>\n",
       "      <td>120</td>\n",
       "      <td>furnished</td>\n",
       "      <td>3</td>\n",
       "      <td>haverstraat 3511na Utrecht</td>\n",
       "      <td></td>\n",
       "      <td>https://www.huurda.com/properties_for_rent_in_...</td>\n",
       "    </tr>\n",
       "  </tbody>\n",
       "</table>\n",
       "</div>"
      ],
      "text/plain": [
       "     Rent Available from Surface     Interior Number of bedrooms  \\\n",
       "15  1.200     right away      55    furnished                  1   \n",
       "16    995     right away     130  upholstered                  4   \n",
       "17  1.175     right away      60    furnished                  1   \n",
       "18  1.250     right away      65  upholstered                  1   \n",
       "19  1.650     right away     120    furnished                  3   \n",
       "\n",
       "                               Location  \\\n",
       "15     lange nieuwstraat 3512pl Utrecht   \n",
       "16          kasteeldrift 3436tr Utrecht   \n",
       "17  amsterdamsestraatweg 3513ak Utrecht   \n",
       "18           janskerkhof 3512ad Utrecht   \n",
       "19           haverstraat 3511na Utrecht   \n",
       "\n",
       "                                          Description  \\\n",
       "15  this wonderful 2 room apartment is fully furni...   \n",
       "16  normal 021false false false  nl x-none x-none ...   \n",
       "17  :in 2007 renovated 2 bedroom apartment on the ...   \n",
       "18  :  fully furnished  2 room apartment. this apa...   \n",
       "19                                                      \n",
       "\n",
       "                                                  url  \n",
       "15  https://www.huurda.com/properties_for_rent_in_...  \n",
       "16  https://www.huurda.com/properties_for_rent_in_...  \n",
       "17  https://www.huurda.com/properties_for_rent_in_...  \n",
       "18  https://www.huurda.com/properties_for_rent_in_...  \n",
       "19  https://www.huurda.com/properties_for_rent_in_...  "
      ]
     },
     "execution_count": 216,
     "metadata": {},
     "output_type": "execute_result"
    }
   ],
   "source": [
    "df_utr.tail()"
   ]
  },
  {
   "cell_type": "code",
   "execution_count": 243,
   "metadata": {
    "ExecuteTime": {
     "end_time": "2019-02-21T13:32:23.528709Z",
     "start_time": "2019-02-21T13:32:23.503806Z"
    }
   },
   "outputs": [],
   "source": [
    "df_utr.to_csv(cfg_utr.data_path + 'utr_data.csv', encoding='utf-8', index=False)"
   ]
  },
  {
   "cell_type": "markdown",
   "metadata": {},
   "source": [
    "### Eindhoven"
   ]
  },
  {
   "cell_type": "code",
   "execution_count": 219,
   "metadata": {
    "ExecuteTime": {
     "end_time": "2019-02-21T13:18:03.263331Z",
     "start_time": "2019-02-21T13:14:36.248917Z"
    }
   },
   "outputs": [
    {
     "name": "stdout",
     "output_type": "stream",
     "text": [
      "Scraping page: 1/9\n",
      "Scraping page: 2/9\n",
      "Scraping page: 3/9\n",
      "Scraping page: 4/9\n",
      "Scraping page: 5/9\n",
      "Scraping page: 6/9\n",
      "Scraping page: 7/9\n",
      "Scraping page: 8/9\n",
      "Scraping page: 9/9\n",
      "Scraping url 20/20\r"
     ]
    }
   ],
   "source": [
    "df_ein = main_scraper(cfg_utr.url, city='Eindhoven', nb_page=9)"
   ]
  },
  {
   "cell_type": "code",
   "execution_count": 220,
   "metadata": {
    "ExecuteTime": {
     "end_time": "2019-02-21T13:18:03.274532Z",
     "start_time": "2019-02-21T13:18:03.267009Z"
    }
   },
   "outputs": [
    {
     "data": {
      "text/plain": [
       "(180, 8)"
      ]
     },
     "execution_count": 220,
     "metadata": {},
     "output_type": "execute_result"
    }
   ],
   "source": [
    "df_ein.shape"
   ]
  },
  {
   "cell_type": "code",
   "execution_count": 222,
   "metadata": {
    "ExecuteTime": {
     "end_time": "2019-02-21T13:19:28.120061Z",
     "start_time": "2019-02-21T13:19:28.090285Z"
    }
   },
   "outputs": [
    {
     "data": {
      "text/html": [
       "<div>\n",
       "<style scoped>\n",
       "    .dataframe tbody tr th:only-of-type {\n",
       "        vertical-align: middle;\n",
       "    }\n",
       "\n",
       "    .dataframe tbody tr th {\n",
       "        vertical-align: top;\n",
       "    }\n",
       "\n",
       "    .dataframe thead th {\n",
       "        text-align: right;\n",
       "    }\n",
       "</style>\n",
       "<table border=\"1\" class=\"dataframe\">\n",
       "  <thead>\n",
       "    <tr style=\"text-align: right;\">\n",
       "      <th></th>\n",
       "      <th>Rent</th>\n",
       "      <th>Available from</th>\n",
       "      <th>Surface</th>\n",
       "      <th>Interior</th>\n",
       "      <th>Number of bedrooms</th>\n",
       "      <th>Location</th>\n",
       "      <th>Description</th>\n",
       "      <th>url</th>\n",
       "    </tr>\n",
       "  </thead>\n",
       "  <tbody>\n",
       "    <tr>\n",
       "      <th>15</th>\n",
       "      <td>800</td>\n",
       "      <td>right away</td>\n",
       "      <td>45</td>\n",
       "      <td>upholstered</td>\n",
       "      <td>1</td>\n",
       "      <td>nt renting in utrecht, burgemeester van tuyllk...</td>\n",
       "      <td>aan een brede laan met boomrijke groenstrook l...</td>\n",
       "      <td>https://www.huurda.com/properties_for_rent_in_...</td>\n",
       "    </tr>\n",
       "    <tr>\n",
       "      <th>16</th>\n",
       "      <td>2.200</td>\n",
       "      <td>right away</td>\n",
       "      <td>152</td>\n",
       "      <td>furnished</td>\n",
       "      <td>3</td>\n",
       "      <td>house renting in abcoude, bleekerhof rental ho...</td>\n",
       "      <td>an extremely bright and spacious alone-standin...</td>\n",
       "      <td>https://www.huurda.com/properties_for_rent_in_...</td>\n",
       "    </tr>\n",
       "    <tr>\n",
       "      <th>17</th>\n",
       "      <td>650</td>\n",
       "      <td>right away</td>\n",
       "      <td>60</td>\n",
       "      <td>furnished</td>\n",
       "      <td>2</td>\n",
       "      <td>w renting in rhenen, nieuwe veenendaalseweg re...</td>\n",
       "      <td></td>\n",
       "      <td>https://www.huurda.com/properties_for_rent_in_...</td>\n",
       "    </tr>\n",
       "    <tr>\n",
       "      <th>18</th>\n",
       "      <td>750</td>\n",
       "      <td>right away</td>\n",
       "      <td>30</td>\n",
       "      <td>upholstered</td>\n",
       "      <td>n.a.</td>\n",
       "      <td>renting in utrecht, koppestokstraat rental hou...</td>\n",
       "      <td>nieuw op te leveren studio ca. 30m2. word gehe...</td>\n",
       "      <td>https://www.huurda.com/properties_for_rent_in_...</td>\n",
       "    </tr>\n",
       "    <tr>\n",
       "      <th>19</th>\n",
       "      <td>350</td>\n",
       "      <td>right away</td>\n",
       "      <td>20</td>\n",
       "      <td>upholstered</td>\n",
       "      <td>1</td>\n",
       "      <td>house renting in nieuwegein, mr. j.m.m. hamers...</td>\n",
       "      <td>beschikbaar per direct, een zojuist nieuw gest...</td>\n",
       "      <td>https://www.huurda.com/properties_for_rent_in_...</td>\n",
       "    </tr>\n",
       "  </tbody>\n",
       "</table>\n",
       "</div>"
      ],
      "text/plain": [
       "     Rent Available from Surface     Interior Number of bedrooms  \\\n",
       "15    800     right away      45  upholstered                  1   \n",
       "16  2.200     right away     152    furnished                  3   \n",
       "17    650     right away      60    furnished                  2   \n",
       "18    750     right away      30  upholstered               n.a.   \n",
       "19    350     right away      20  upholstered                  1   \n",
       "\n",
       "                                             Location  \\\n",
       "15  nt renting in utrecht, burgemeester van tuyllk...   \n",
       "16  house renting in abcoude, bleekerhof rental ho...   \n",
       "17  w renting in rhenen, nieuwe veenendaalseweg re...   \n",
       "18  renting in utrecht, koppestokstraat rental hou...   \n",
       "19  house renting in nieuwegein, mr. j.m.m. hamers...   \n",
       "\n",
       "                                          Description  \\\n",
       "15  aan een brede laan met boomrijke groenstrook l...   \n",
       "16  an extremely bright and spacious alone-standin...   \n",
       "17                                                      \n",
       "18  nieuw op te leveren studio ca. 30m2. word gehe...   \n",
       "19  beschikbaar per direct, een zojuist nieuw gest...   \n",
       "\n",
       "                                                  url  \n",
       "15  https://www.huurda.com/properties_for_rent_in_...  \n",
       "16  https://www.huurda.com/properties_for_rent_in_...  \n",
       "17  https://www.huurda.com/properties_for_rent_in_...  \n",
       "18  https://www.huurda.com/properties_for_rent_in_...  \n",
       "19  https://www.huurda.com/properties_for_rent_in_...  "
      ]
     },
     "execution_count": 222,
     "metadata": {},
     "output_type": "execute_result"
    }
   ],
   "source": [
    "df_ein.tail()"
   ]
  },
  {
   "cell_type": "code",
   "execution_count": 244,
   "metadata": {
    "ExecuteTime": {
     "end_time": "2019-02-21T13:32:26.330721Z",
     "start_time": "2019-02-21T13:32:26.306663Z"
    }
   },
   "outputs": [],
   "source": [
    "df_ein.to_csv(cfg_ein.data_path + 'ein_data.csv', encoding='utf-8', index=False)"
   ]
  },
  {
   "cell_type": "markdown",
   "metadata": {},
   "source": [
    "## Merge all data"
   ]
  },
  {
   "cell_type": "code",
   "execution_count": 229,
   "metadata": {
    "ExecuteTime": {
     "end_time": "2019-02-21T13:20:01.492116Z",
     "start_time": "2019-02-21T13:20:01.477246Z"
    }
   },
   "outputs": [],
   "source": [
    "df_list = [df_ams, df_rot, df_haag, df_gro, df_utr, df_ein]\n",
    "df = pd.concat(df_list)"
   ]
  },
  {
   "cell_type": "code",
   "execution_count": 230,
   "metadata": {
    "ExecuteTime": {
     "end_time": "2019-02-21T13:20:01.927333Z",
     "start_time": "2019-02-21T13:20:01.921309Z"
    }
   },
   "outputs": [
    {
     "data": {
      "text/plain": [
       "(1094, 8)"
      ]
     },
     "execution_count": 230,
     "metadata": {},
     "output_type": "execute_result"
    }
   ],
   "source": [
    "df.shape"
   ]
  },
  {
   "cell_type": "code",
   "execution_count": 231,
   "metadata": {
    "ExecuteTime": {
     "end_time": "2019-02-21T13:20:02.197937Z",
     "start_time": "2019-02-21T13:20:02.181414Z"
    }
   },
   "outputs": [
    {
     "data": {
      "text/html": [
       "<div>\n",
       "<style scoped>\n",
       "    .dataframe tbody tr th:only-of-type {\n",
       "        vertical-align: middle;\n",
       "    }\n",
       "\n",
       "    .dataframe tbody tr th {\n",
       "        vertical-align: top;\n",
       "    }\n",
       "\n",
       "    .dataframe thead th {\n",
       "        text-align: right;\n",
       "    }\n",
       "</style>\n",
       "<table border=\"1\" class=\"dataframe\">\n",
       "  <thead>\n",
       "    <tr style=\"text-align: right;\">\n",
       "      <th></th>\n",
       "      <th>Rent</th>\n",
       "      <th>Available from</th>\n",
       "      <th>Surface</th>\n",
       "      <th>Interior</th>\n",
       "      <th>Number of bedrooms</th>\n",
       "      <th>Location</th>\n",
       "      <th>Description</th>\n",
       "      <th>url</th>\n",
       "    </tr>\n",
       "  </thead>\n",
       "  <tbody>\n",
       "    <tr>\n",
       "      <th>0</th>\n",
       "      <td>1.950</td>\n",
       "      <td>15-03-2019</td>\n",
       "      <td>86</td>\n",
       "      <td>furnished</td>\n",
       "      <td>2</td>\n",
       "      <td>knsm-laan 1019ld Amsterdam</td>\n",
       "      <td>modern and comfortable fully furnished apartme...</td>\n",
       "      <td>https://www.huurda.com/properties_for_rent_in_...</td>\n",
       "    </tr>\n",
       "    <tr>\n",
       "      <th>1</th>\n",
       "      <td>3.500</td>\n",
       "      <td>right away</td>\n",
       "      <td>130</td>\n",
       "      <td>furnished</td>\n",
       "      <td>4</td>\n",
       "      <td>cornelis anthoniszstraat 1071 vp Amsterdam</td>\n",
       "      <td>superb and completely renovated house in a pop...</td>\n",
       "      <td>https://www.huurda.com/properties_for_rent_in_...</td>\n",
       "    </tr>\n",
       "    <tr>\n",
       "      <th>2</th>\n",
       "      <td>1.995</td>\n",
       "      <td>right away</td>\n",
       "      <td>60</td>\n",
       "      <td>furnished</td>\n",
       "      <td>1</td>\n",
       "      <td>herengracht 1015 bt Amsterdam</td>\n",
       "      <td>fully furnished apartment in the middle of the...</td>\n",
       "      <td>https://www.huurda.com/properties_for_rent_in_...</td>\n",
       "    </tr>\n",
       "    <tr>\n",
       "      <th>4</th>\n",
       "      <td>1.675</td>\n",
       "      <td>11-03-2019</td>\n",
       "      <td>60</td>\n",
       "      <td>furnished</td>\n",
       "      <td>1</td>\n",
       "      <td>schinkelkade 1075 vh Amsterdam</td>\n",
       "      <td>on a top location in the old south near the vo...</td>\n",
       "      <td>https://www.huurda.com/properties_for_rent_in_...</td>\n",
       "    </tr>\n",
       "    <tr>\n",
       "      <th>5</th>\n",
       "      <td>1.450</td>\n",
       "      <td>right away</td>\n",
       "      <td>86</td>\n",
       "      <td>furnished</td>\n",
       "      <td>2</td>\n",
       "      <td>meeuwenlaan 1021 jc Amsterdam</td>\n",
       "      <td>the property is centrally located; pont ijplei...</td>\n",
       "      <td>https://www.huurda.com/properties_for_rent_in_...</td>\n",
       "    </tr>\n",
       "  </tbody>\n",
       "</table>\n",
       "</div>"
      ],
      "text/plain": [
       "    Rent Available from Surface   Interior Number of bedrooms  \\\n",
       "0  1.950     15-03-2019      86  furnished                  2   \n",
       "1  3.500     right away     130  furnished                  4   \n",
       "2  1.995     right away      60  furnished                  1   \n",
       "4  1.675     11-03-2019      60  furnished                  1   \n",
       "5  1.450     right away      86  furnished                  2   \n",
       "\n",
       "                                     Location  \\\n",
       "0                  knsm-laan 1019ld Amsterdam   \n",
       "1  cornelis anthoniszstraat 1071 vp Amsterdam   \n",
       "2               herengracht 1015 bt Amsterdam   \n",
       "4              schinkelkade 1075 vh Amsterdam   \n",
       "5               meeuwenlaan 1021 jc Amsterdam   \n",
       "\n",
       "                                         Description  \\\n",
       "0  modern and comfortable fully furnished apartme...   \n",
       "1  superb and completely renovated house in a pop...   \n",
       "2  fully furnished apartment in the middle of the...   \n",
       "4  on a top location in the old south near the vo...   \n",
       "5  the property is centrally located; pont ijplei...   \n",
       "\n",
       "                                                 url  \n",
       "0  https://www.huurda.com/properties_for_rent_in_...  \n",
       "1  https://www.huurda.com/properties_for_rent_in_...  \n",
       "2  https://www.huurda.com/properties_for_rent_in_...  \n",
       "4  https://www.huurda.com/properties_for_rent_in_...  \n",
       "5  https://www.huurda.com/properties_for_rent_in_...  "
      ]
     },
     "execution_count": 231,
     "metadata": {},
     "output_type": "execute_result"
    }
   ],
   "source": [
    "df.head()"
   ]
  },
  {
   "cell_type": "markdown",
   "metadata": {},
   "source": [
    "## Save"
   ]
  },
  {
   "cell_type": "code",
   "execution_count": 232,
   "metadata": {
    "ExecuteTime": {
     "end_time": "2019-02-21T13:20:14.439299Z",
     "start_time": "2019-02-21T13:20:14.333014Z"
    }
   },
   "outputs": [],
   "source": [
    "df.to_csv(cfg_ams.data_path + 'crawled_data.csv', encoding='utf-8', index=False)"
   ]
  },
  {
   "cell_type": "markdown",
   "metadata": {},
   "source": [
    "## Load"
   ]
  },
  {
   "cell_type": "code",
   "execution_count": 234,
   "metadata": {
    "ExecuteTime": {
     "end_time": "2019-02-21T13:20:26.545842Z",
     "start_time": "2019-02-21T13:20:26.484255Z"
    },
    "scrolled": true
   },
   "outputs": [],
   "source": [
    "data = pd.read_csv(cfg_ams.data_path + 'crawled_data.csv', encoding='utf-8', engine='python')"
   ]
  },
  {
   "cell_type": "code",
   "execution_count": 235,
   "metadata": {
    "ExecuteTime": {
     "end_time": "2019-02-21T13:20:27.032041Z",
     "start_time": "2019-02-21T13:20:27.024649Z"
    }
   },
   "outputs": [
    {
     "data": {
      "text/plain": [
       "(1094, 8)"
      ]
     },
     "execution_count": 235,
     "metadata": {},
     "output_type": "execute_result"
    }
   ],
   "source": [
    "data.shape"
   ]
  },
  {
   "cell_type": "code",
   "execution_count": 236,
   "metadata": {
    "ExecuteTime": {
     "end_time": "2019-02-21T13:20:29.544932Z",
     "start_time": "2019-02-21T13:20:29.494840Z"
    }
   },
   "outputs": [
    {
     "data": {
      "text/html": [
       "<div>\n",
       "<style scoped>\n",
       "    .dataframe tbody tr th:only-of-type {\n",
       "        vertical-align: middle;\n",
       "    }\n",
       "\n",
       "    .dataframe tbody tr th {\n",
       "        vertical-align: top;\n",
       "    }\n",
       "\n",
       "    .dataframe thead th {\n",
       "        text-align: right;\n",
       "    }\n",
       "</style>\n",
       "<table border=\"1\" class=\"dataframe\">\n",
       "  <thead>\n",
       "    <tr style=\"text-align: right;\">\n",
       "      <th></th>\n",
       "      <th>Rent</th>\n",
       "      <th>Available from</th>\n",
       "      <th>Surface</th>\n",
       "      <th>Interior</th>\n",
       "      <th>Number of bedrooms</th>\n",
       "      <th>Location</th>\n",
       "      <th>Description</th>\n",
       "      <th>url</th>\n",
       "    </tr>\n",
       "  </thead>\n",
       "  <tbody>\n",
       "    <tr>\n",
       "      <th>0</th>\n",
       "      <td>1.950</td>\n",
       "      <td>15-03-2019</td>\n",
       "      <td>86</td>\n",
       "      <td>furnished</td>\n",
       "      <td>2</td>\n",
       "      <td>knsm-laan 1019ld Amsterdam</td>\n",
       "      <td>modern and comfortable fully furnished apartme...</td>\n",
       "      <td>https://www.huurda.com/properties_for_rent_in_...</td>\n",
       "    </tr>\n",
       "    <tr>\n",
       "      <th>1</th>\n",
       "      <td>3.500</td>\n",
       "      <td>right away</td>\n",
       "      <td>130</td>\n",
       "      <td>furnished</td>\n",
       "      <td>4</td>\n",
       "      <td>cornelis anthoniszstraat 1071 vp Amsterdam</td>\n",
       "      <td>superb and completely renovated house in a pop...</td>\n",
       "      <td>https://www.huurda.com/properties_for_rent_in_...</td>\n",
       "    </tr>\n",
       "    <tr>\n",
       "      <th>2</th>\n",
       "      <td>1.995</td>\n",
       "      <td>right away</td>\n",
       "      <td>60</td>\n",
       "      <td>furnished</td>\n",
       "      <td>1</td>\n",
       "      <td>herengracht 1015 bt Amsterdam</td>\n",
       "      <td>fully furnished apartment in the middle of the...</td>\n",
       "      <td>https://www.huurda.com/properties_for_rent_in_...</td>\n",
       "    </tr>\n",
       "    <tr>\n",
       "      <th>3</th>\n",
       "      <td>1.675</td>\n",
       "      <td>11-03-2019</td>\n",
       "      <td>60</td>\n",
       "      <td>furnished</td>\n",
       "      <td>1</td>\n",
       "      <td>schinkelkade 1075 vh Amsterdam</td>\n",
       "      <td>on a top location in the old south near the vo...</td>\n",
       "      <td>https://www.huurda.com/properties_for_rent_in_...</td>\n",
       "    </tr>\n",
       "    <tr>\n",
       "      <th>4</th>\n",
       "      <td>1.450</td>\n",
       "      <td>right away</td>\n",
       "      <td>86</td>\n",
       "      <td>furnished</td>\n",
       "      <td>2</td>\n",
       "      <td>meeuwenlaan 1021 jc Amsterdam</td>\n",
       "      <td>the property is centrally located; pont ijplei...</td>\n",
       "      <td>https://www.huurda.com/properties_for_rent_in_...</td>\n",
       "    </tr>\n",
       "    <tr>\n",
       "      <th>5</th>\n",
       "      <td>1.700</td>\n",
       "      <td>right away</td>\n",
       "      <td>68</td>\n",
       "      <td>furnished</td>\n",
       "      <td>2</td>\n",
       "      <td>legmeerplein 1058 nl Amsterdam</td>\n",
       "      <td>this fantastic property is available immediate...</td>\n",
       "      <td>https://www.huurda.com/properties_for_rent_in_...</td>\n",
       "    </tr>\n",
       "    <tr>\n",
       "      <th>6</th>\n",
       "      <td>1.600</td>\n",
       "      <td>right away</td>\n",
       "      <td>80</td>\n",
       "      <td>furnished</td>\n",
       "      <td>2</td>\n",
       "      <td>loenermark 1025 ts Amsterdam</td>\n",
       "      <td>apartment for rent, € 1.600 per month excl g/w...</td>\n",
       "      <td>https://www.huurda.com/properties_for_rent_in_...</td>\n",
       "    </tr>\n",
       "    <tr>\n",
       "      <th>7</th>\n",
       "      <td>2.950</td>\n",
       "      <td>01-03-2019</td>\n",
       "      <td>125</td>\n",
       "      <td>upholstered</td>\n",
       "      <td>3</td>\n",
       "      <td>archimedesweg 1098jr Amsterdam</td>\n",
       "      <td>beautiful and very bright house completely ren...</td>\n",
       "      <td>https://www.huurda.com/properties_for_rent_in_...</td>\n",
       "    </tr>\n",
       "    <tr>\n",
       "      <th>8</th>\n",
       "      <td>1.350</td>\n",
       "      <td>28-02-2019</td>\n",
       "      <td>32</td>\n",
       "      <td>furnished</td>\n",
       "      <td>1</td>\n",
       "      <td>tweede jacob van campenstraat 1073 xr Amsterdam</td>\n",
       "      <td>the house is in the heart of the popular distr...</td>\n",
       "      <td>https://www.huurda.com/properties_for_rent_in_...</td>\n",
       "    </tr>\n",
       "    <tr>\n",
       "      <th>9</th>\n",
       "      <td>1.850</td>\n",
       "      <td>right away</td>\n",
       "      <td>73</td>\n",
       "      <td>upholstered</td>\n",
       "      <td>2</td>\n",
       "      <td>hectorstraat 1076 pn Amsterdam</td>\n",
       "      <td>conferencing and completely renovated 3-room a...</td>\n",
       "      <td>https://www.huurda.com/properties_for_rent_in_...</td>\n",
       "    </tr>\n",
       "    <tr>\n",
       "      <th>10</th>\n",
       "      <td>1.875</td>\n",
       "      <td>01-04-2019</td>\n",
       "      <td>69</td>\n",
       "      <td>upholstered</td>\n",
       "      <td>2</td>\n",
       "      <td>cornelis schuytstraat 1071je Amsterdam</td>\n",
       "      <td>cornelis schuytstraat, amsterdam- oud zuid   €...</td>\n",
       "      <td>https://www.huurda.com/properties_for_rent_in_...</td>\n",
       "    </tr>\n",
       "    <tr>\n",
       "      <th>11</th>\n",
       "      <td>1.650</td>\n",
       "      <td>01-03-2019</td>\n",
       "      <td>53</td>\n",
       "      <td>furnished</td>\n",
       "      <td>1</td>\n",
       "      <td>amstelvlietstraat 1096gg Amsterdam</td>\n",
       "      <td>for rent starting from september 1 excellent m...</td>\n",
       "      <td>https://www.huurda.com/properties_for_rent_in_...</td>\n",
       "    </tr>\n",
       "    <tr>\n",
       "      <th>12</th>\n",
       "      <td>1.500</td>\n",
       "      <td>right away</td>\n",
       "      <td>58</td>\n",
       "      <td>furnished</td>\n",
       "      <td>1</td>\n",
       "      <td>eerste tuindwarsstraat 1015 rv Amsterdam</td>\n",
       "      <td>beautifull ground floor apartment in a great l...</td>\n",
       "      <td>https://www.huurda.com/properties_for_rent_in_...</td>\n",
       "    </tr>\n",
       "    <tr>\n",
       "      <th>13</th>\n",
       "      <td>1.500</td>\n",
       "      <td>right away</td>\n",
       "      <td>56</td>\n",
       "      <td>furnished</td>\n",
       "      <td>1</td>\n",
       "      <td>marco polostraat 1056dr Amsterdam</td>\n",
       "      <td>beautiful home located in the marco polo straa...</td>\n",
       "      <td>https://www.huurda.com/properties_for_rent_in_...</td>\n",
       "    </tr>\n",
       "    <tr>\n",
       "      <th>14</th>\n",
       "      <td>1.500</td>\n",
       "      <td>right away</td>\n",
       "      <td>50</td>\n",
       "      <td>furnished</td>\n",
       "      <td>1</td>\n",
       "      <td>hemonystraat 1074bl Amsterdam</td>\n",
       "      <td>in de rustige hemonystraat, in de mooie en pop...</td>\n",
       "      <td>https://www.huurda.com/properties_for_rent_in_...</td>\n",
       "    </tr>\n",
       "    <tr>\n",
       "      <th>15</th>\n",
       "      <td>1.850</td>\n",
       "      <td>right away</td>\n",
       "      <td>100</td>\n",
       "      <td>furnished</td>\n",
       "      <td>2</td>\n",
       "      <td>danie theronstraat 1091 xw Amsterdam</td>\n",
       "      <td>a beautiful light house located in the eastern...</td>\n",
       "      <td>https://www.huurda.com/properties_for_rent_in_...</td>\n",
       "    </tr>\n",
       "    <tr>\n",
       "      <th>16</th>\n",
       "      <td>1.700</td>\n",
       "      <td>right away</td>\n",
       "      <td>90</td>\n",
       "      <td>furnished</td>\n",
       "      <td>2</td>\n",
       "      <td>b. merkelbachsingel 1022 ke Amsterdam</td>\n",
       "      <td>everyone will be happy with this nice 3 room a...</td>\n",
       "      <td>https://www.huurda.com/properties_for_rent_in_...</td>\n",
       "    </tr>\n",
       "    <tr>\n",
       "      <th>17</th>\n",
       "      <td>1.550</td>\n",
       "      <td>03-03-2019</td>\n",
       "      <td>55</td>\n",
       "      <td>furnished</td>\n",
       "      <td>3</td>\n",
       "      <td>bankastraat 1094ea Amsterdam</td>\n",
       "      <td>all, this is a beautiful apartment in a fantas...</td>\n",
       "      <td>https://www.huurda.com/properties_for_rent_in_...</td>\n",
       "    </tr>\n",
       "    <tr>\n",
       "      <th>18</th>\n",
       "      <td>1.950</td>\n",
       "      <td>15-03-2019</td>\n",
       "      <td>86</td>\n",
       "      <td>furnished</td>\n",
       "      <td>2</td>\n",
       "      <td>knsm-laan 1019ld Amsterdam</td>\n",
       "      <td>modern and comfortable fully furnished apartme...</td>\n",
       "      <td>https://www.huurda.com/properties_for_rent_in_...</td>\n",
       "    </tr>\n",
       "    <tr>\n",
       "      <th>19</th>\n",
       "      <td>3.500</td>\n",
       "      <td>right away</td>\n",
       "      <td>130</td>\n",
       "      <td>furnished</td>\n",
       "      <td>4</td>\n",
       "      <td>cornelis anthoniszstraat 1071 vp Amsterdam</td>\n",
       "      <td>superb and completely renovated house in a pop...</td>\n",
       "      <td>https://www.huurda.com/properties_for_rent_in_...</td>\n",
       "    </tr>\n",
       "    <tr>\n",
       "      <th>20</th>\n",
       "      <td>1.995</td>\n",
       "      <td>right away</td>\n",
       "      <td>60</td>\n",
       "      <td>furnished</td>\n",
       "      <td>1</td>\n",
       "      <td>herengracht 1015 bt Amsterdam</td>\n",
       "      <td>fully furnished apartment in the middle of the...</td>\n",
       "      <td>https://www.huurda.com/properties_for_rent_in_...</td>\n",
       "    </tr>\n",
       "    <tr>\n",
       "      <th>21</th>\n",
       "      <td>1.675</td>\n",
       "      <td>11-03-2019</td>\n",
       "      <td>60</td>\n",
       "      <td>furnished</td>\n",
       "      <td>1</td>\n",
       "      <td>schinkelkade 1075 vh Amsterdam</td>\n",
       "      <td>on a top location in the old south near the vo...</td>\n",
       "      <td>https://www.huurda.com/properties_for_rent_in_...</td>\n",
       "    </tr>\n",
       "    <tr>\n",
       "      <th>22</th>\n",
       "      <td>1.450</td>\n",
       "      <td>right away</td>\n",
       "      <td>86</td>\n",
       "      <td>furnished</td>\n",
       "      <td>2</td>\n",
       "      <td>meeuwenlaan 1021 jc Amsterdam</td>\n",
       "      <td>the property is centrally located; pont ijplei...</td>\n",
       "      <td>https://www.huurda.com/properties_for_rent_in_...</td>\n",
       "    </tr>\n",
       "    <tr>\n",
       "      <th>23</th>\n",
       "      <td>1.700</td>\n",
       "      <td>right away</td>\n",
       "      <td>68</td>\n",
       "      <td>furnished</td>\n",
       "      <td>2</td>\n",
       "      <td>legmeerplein 1058 nl Amsterdam</td>\n",
       "      <td>this fantastic property is available immediate...</td>\n",
       "      <td>https://www.huurda.com/properties_for_rent_in_...</td>\n",
       "    </tr>\n",
       "    <tr>\n",
       "      <th>24</th>\n",
       "      <td>1.600</td>\n",
       "      <td>right away</td>\n",
       "      <td>80</td>\n",
       "      <td>furnished</td>\n",
       "      <td>2</td>\n",
       "      <td>loenermark 1025 ts Amsterdam</td>\n",
       "      <td>apartment for rent, € 1.600 per month excl g/w...</td>\n",
       "      <td>https://www.huurda.com/properties_for_rent_in_...</td>\n",
       "    </tr>\n",
       "    <tr>\n",
       "      <th>25</th>\n",
       "      <td>2.950</td>\n",
       "      <td>01-03-2019</td>\n",
       "      <td>125</td>\n",
       "      <td>upholstered</td>\n",
       "      <td>3</td>\n",
       "      <td>archimedesweg 1098jr Amsterdam</td>\n",
       "      <td>beautiful and very bright house completely ren...</td>\n",
       "      <td>https://www.huurda.com/properties_for_rent_in_...</td>\n",
       "    </tr>\n",
       "    <tr>\n",
       "      <th>26</th>\n",
       "      <td>1.350</td>\n",
       "      <td>28-02-2019</td>\n",
       "      <td>32</td>\n",
       "      <td>furnished</td>\n",
       "      <td>1</td>\n",
       "      <td>tweede jacob van campenstraat 1073 xr Amsterdam</td>\n",
       "      <td>the house is in the heart of the popular distr...</td>\n",
       "      <td>https://www.huurda.com/properties_for_rent_in_...</td>\n",
       "    </tr>\n",
       "    <tr>\n",
       "      <th>27</th>\n",
       "      <td>1.850</td>\n",
       "      <td>right away</td>\n",
       "      <td>73</td>\n",
       "      <td>upholstered</td>\n",
       "      <td>2</td>\n",
       "      <td>hectorstraat 1076 pn Amsterdam</td>\n",
       "      <td>conferencing and completely renovated 3-room a...</td>\n",
       "      <td>https://www.huurda.com/properties_for_rent_in_...</td>\n",
       "    </tr>\n",
       "    <tr>\n",
       "      <th>28</th>\n",
       "      <td>1.875</td>\n",
       "      <td>01-04-2019</td>\n",
       "      <td>69</td>\n",
       "      <td>upholstered</td>\n",
       "      <td>2</td>\n",
       "      <td>cornelis schuytstraat 1071je Amsterdam</td>\n",
       "      <td>cornelis schuytstraat, amsterdam- oud zuid   €...</td>\n",
       "      <td>https://www.huurda.com/properties_for_rent_in_...</td>\n",
       "    </tr>\n",
       "    <tr>\n",
       "      <th>29</th>\n",
       "      <td>1.650</td>\n",
       "      <td>01-03-2019</td>\n",
       "      <td>53</td>\n",
       "      <td>furnished</td>\n",
       "      <td>1</td>\n",
       "      <td>amstelvlietstraat 1096gg Amsterdam</td>\n",
       "      <td>for rent starting from september 1 excellent m...</td>\n",
       "      <td>https://www.huurda.com/properties_for_rent_in_...</td>\n",
       "    </tr>\n",
       "    <tr>\n",
       "      <th>...</th>\n",
       "      <td>...</td>\n",
       "      <td>...</td>\n",
       "      <td>...</td>\n",
       "      <td>...</td>\n",
       "      <td>...</td>\n",
       "      <td>...</td>\n",
       "      <td>...</td>\n",
       "      <td>...</td>\n",
       "    </tr>\n",
       "    <tr>\n",
       "      <th>1064</th>\n",
       "      <td>995.000</td>\n",
       "      <td>right away</td>\n",
       "      <td>87</td>\n",
       "      <td>upholstered</td>\n",
       "      <td>2</td>\n",
       "      <td>nt renting in de bilt, alfred nobellaan rental...</td>\n",
       "      <td>appartement met prachtig uitzicht gelegen op d...</td>\n",
       "      <td>https://www.huurda.com/properties_for_rent_in_...</td>\n",
       "    </tr>\n",
       "    <tr>\n",
       "      <th>1065</th>\n",
       "      <td>650.000</td>\n",
       "      <td>right away</td>\n",
       "      <td>37</td>\n",
       "      <td>upholstered</td>\n",
       "      <td>1</td>\n",
       "      <td>renting in zegveld, middenweg rental house: st...</td>\n",
       "      <td>NaN</td>\n",
       "      <td>https://www.huurda.com/properties_for_rent_in_...</td>\n",
       "    </tr>\n",
       "    <tr>\n",
       "      <th>1066</th>\n",
       "      <td>900.000</td>\n",
       "      <td>right away</td>\n",
       "      <td>75</td>\n",
       "      <td>upholstered</td>\n",
       "      <td>3</td>\n",
       "      <td>nt renting in kamerik, mijzijde rental house: ...</td>\n",
       "      <td>4-k woning op een prachtige plek in aan de wet...</td>\n",
       "      <td>https://www.huurda.com/properties_for_rent_in_...</td>\n",
       "    </tr>\n",
       "    <tr>\n",
       "      <th>1067</th>\n",
       "      <td>1.395</td>\n",
       "      <td>right away</td>\n",
       "      <td>65</td>\n",
       "      <td>furnished</td>\n",
       "      <td>1</td>\n",
       "      <td>house renting in utrecht, weerdsingel w.z. ren...</td>\n",
       "      <td>prachtig karakteristiek appartement aan de nie...</td>\n",
       "      <td>https://www.huurda.com/properties_for_rent_in_...</td>\n",
       "    </tr>\n",
       "    <tr>\n",
       "      <th>1068</th>\n",
       "      <td>700.000</td>\n",
       "      <td>right away</td>\n",
       "      <td>45</td>\n",
       "      <td>furnished possible</td>\n",
       "      <td>1</td>\n",
       "      <td>renting in utrecht, xxc rental house: duplex r...</td>\n",
       "      <td>NaN</td>\n",
       "      <td>https://www.huurda.com/properties_for_rent_in_...</td>\n",
       "    </tr>\n",
       "    <tr>\n",
       "      <th>1069</th>\n",
       "      <td>750.000</td>\n",
       "      <td>right away</td>\n",
       "      <td>70</td>\n",
       "      <td>furnished possible</td>\n",
       "      <td>2</td>\n",
       "      <td>renting in rhenen, nieuwe veenendaalseweg rent...</td>\n",
       "      <td>NaN</td>\n",
       "      <td>https://www.huurda.com/properties_for_rent_in_...</td>\n",
       "    </tr>\n",
       "    <tr>\n",
       "      <th>1070</th>\n",
       "      <td>700.000</td>\n",
       "      <td>right away</td>\n",
       "      <td>40</td>\n",
       "      <td>furnished</td>\n",
       "      <td>2</td>\n",
       "      <td>w renting in rhenen, nieuwe veenendaalseweg re...</td>\n",
       "      <td>NaN</td>\n",
       "      <td>https://www.huurda.com/properties_for_rent_in_...</td>\n",
       "    </tr>\n",
       "    <tr>\n",
       "      <th>1071</th>\n",
       "      <td>1.295</td>\n",
       "      <td>right away</td>\n",
       "      <td>150</td>\n",
       "      <td>upholstered</td>\n",
       "      <td>5</td>\n",
       "      <td>house renting in houten, kapelmuur rental hous...</td>\n",
       "      <td>houten heeft een heerlijke woonomgeving met ee...</td>\n",
       "      <td>https://www.huurda.com/properties_for_rent_in_...</td>\n",
       "    </tr>\n",
       "    <tr>\n",
       "      <th>1072</th>\n",
       "      <td>950.000</td>\n",
       "      <td>right away</td>\n",
       "      <td>97</td>\n",
       "      <td>furnished</td>\n",
       "      <td>3</td>\n",
       "      <td>house renting in werkhoven, ambachtstraat rent...</td>\n",
       "      <td>NaN</td>\n",
       "      <td>https://www.huurda.com/properties_for_rent_in_...</td>\n",
       "    </tr>\n",
       "    <tr>\n",
       "      <th>1073</th>\n",
       "      <td>1.275</td>\n",
       "      <td>right away</td>\n",
       "      <td>90</td>\n",
       "      <td>upholstered</td>\n",
       "      <td>3</td>\n",
       "      <td>nt renting in utrecht, oudenoord rental house:...</td>\n",
       "      <td>gerenoveerd wonen vlakbij de binnenstad van ut...</td>\n",
       "      <td>https://www.huurda.com/properties_for_rent_in_...</td>\n",
       "    </tr>\n",
       "    <tr>\n",
       "      <th>1074</th>\n",
       "      <td>800.000</td>\n",
       "      <td>right away</td>\n",
       "      <td>38</td>\n",
       "      <td>furnished</td>\n",
       "      <td>1</td>\n",
       "      <td>nt renting in utrecht, ravellaan rental house:...</td>\n",
       "      <td>leuk gemeubileerd 2-kamerappartement gelegen n...</td>\n",
       "      <td>https://www.huurda.com/properties_for_rent_in_...</td>\n",
       "    </tr>\n",
       "    <tr>\n",
       "      <th>1075</th>\n",
       "      <td>995.000</td>\n",
       "      <td>right away</td>\n",
       "      <td>125</td>\n",
       "      <td>furnished</td>\n",
       "      <td>3</td>\n",
       "      <td>house renting in vianen, jan van arkelstraat r...</td>\n",
       "      <td>**english text below** ruime eengezinswoning g...</td>\n",
       "      <td>https://www.huurda.com/properties_for_rent_in_...</td>\n",
       "    </tr>\n",
       "    <tr>\n",
       "      <th>1076</th>\n",
       "      <td>520.000</td>\n",
       "      <td>right away</td>\n",
       "      <td>35</td>\n",
       "      <td>upholstered</td>\n",
       "      <td>1</td>\n",
       "      <td>nt renting in utrecht, laan van nieuwguinea re...</td>\n",
       "      <td>per 1 juni beschikbaar een gestoffeerd apparte...</td>\n",
       "      <td>https://www.huurda.com/properties_for_rent_in_...</td>\n",
       "    </tr>\n",
       "    <tr>\n",
       "      <th>1077</th>\n",
       "      <td>865.000</td>\n",
       "      <td>right away</td>\n",
       "      <td>90</td>\n",
       "      <td>empty</td>\n",
       "      <td>3</td>\n",
       "      <td>nt renting in maarssen, bisonspoor rental hous...</td>\n",
       "      <td>per 1 maart beschikbaar !leuk 4-kamerapparteme...</td>\n",
       "      <td>https://www.huurda.com/properties_for_rent_in_...</td>\n",
       "    </tr>\n",
       "    <tr>\n",
       "      <th>1078</th>\n",
       "      <td>2.950</td>\n",
       "      <td>right away</td>\n",
       "      <td>130</td>\n",
       "      <td>furnished</td>\n",
       "      <td>3</td>\n",
       "      <td>nt renting in utrecht, herculeslaan rental hou...</td>\n",
       "      <td>stylish furnished 3-room (2 bedrooms, 1 living...</td>\n",
       "      <td>https://www.huurda.com/properties_for_rent_in_...</td>\n",
       "    </tr>\n",
       "    <tr>\n",
       "      <th>1079</th>\n",
       "      <td>450.000</td>\n",
       "      <td>right away</td>\n",
       "      <td>30</td>\n",
       "      <td>upholstered</td>\n",
       "      <td>n.a.</td>\n",
       "      <td>nt renting in zeist, utrechtseweg 80 rental ho...</td>\n",
       "      <td>op gunstige locatie langs doorgaande weg zijn ...</td>\n",
       "      <td>https://www.huurda.com/properties_for_rent_in_...</td>\n",
       "    </tr>\n",
       "    <tr>\n",
       "      <th>1080</th>\n",
       "      <td>875.000</td>\n",
       "      <td>right away</td>\n",
       "      <td>50</td>\n",
       "      <td>upholstered</td>\n",
       "      <td>1</td>\n",
       "      <td>nt renting in utrecht, marnixlaan rental house...</td>\n",
       "      <td>algemeen dit keurige, goed onderhouden 2-kamer...</td>\n",
       "      <td>https://www.huurda.com/properties_for_rent_in_...</td>\n",
       "    </tr>\n",
       "    <tr>\n",
       "      <th>1081</th>\n",
       "      <td>1.100</td>\n",
       "      <td>right away</td>\n",
       "      <td>40</td>\n",
       "      <td>furnished</td>\n",
       "      <td>1</td>\n",
       "      <td>nt renting in utrecht, ramstraat rental house:...</td>\n",
       "      <td>fully furnished apartment, one bedroom, living...</td>\n",
       "      <td>https://www.huurda.com/properties_for_rent_in_...</td>\n",
       "    </tr>\n",
       "    <tr>\n",
       "      <th>1082</th>\n",
       "      <td>780.000</td>\n",
       "      <td>right away</td>\n",
       "      <td>45</td>\n",
       "      <td>upholstered</td>\n",
       "      <td>1</td>\n",
       "      <td>nt renting in nieuwegein, landauerdrift rental...</td>\n",
       "      <td>per 1 mei een schitterend appartement 45m2 te ...</td>\n",
       "      <td>https://www.huurda.com/properties_for_rent_in_...</td>\n",
       "    </tr>\n",
       "    <tr>\n",
       "      <th>1083</th>\n",
       "      <td>780.000</td>\n",
       "      <td>right away</td>\n",
       "      <td>45</td>\n",
       "      <td>upholstered</td>\n",
       "      <td>1</td>\n",
       "      <td>nt renting in nieuwegein, landauerdrift rental...</td>\n",
       "      <td>NaN</td>\n",
       "      <td>https://www.huurda.com/properties_for_rent_in_...</td>\n",
       "    </tr>\n",
       "    <tr>\n",
       "      <th>1084</th>\n",
       "      <td>950.000</td>\n",
       "      <td>right away</td>\n",
       "      <td>80</td>\n",
       "      <td>furnished</td>\n",
       "      <td>2</td>\n",
       "      <td>nt renting in utrecht, eisenhowerlaan rental h...</td>\n",
       "      <td>ruim, licht en zonnig 3-kamer appartement met ...</td>\n",
       "      <td>https://www.huurda.com/properties_for_rent_in_...</td>\n",
       "    </tr>\n",
       "    <tr>\n",
       "      <th>1085</th>\n",
       "      <td>2.495</td>\n",
       "      <td>right away</td>\n",
       "      <td>120</td>\n",
       "      <td>furnished</td>\n",
       "      <td>2</td>\n",
       "      <td>nt renting in utrecht, herculeslaan rental hou...</td>\n",
       "      <td>stylish furnished 2-room (1 bedroom, 1 livingr...</td>\n",
       "      <td>https://www.huurda.com/properties_for_rent_in_...</td>\n",
       "    </tr>\n",
       "    <tr>\n",
       "      <th>1086</th>\n",
       "      <td>631.000</td>\n",
       "      <td>right away</td>\n",
       "      <td>24</td>\n",
       "      <td>furnished</td>\n",
       "      <td>n.a.</td>\n",
       "      <td>nting in utrecht, justus van effenstraat renta...</td>\n",
       "      <td>as of the first of february a room in utrecht ...</td>\n",
       "      <td>https://www.huurda.com/properties_for_rent_in_...</td>\n",
       "    </tr>\n",
       "    <tr>\n",
       "      <th>1087</th>\n",
       "      <td>650.000</td>\n",
       "      <td>right away</td>\n",
       "      <td>23</td>\n",
       "      <td>furnished</td>\n",
       "      <td>n.a.</td>\n",
       "      <td>nting in utrecht, justus van effenstraat renta...</td>\n",
       "      <td>this house is located in the center, close to ...</td>\n",
       "      <td>https://www.huurda.com/properties_for_rent_in_...</td>\n",
       "    </tr>\n",
       "    <tr>\n",
       "      <th>1088</th>\n",
       "      <td>1.100</td>\n",
       "      <td>right away</td>\n",
       "      <td>50</td>\n",
       "      <td>furnished</td>\n",
       "      <td>1</td>\n",
       "      <td>nt renting in utrecht, frans halsstraat rental...</td>\n",
       "      <td>fully furnished apartment available at a top l...</td>\n",
       "      <td>https://www.huurda.com/properties_for_rent_in_...</td>\n",
       "    </tr>\n",
       "    <tr>\n",
       "      <th>1089</th>\n",
       "      <td>800.000</td>\n",
       "      <td>right away</td>\n",
       "      <td>45</td>\n",
       "      <td>upholstered</td>\n",
       "      <td>1</td>\n",
       "      <td>nt renting in utrecht, burgemeester van tuyllk...</td>\n",
       "      <td>aan een brede laan met boomrijke groenstrook l...</td>\n",
       "      <td>https://www.huurda.com/properties_for_rent_in_...</td>\n",
       "    </tr>\n",
       "    <tr>\n",
       "      <th>1090</th>\n",
       "      <td>2.200</td>\n",
       "      <td>right away</td>\n",
       "      <td>152</td>\n",
       "      <td>furnished</td>\n",
       "      <td>3</td>\n",
       "      <td>house renting in abcoude, bleekerhof rental ho...</td>\n",
       "      <td>an extremely bright and spacious alone-standin...</td>\n",
       "      <td>https://www.huurda.com/properties_for_rent_in_...</td>\n",
       "    </tr>\n",
       "    <tr>\n",
       "      <th>1091</th>\n",
       "      <td>650.000</td>\n",
       "      <td>right away</td>\n",
       "      <td>60</td>\n",
       "      <td>furnished</td>\n",
       "      <td>2</td>\n",
       "      <td>w renting in rhenen, nieuwe veenendaalseweg re...</td>\n",
       "      <td>NaN</td>\n",
       "      <td>https://www.huurda.com/properties_for_rent_in_...</td>\n",
       "    </tr>\n",
       "    <tr>\n",
       "      <th>1092</th>\n",
       "      <td>750.000</td>\n",
       "      <td>right away</td>\n",
       "      <td>30</td>\n",
       "      <td>upholstered</td>\n",
       "      <td>n.a.</td>\n",
       "      <td>renting in utrecht, koppestokstraat rental hou...</td>\n",
       "      <td>nieuw op te leveren studio ca. 30m2. word gehe...</td>\n",
       "      <td>https://www.huurda.com/properties_for_rent_in_...</td>\n",
       "    </tr>\n",
       "    <tr>\n",
       "      <th>1093</th>\n",
       "      <td>350.000</td>\n",
       "      <td>right away</td>\n",
       "      <td>20</td>\n",
       "      <td>upholstered</td>\n",
       "      <td>1</td>\n",
       "      <td>house renting in nieuwegein, mr. j.m.m. hamers...</td>\n",
       "      <td>beschikbaar per direct, een zojuist nieuw gest...</td>\n",
       "      <td>https://www.huurda.com/properties_for_rent_in_...</td>\n",
       "    </tr>\n",
       "  </tbody>\n",
       "</table>\n",
       "<p>1094 rows × 8 columns</p>\n",
       "</div>"
      ],
      "text/plain": [
       "         Rent Available from Surface            Interior Number of bedrooms  \\\n",
       "0       1.950     15-03-2019      86           furnished                  2   \n",
       "1       3.500     right away     130           furnished                  4   \n",
       "2       1.995     right away      60           furnished                  1   \n",
       "3       1.675     11-03-2019      60           furnished                  1   \n",
       "4       1.450     right away      86           furnished                  2   \n",
       "5       1.700     right away      68           furnished                  2   \n",
       "6       1.600     right away      80           furnished                  2   \n",
       "7       2.950     01-03-2019     125         upholstered                  3   \n",
       "8       1.350     28-02-2019      32           furnished                  1   \n",
       "9       1.850     right away      73         upholstered                  2   \n",
       "10      1.875     01-04-2019      69         upholstered                  2   \n",
       "11      1.650     01-03-2019      53           furnished                  1   \n",
       "12      1.500     right away      58           furnished                  1   \n",
       "13      1.500     right away      56           furnished                  1   \n",
       "14      1.500     right away      50           furnished                  1   \n",
       "15      1.850     right away     100           furnished                  2   \n",
       "16      1.700     right away      90           furnished                  2   \n",
       "17      1.550     03-03-2019      55           furnished                  3   \n",
       "18      1.950     15-03-2019      86           furnished                  2   \n",
       "19      3.500     right away     130           furnished                  4   \n",
       "20      1.995     right away      60           furnished                  1   \n",
       "21      1.675     11-03-2019      60           furnished                  1   \n",
       "22      1.450     right away      86           furnished                  2   \n",
       "23      1.700     right away      68           furnished                  2   \n",
       "24      1.600     right away      80           furnished                  2   \n",
       "25      2.950     01-03-2019     125         upholstered                  3   \n",
       "26      1.350     28-02-2019      32           furnished                  1   \n",
       "27      1.850     right away      73         upholstered                  2   \n",
       "28      1.875     01-04-2019      69         upholstered                  2   \n",
       "29      1.650     01-03-2019      53           furnished                  1   \n",
       "...       ...            ...     ...                 ...                ...   \n",
       "1064  995.000     right away      87         upholstered                  2   \n",
       "1065  650.000     right away      37         upholstered                  1   \n",
       "1066  900.000     right away      75         upholstered                  3   \n",
       "1067    1.395     right away      65           furnished                  1   \n",
       "1068  700.000     right away      45  furnished possible                  1   \n",
       "1069  750.000     right away      70  furnished possible                  2   \n",
       "1070  700.000     right away      40           furnished                  2   \n",
       "1071    1.295     right away     150         upholstered                  5   \n",
       "1072  950.000     right away      97           furnished                  3   \n",
       "1073    1.275     right away      90         upholstered                  3   \n",
       "1074  800.000     right away      38           furnished                  1   \n",
       "1075  995.000     right away     125           furnished                  3   \n",
       "1076  520.000     right away      35         upholstered                  1   \n",
       "1077  865.000     right away      90               empty                  3   \n",
       "1078    2.950     right away     130           furnished                  3   \n",
       "1079  450.000     right away      30         upholstered               n.a.   \n",
       "1080  875.000     right away      50         upholstered                  1   \n",
       "1081    1.100     right away      40           furnished                  1   \n",
       "1082  780.000     right away      45         upholstered                  1   \n",
       "1083  780.000     right away      45         upholstered                  1   \n",
       "1084  950.000     right away      80           furnished                  2   \n",
       "1085    2.495     right away     120           furnished                  2   \n",
       "1086  631.000     right away      24           furnished               n.a.   \n",
       "1087  650.000     right away      23           furnished               n.a.   \n",
       "1088    1.100     right away      50           furnished                  1   \n",
       "1089  800.000     right away      45         upholstered                  1   \n",
       "1090    2.200     right away     152           furnished                  3   \n",
       "1091  650.000     right away      60           furnished                  2   \n",
       "1092  750.000     right away      30         upholstered               n.a.   \n",
       "1093  350.000     right away      20         upholstered                  1   \n",
       "\n",
       "                                               Location  \\\n",
       "0                            knsm-laan 1019ld Amsterdam   \n",
       "1            cornelis anthoniszstraat 1071 vp Amsterdam   \n",
       "2                         herengracht 1015 bt Amsterdam   \n",
       "3                        schinkelkade 1075 vh Amsterdam   \n",
       "4                         meeuwenlaan 1021 jc Amsterdam   \n",
       "5                        legmeerplein 1058 nl Amsterdam   \n",
       "6                          loenermark 1025 ts Amsterdam   \n",
       "7                        archimedesweg 1098jr Amsterdam   \n",
       "8       tweede jacob van campenstraat 1073 xr Amsterdam   \n",
       "9                        hectorstraat 1076 pn Amsterdam   \n",
       "10               cornelis schuytstraat 1071je Amsterdam   \n",
       "11                   amstelvlietstraat 1096gg Amsterdam   \n",
       "12             eerste tuindwarsstraat 1015 rv Amsterdam   \n",
       "13                    marco polostraat 1056dr Amsterdam   \n",
       "14                        hemonystraat 1074bl Amsterdam   \n",
       "15                 danie theronstraat 1091 xw Amsterdam   \n",
       "16                b. merkelbachsingel 1022 ke Amsterdam   \n",
       "17                         bankastraat 1094ea Amsterdam   \n",
       "18                           knsm-laan 1019ld Amsterdam   \n",
       "19           cornelis anthoniszstraat 1071 vp Amsterdam   \n",
       "20                        herengracht 1015 bt Amsterdam   \n",
       "21                       schinkelkade 1075 vh Amsterdam   \n",
       "22                        meeuwenlaan 1021 jc Amsterdam   \n",
       "23                       legmeerplein 1058 nl Amsterdam   \n",
       "24                         loenermark 1025 ts Amsterdam   \n",
       "25                       archimedesweg 1098jr Amsterdam   \n",
       "26      tweede jacob van campenstraat 1073 xr Amsterdam   \n",
       "27                       hectorstraat 1076 pn Amsterdam   \n",
       "28               cornelis schuytstraat 1071je Amsterdam   \n",
       "29                   amstelvlietstraat 1096gg Amsterdam   \n",
       "...                                                 ...   \n",
       "1064  nt renting in de bilt, alfred nobellaan rental...   \n",
       "1065  renting in zegveld, middenweg rental house: st...   \n",
       "1066  nt renting in kamerik, mijzijde rental house: ...   \n",
       "1067  house renting in utrecht, weerdsingel w.z. ren...   \n",
       "1068  renting in utrecht, xxc rental house: duplex r...   \n",
       "1069  renting in rhenen, nieuwe veenendaalseweg rent...   \n",
       "1070  w renting in rhenen, nieuwe veenendaalseweg re...   \n",
       "1071  house renting in houten, kapelmuur rental hous...   \n",
       "1072  house renting in werkhoven, ambachtstraat rent...   \n",
       "1073  nt renting in utrecht, oudenoord rental house:...   \n",
       "1074  nt renting in utrecht, ravellaan rental house:...   \n",
       "1075  house renting in vianen, jan van arkelstraat r...   \n",
       "1076  nt renting in utrecht, laan van nieuwguinea re...   \n",
       "1077  nt renting in maarssen, bisonspoor rental hous...   \n",
       "1078  nt renting in utrecht, herculeslaan rental hou...   \n",
       "1079  nt renting in zeist, utrechtseweg 80 rental ho...   \n",
       "1080  nt renting in utrecht, marnixlaan rental house...   \n",
       "1081  nt renting in utrecht, ramstraat rental house:...   \n",
       "1082  nt renting in nieuwegein, landauerdrift rental...   \n",
       "1083  nt renting in nieuwegein, landauerdrift rental...   \n",
       "1084  nt renting in utrecht, eisenhowerlaan rental h...   \n",
       "1085  nt renting in utrecht, herculeslaan rental hou...   \n",
       "1086  nting in utrecht, justus van effenstraat renta...   \n",
       "1087  nting in utrecht, justus van effenstraat renta...   \n",
       "1088  nt renting in utrecht, frans halsstraat rental...   \n",
       "1089  nt renting in utrecht, burgemeester van tuyllk...   \n",
       "1090  house renting in abcoude, bleekerhof rental ho...   \n",
       "1091  w renting in rhenen, nieuwe veenendaalseweg re...   \n",
       "1092  renting in utrecht, koppestokstraat rental hou...   \n",
       "1093  house renting in nieuwegein, mr. j.m.m. hamers...   \n",
       "\n",
       "                                            Description  \\\n",
       "0     modern and comfortable fully furnished apartme...   \n",
       "1     superb and completely renovated house in a pop...   \n",
       "2     fully furnished apartment in the middle of the...   \n",
       "3     on a top location in the old south near the vo...   \n",
       "4     the property is centrally located; pont ijplei...   \n",
       "5     this fantastic property is available immediate...   \n",
       "6     apartment for rent, € 1.600 per month excl g/w...   \n",
       "7     beautiful and very bright house completely ren...   \n",
       "8     the house is in the heart of the popular distr...   \n",
       "9     conferencing and completely renovated 3-room a...   \n",
       "10    cornelis schuytstraat, amsterdam- oud zuid   €...   \n",
       "11    for rent starting from september 1 excellent m...   \n",
       "12    beautifull ground floor apartment in a great l...   \n",
       "13    beautiful home located in the marco polo straa...   \n",
       "14    in de rustige hemonystraat, in de mooie en pop...   \n",
       "15    a beautiful light house located in the eastern...   \n",
       "16    everyone will be happy with this nice 3 room a...   \n",
       "17    all, this is a beautiful apartment in a fantas...   \n",
       "18    modern and comfortable fully furnished apartme...   \n",
       "19    superb and completely renovated house in a pop...   \n",
       "20    fully furnished apartment in the middle of the...   \n",
       "21    on a top location in the old south near the vo...   \n",
       "22    the property is centrally located; pont ijplei...   \n",
       "23    this fantastic property is available immediate...   \n",
       "24    apartment for rent, € 1.600 per month excl g/w...   \n",
       "25    beautiful and very bright house completely ren...   \n",
       "26    the house is in the heart of the popular distr...   \n",
       "27    conferencing and completely renovated 3-room a...   \n",
       "28    cornelis schuytstraat, amsterdam- oud zuid   €...   \n",
       "29    for rent starting from september 1 excellent m...   \n",
       "...                                                 ...   \n",
       "1064  appartement met prachtig uitzicht gelegen op d...   \n",
       "1065                                                NaN   \n",
       "1066  4-k woning op een prachtige plek in aan de wet...   \n",
       "1067  prachtig karakteristiek appartement aan de nie...   \n",
       "1068                                                NaN   \n",
       "1069                                                NaN   \n",
       "1070                                                NaN   \n",
       "1071  houten heeft een heerlijke woonomgeving met ee...   \n",
       "1072                                                NaN   \n",
       "1073  gerenoveerd wonen vlakbij de binnenstad van ut...   \n",
       "1074  leuk gemeubileerd 2-kamerappartement gelegen n...   \n",
       "1075  **english text below** ruime eengezinswoning g...   \n",
       "1076  per 1 juni beschikbaar een gestoffeerd apparte...   \n",
       "1077  per 1 maart beschikbaar !leuk 4-kamerapparteme...   \n",
       "1078  stylish furnished 3-room (2 bedrooms, 1 living...   \n",
       "1079  op gunstige locatie langs doorgaande weg zijn ...   \n",
       "1080  algemeen dit keurige, goed onderhouden 2-kamer...   \n",
       "1081  fully furnished apartment, one bedroom, living...   \n",
       "1082  per 1 mei een schitterend appartement 45m2 te ...   \n",
       "1083                                                NaN   \n",
       "1084  ruim, licht en zonnig 3-kamer appartement met ...   \n",
       "1085  stylish furnished 2-room (1 bedroom, 1 livingr...   \n",
       "1086  as of the first of february a room in utrecht ...   \n",
       "1087  this house is located in the center, close to ...   \n",
       "1088  fully furnished apartment available at a top l...   \n",
       "1089  aan een brede laan met boomrijke groenstrook l...   \n",
       "1090  an extremely bright and spacious alone-standin...   \n",
       "1091                                                NaN   \n",
       "1092  nieuw op te leveren studio ca. 30m2. word gehe...   \n",
       "1093  beschikbaar per direct, een zojuist nieuw gest...   \n",
       "\n",
       "                                                    url  \n",
       "0     https://www.huurda.com/properties_for_rent_in_...  \n",
       "1     https://www.huurda.com/properties_for_rent_in_...  \n",
       "2     https://www.huurda.com/properties_for_rent_in_...  \n",
       "3     https://www.huurda.com/properties_for_rent_in_...  \n",
       "4     https://www.huurda.com/properties_for_rent_in_...  \n",
       "5     https://www.huurda.com/properties_for_rent_in_...  \n",
       "6     https://www.huurda.com/properties_for_rent_in_...  \n",
       "7     https://www.huurda.com/properties_for_rent_in_...  \n",
       "8     https://www.huurda.com/properties_for_rent_in_...  \n",
       "9     https://www.huurda.com/properties_for_rent_in_...  \n",
       "10    https://www.huurda.com/properties_for_rent_in_...  \n",
       "11    https://www.huurda.com/properties_for_rent_in_...  \n",
       "12    https://www.huurda.com/properties_for_rent_in_...  \n",
       "13    https://www.huurda.com/properties_for_rent_in_...  \n",
       "14    https://www.huurda.com/properties_for_rent_in_...  \n",
       "15    https://www.huurda.com/properties_for_rent_in_...  \n",
       "16    https://www.huurda.com/properties_for_rent_in_...  \n",
       "17    https://www.huurda.com/properties_for_rent_in_...  \n",
       "18    https://www.huurda.com/properties_for_rent_in_...  \n",
       "19    https://www.huurda.com/properties_for_rent_in_...  \n",
       "20    https://www.huurda.com/properties_for_rent_in_...  \n",
       "21    https://www.huurda.com/properties_for_rent_in_...  \n",
       "22    https://www.huurda.com/properties_for_rent_in_...  \n",
       "23    https://www.huurda.com/properties_for_rent_in_...  \n",
       "24    https://www.huurda.com/properties_for_rent_in_...  \n",
       "25    https://www.huurda.com/properties_for_rent_in_...  \n",
       "26    https://www.huurda.com/properties_for_rent_in_...  \n",
       "27    https://www.huurda.com/properties_for_rent_in_...  \n",
       "28    https://www.huurda.com/properties_for_rent_in_...  \n",
       "29    https://www.huurda.com/properties_for_rent_in_...  \n",
       "...                                                 ...  \n",
       "1064  https://www.huurda.com/properties_for_rent_in_...  \n",
       "1065  https://www.huurda.com/properties_for_rent_in_...  \n",
       "1066  https://www.huurda.com/properties_for_rent_in_...  \n",
       "1067  https://www.huurda.com/properties_for_rent_in_...  \n",
       "1068  https://www.huurda.com/properties_for_rent_in_...  \n",
       "1069  https://www.huurda.com/properties_for_rent_in_...  \n",
       "1070  https://www.huurda.com/properties_for_rent_in_...  \n",
       "1071  https://www.huurda.com/properties_for_rent_in_...  \n",
       "1072  https://www.huurda.com/properties_for_rent_in_...  \n",
       "1073  https://www.huurda.com/properties_for_rent_in_...  \n",
       "1074  https://www.huurda.com/properties_for_rent_in_...  \n",
       "1075  https://www.huurda.com/properties_for_rent_in_...  \n",
       "1076  https://www.huurda.com/properties_for_rent_in_...  \n",
       "1077  https://www.huurda.com/properties_for_rent_in_...  \n",
       "1078  https://www.huurda.com/properties_for_rent_in_...  \n",
       "1079  https://www.huurda.com/properties_for_rent_in_...  \n",
       "1080  https://www.huurda.com/properties_for_rent_in_...  \n",
       "1081  https://www.huurda.com/properties_for_rent_in_...  \n",
       "1082  https://www.huurda.com/properties_for_rent_in_...  \n",
       "1083  https://www.huurda.com/properties_for_rent_in_...  \n",
       "1084  https://www.huurda.com/properties_for_rent_in_...  \n",
       "1085  https://www.huurda.com/properties_for_rent_in_...  \n",
       "1086  https://www.huurda.com/properties_for_rent_in_...  \n",
       "1087  https://www.huurda.com/properties_for_rent_in_...  \n",
       "1088  https://www.huurda.com/properties_for_rent_in_...  \n",
       "1089  https://www.huurda.com/properties_for_rent_in_...  \n",
       "1090  https://www.huurda.com/properties_for_rent_in_...  \n",
       "1091  https://www.huurda.com/properties_for_rent_in_...  \n",
       "1092  https://www.huurda.com/properties_for_rent_in_...  \n",
       "1093  https://www.huurda.com/properties_for_rent_in_...  \n",
       "\n",
       "[1094 rows x 8 columns]"
      ]
     },
     "execution_count": 236,
     "metadata": {},
     "output_type": "execute_result"
    }
   ],
   "source": [
    "data"
   ]
  },
  {
   "cell_type": "code",
   "execution_count": null,
   "metadata": {},
   "outputs": [],
   "source": []
  }
 ],
 "metadata": {
  "celltoolbar": "Aucun(e)",
  "kernelspec": {
   "display_name": "Python 3",
   "language": "python",
   "name": "python3"
  },
  "language_info": {
   "codemirror_mode": {
    "name": "ipython",
    "version": 3
   },
   "file_extension": ".py",
   "mimetype": "text/x-python",
   "name": "python",
   "nbconvert_exporter": "python",
   "pygments_lexer": "ipython3",
   "version": "3.7.1"
  },
  "toc": {
   "base_numbering": 1,
   "nav_menu": {},
   "number_sections": true,
   "sideBar": true,
   "skip_h1_title": false,
   "title_cell": "Table of Contents",
   "title_sidebar": "Contents",
   "toc_cell": false,
   "toc_position": {
    "height": "714.867px",
    "left": "0px",
    "right": "1310px",
    "top": "111.133px",
    "width": "165px"
   },
   "toc_section_display": "block",
   "toc_window_display": true
  }
 },
 "nbformat": 4,
 "nbformat_minor": 2
}
