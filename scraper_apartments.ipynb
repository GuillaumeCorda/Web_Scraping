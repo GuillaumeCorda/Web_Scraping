{
 "cells": [
  {
   "cell_type": "markdown",
   "metadata": {},
   "source": [
    "# Imports"
   ]
  },
  {
   "cell_type": "code",
   "execution_count": null,
   "metadata": {
    "ExecuteTime": {
     "end_time": "2019-02-14T10:28:50.154984Z",
     "start_time": "2019-02-14T10:28:47.603600Z"
    }
   },
   "outputs": [],
   "source": [
    "import os\n",
    "import numpy as np\n",
    "import pandas as pd\n",
    "\n",
    "import httplib2\n",
    "\n",
    "import urllib\n",
    "import requests\n",
    "import re\n",
    "from bs4 import BeautifulSoup"
   ]
  },
  {
   "cell_type": "markdown",
   "metadata": {},
   "source": [
    "# Config"
   ]
  },
  {
   "cell_type": "code",
   "execution_count": null,
   "metadata": {
    "ExecuteTime": {
     "end_time": "2019-02-14T10:28:50.168307Z",
     "start_time": "2019-02-14T10:28:50.161124Z"
    }
   },
   "outputs": [],
   "source": [
    "class Config():\n",
    "    def __init__(self, data_path='/Users/guillaumecorda/Desktop/UvA/Information Retrieval/Project/', url=None):\n",
    "        self.data_path = data_path\n",
    "        self.url = url"
   ]
  },
  {
   "cell_type": "code",
   "execution_count": null,
   "metadata": {
    "ExecuteTime": {
     "end_time": "2019-02-14T10:28:50.174917Z",
     "start_time": "2019-02-14T10:28:50.170360Z"
    }
   },
   "outputs": [],
   "source": [
    "cfg_ams = Config(url='https://www.huurda.com/Housing_offer.html?searchPhotos=1&searchKeywords=amsterdam&searchRentStart=0&searchSurface=0&searchRentEnd=0&searchAvailable=&searchFurnished=&searchBedrooms=&searchFormSubmit=Search+directly+in+6.510+rental+houses')\n",
    "cfg_rot = Config(url='https://www.huurda.com/Housing_offer.html?searchPhotos=1&searchKeywords=rotterdam&searchRentStart=0&searchSurface=0&searchRentEnd=0&searchAvailable=&searchFurnished=&searchBedrooms=&searchFormSubmit=Search+directly+in+6.518+rental+houses')\n",
    "cfg_haag = Config(url='https://www.huurda.com/Housing_offer.html?searchPhotos=1&searchKeywords=den+haag&searchRentStart=0&searchSurface=0&searchRentEnd=0&searchAvailable=&searchFurnished=&searchBedrooms=&searchFormSubmit=Search+directly+in+6.518+rental+houses')\n",
    "cfg_gro = Config(url='https://www.huurda.com/Housing_offer.html?searchPhotos=1&searchKeywords=groningen&searchRentStart=0&searchSurface=0&searchRentEnd=0&searchAvailable=&searchFurnished=&searchBedrooms=&searchFormSubmit=Search+directly+in+6.517+rental+houses')\n",
    "cfg_utr = Config(url='https://www.huurda.com/Housing_offer.html?searchPhotos=1&searchKeywords=utrecht&searchRentStart=0&searchSurface=0&searchRentEnd=0&searchAvailable=&searchFurnished=&searchBedrooms=&searchFormSubmit=Search+directly+in+6.517+rental+houses')\n",
    "cfg_ein = Config(url='https://www.huurda.com/Housing_offer.html?searchPhotos=1&searchKeywords=eindhoven&searchRentStart=0&searchSurface=0&searchRentEnd=0&searchAvailable=&searchFurnished=&searchBedrooms=&searchFormSubmit=Search+directly+in+6.517+rental+houses')"
   ]
  },
  {
   "cell_type": "markdown",
   "metadata": {},
   "source": [
    "# Helper functions"
   ]
  },
  {
   "cell_type": "markdown",
   "metadata": {},
   "source": [
    "## Get content"
   ]
  },
  {
   "cell_type": "code",
   "execution_count": null,
   "metadata": {
    "ExecuteTime": {
     "end_time": "2019-02-14T10:28:50.182349Z",
     "start_time": "2019-02-14T10:28:50.178799Z"
    }
   },
   "outputs": [],
   "source": [
    "def get_html(url):\n",
    "    if 'http' not in url:\n",
    "        raise ValueError('Please add protocol to url.')\n",
    "    html_page = urllib.request.urlopen(url)\n",
    "    soup = BeautifulSoup(html_page, features='html.parser')\n",
    "    return soup"
   ]
  },
  {
   "cell_type": "markdown",
   "metadata": {},
   "source": [
    "## Remove html tags"
   ]
  },
  {
   "cell_type": "code",
   "execution_count": null,
   "metadata": {
    "ExecuteTime": {
     "end_time": "2019-02-14T10:28:50.191251Z",
     "start_time": "2019-02-14T10:28:50.184941Z"
    }
   },
   "outputs": [],
   "source": [
    "def remove_html_tags(text):\n",
    "    p = re.compile(r'<.*?>')\n",
    "    return p.sub('', text)"
   ]
  },
  {
   "cell_type": "markdown",
   "metadata": {},
   "source": [
    "## Extract outgoing links"
   ]
  },
  {
   "cell_type": "code",
   "execution_count": null,
   "metadata": {
    "ExecuteTime": {
     "end_time": "2019-02-14T10:28:50.201128Z",
     "start_time": "2019-02-14T10:28:50.196699Z"
    }
   },
   "outputs": [],
   "source": [
    "def extract_outgoing_links(url):\n",
    "    soup = get_html(url)\n",
    "    content = soup.find_all('div', class_ = 'newsBox')\n",
    "    links = list()\n",
    "    for flat in content:\n",
    "        tag_news = str(flat.find('a', class_='news'))\n",
    "        url = re.findall('\"([^\"]*)\"', tag_news)[1]\n",
    "        links.append(url)\n",
    "    return links"
   ]
  },
  {
   "cell_type": "markdown",
   "metadata": {},
   "source": [
    "## Url editor"
   ]
  },
  {
   "cell_type": "code",
   "execution_count": null,
   "metadata": {
    "ExecuteTime": {
     "end_time": "2019-02-14T10:28:50.208890Z",
     "start_time": "2019-02-14T10:28:50.203797Z"
    }
   },
   "outputs": [],
   "source": [
    "def edit_url(url, page):\n",
    "    if 'page' not in url :\n",
    "        url = url+ '&page='+str(page)\n",
    "    else:\n",
    "        url = url.replace(url[-1], str(page))\n",
    "    return url"
   ]
  },
  {
   "cell_type": "markdown",
   "metadata": {},
   "source": [
    "## Details Scraper"
   ]
  },
  {
   "cell_type": "code",
   "execution_count": null,
   "metadata": {
    "ExecuteTime": {
     "end_time": "2019-02-14T10:28:50.219614Z",
     "start_time": "2019-02-14T10:28:50.211827Z"
    }
   },
   "outputs": [],
   "source": [
    "def get_rent_details(url):\n",
    "    soup = get_html(url)\n",
    "    details_rent = soup.find_all('div', class_ = 'detailBox')\n",
    "\n",
    "    infos = remove_html_tags(str(details_rent[0]))\n",
    "    infos = infos.replace('\\n', ' ')\n",
    "    infos = infos.replace('\\t', ' ')\n",
    "    infos = infos.replace('\\n2', ' ')\n",
    "    infos = infos.split('   ')\n",
    "    infos = [el for el in infos if el != '']\n",
    "    \n",
    "    infos = infos[1:8]\n",
    "    \n",
    "    #uncomment lines for new features\n",
    "    infos[0] = infos[0].replace('Rent per month: € ','')\n",
    "    infos[0] = infos[0].replace(',-', '')\n",
    "    infos[1] = infos[1].replace('Available from: ', '')\n",
    "    #infos[2] = infos[2].replace('Offered since: ', '')\n",
    "    #infos[3] = infos[3].replace('Offered by: ', '')\n",
    "    infos[4] = infos[4].replace('Surface (m2): ', '')\n",
    "    infos[4] = infos[4].replace(' m²', '')\n",
    "    infos[5] = infos[5].replace('Interior:  ', '')\n",
    "    infos[6] = infos[6].replace('Number of bedrooms ', '')\n",
    "\n",
    "    #remove line for new features\n",
    "    del infos[2:3]\n",
    "    del infos[2]\n",
    "    \n",
    "    return infos"
   ]
  },
  {
   "cell_type": "markdown",
   "metadata": {},
   "source": [
    "## Location Scraper"
   ]
  },
  {
   "cell_type": "code",
   "execution_count": null,
   "metadata": {
    "ExecuteTime": {
     "end_time": "2019-02-14T10:28:50.229330Z",
     "start_time": "2019-02-14T10:28:50.222041Z"
    }
   },
   "outputs": [],
   "source": [
    "def get_location(url, city):\n",
    "    \n",
    "    soup = get_html(url)\n",
    "    content = soup.find_all('div', class_ = 'brownBox')\n",
    "\n",
    "    infos = remove_html_tags(str(content[0]))\n",
    "    infos = infos.replace('\\n', ' ')\n",
    "    infos = infos.replace('\\t', ' ')\n",
    "    infos = infos.replace('\\n2', ' ')\n",
    "\n",
    "    indice_start = infos.find('Rental house')\n",
    "    infos = infos[indice_start:]\n",
    "    \n",
    "    if city == 'Amsterdam':\n",
    "        infos = infos.replace('Rental house: Apartment renting in Amsterdam                 ', '')\n",
    "    elif city == 'Rotterdam':\n",
    "        infos = infos.replace('Rental house: Apartment renting in Rotterdam                 ', '')\n",
    "    elif city == 'Den Haag':\n",
    "        infos = infos.replace('Rental house: Apartment renting in Den Haag                 ', '')\n",
    "    elif city == 'Utrecht':\n",
    "        infos = infos.replace('Rental house: Apartment renting in Utrecht                 ', '')\n",
    "    elif city == 'Groningen':\n",
    "        infos = infos.replace('Rental house: Apartment renting in Groningen                 ', '')\n",
    "    elif city == 'Eindhoven':\n",
    "        infos = infos.replace('Rental house: Apartment renting in Eindhoven                 ', '')\n",
    "    \n",
    "    indice_end = infos.find('€')\n",
    "    infos = infos[:indice_end]\n",
    "    location = \" \".join(infos.split())\n",
    "    \n",
    "    return location"
   ]
  },
  {
   "cell_type": "markdown",
   "metadata": {},
   "source": [
    "# Scraper"
   ]
  },
  {
   "cell_type": "markdown",
   "metadata": {},
   "source": [
    "## Scrap one link"
   ]
  },
  {
   "cell_type": "code",
   "execution_count": null,
   "metadata": {
    "ExecuteTime": {
     "end_time": "2019-02-14T10:28:50.587825Z",
     "start_time": "2019-02-14T10:28:50.232080Z"
    },
    "scrolled": true
   },
   "outputs": [],
   "source": [
    "links_ams = extract_outgoing_links(cfg_ams.url)"
   ]
  },
  {
   "cell_type": "code",
   "execution_count": null,
   "metadata": {
    "ExecuteTime": {
     "end_time": "2019-02-14T10:28:51.008659Z",
     "start_time": "2019-02-14T10:28:50.592167Z"
    }
   },
   "outputs": [],
   "source": [
    "data = get_rent_details(links_ams[10])"
   ]
  },
  {
   "cell_type": "code",
   "execution_count": null,
   "metadata": {
    "ExecuteTime": {
     "end_time": "2019-02-14T10:28:51.274620Z",
     "start_time": "2019-02-14T10:28:51.014211Z"
    },
    "scrolled": true
   },
   "outputs": [],
   "source": [
    "data.append(get_location(links_ams[0], city='Amsterdam'))"
   ]
  },
  {
   "cell_type": "code",
   "execution_count": null,
   "metadata": {
    "ExecuteTime": {
     "end_time": "2019-02-14T10:28:51.276864Z",
     "start_time": "2019-02-14T10:28:49.514Z"
    }
   },
   "outputs": [],
   "source": [
    "data"
   ]
  },
  {
   "cell_type": "markdown",
   "metadata": {},
   "source": [
    "## Automation for one page"
   ]
  },
  {
   "cell_type": "code",
   "execution_count": null,
   "metadata": {
    "ExecuteTime": {
     "end_time": "2019-02-14T10:29:14.849530Z",
     "start_time": "2019-02-14T10:29:14.836307Z"
    }
   },
   "outputs": [],
   "source": [
    "def mini_scraper(url, city):\n",
    "    \n",
    "    links = extract_outgoing_links(url)\n",
    "    df = pd.DataFrame(columns=['Rent', 'Available from', 'Surface', 'Interior', 'Number of bedrooms',  'Location'])\n",
    "    \n",
    "    for i, link in enumerate(links):\n",
    "        try:\n",
    "            data = get_rent_details(link)\n",
    "            data.append(get_location(link, city))\n",
    "            df.loc[i] = data\n",
    "            print('Scraping url {}/{}'.format(i+1, len(links)), end='\\r')\n",
    "        except:\n",
    "            print(link)\n",
    "    return df"
   ]
  },
  {
   "cell_type": "code",
   "execution_count": null,
   "metadata": {
    "ExecuteTime": {
     "end_time": "2019-02-14T10:29:37.252904Z",
     "start_time": "2019-02-14T10:29:14.988868Z"
    },
    "scrolled": true
   },
   "outputs": [],
   "source": [
    "df = mini_scraper(cfg_rot.url, city='Rotterdam')\n",
    "df.head()"
   ]
  },
  {
   "cell_type": "markdown",
   "metadata": {},
   "source": [
    "## Main Scraper"
   ]
  },
  {
   "cell_type": "code",
   "execution_count": null,
   "metadata": {
    "ExecuteTime": {
     "end_time": "2019-02-14T10:29:55.747743Z",
     "start_time": "2019-02-14T10:29:55.741283Z"
    }
   },
   "outputs": [],
   "source": [
    "def main_scraper(url, city, nb_page):\n",
    "    print('Scraping page: 1/{}'.format(nb_page))\n",
    "    df = mini_scraper(url, city)\n",
    "    df_list = [df]\n",
    "    for i in range(1, nb_page):\n",
    "        print('Scraping page: {}/{}'.format(i+1, nb_page))\n",
    "        url = edit_url(url, i)\n",
    "        df_list.append(mini_scraper(url, city))\n",
    "    df = pd.concat(df_list)\n",
    "    return df"
   ]
  },
  {
   "cell_type": "markdown",
   "metadata": {},
   "source": [
    "### Amsterdam"
   ]
  },
  {
   "cell_type": "code",
   "execution_count": null,
   "metadata": {
    "ExecuteTime": {
     "end_time": "2019-02-14T10:32:43.666503Z",
     "start_time": "2019-02-14T10:29:55.917088Z"
    },
    "scrolled": true
   },
   "outputs": [],
   "source": [
    "df_ams = main_scraper(cfg_ams.url, city='Amsterdam', nb_page=8)"
   ]
  },
  {
   "cell_type": "code",
   "execution_count": null,
   "metadata": {
    "ExecuteTime": {
     "end_time": "2019-02-14T10:32:43.685194Z",
     "start_time": "2019-02-14T10:32:43.669761Z"
    }
   },
   "outputs": [],
   "source": [
    "df_ams.shape"
   ]
  },
  {
   "cell_type": "code",
   "execution_count": null,
   "metadata": {
    "ExecuteTime": {
     "end_time": "2019-02-14T10:49:58.335775Z",
     "start_time": "2019-02-14T10:49:58.319489Z"
    }
   },
   "outputs": [],
   "source": [
    "df_ams.tail()"
   ]
  },
  {
   "cell_type": "code",
   "execution_count": null,
   "metadata": {
    "ExecuteTime": {
     "end_time": "2019-02-14T10:53:22.528258Z",
     "start_time": "2019-02-14T10:53:22.522594Z"
    },
    "scrolled": true
   },
   "outputs": [],
   "source": [
    "test  = df_ams.loc[19, 'Location'].iloc[3]"
   ]
  },
  {
   "cell_type": "code",
   "execution_count": null,
   "metadata": {
    "ExecuteTime": {
     "end_time": "2019-02-14T10:53:22.969988Z",
     "start_time": "2019-02-14T10:53:22.959048Z"
    }
   },
   "outputs": [],
   "source": [
    "len(test.split())"
   ]
  },
  {
   "cell_type": "code",
   "execution_count": null,
   "metadata": {
    "ExecuteTime": {
     "end_time": "2019-02-14T10:53:26.880428Z",
     "start_time": "2019-02-14T10:53:26.867379Z"
    }
   },
   "outputs": [],
   "source": [
    "test"
   ]
  },
  {
   "cell_type": "markdown",
   "metadata": {},
   "source": [
    "### Rotterdam"
   ]
  },
  {
   "cell_type": "code",
   "execution_count": null,
   "metadata": {
    "ExecuteTime": {
     "end_time": "2019-02-14T10:36:17.330641Z",
     "start_time": "2019-02-14T10:32:43.688593Z"
    }
   },
   "outputs": [],
   "source": [
    "df_rot = main_scraper(cfg_rot.url, city='Rotterdam', nb_page=13)"
   ]
  },
  {
   "cell_type": "code",
   "execution_count": null,
   "metadata": {
    "ExecuteTime": {
     "end_time": "2019-02-14T10:36:17.343819Z",
     "start_time": "2019-02-14T10:36:17.333976Z"
    }
   },
   "outputs": [],
   "source": [
    "df_rot.shape"
   ]
  },
  {
   "cell_type": "code",
   "execution_count": null,
   "metadata": {
    "ExecuteTime": {
     "end_time": "2019-02-14T10:36:17.386572Z",
     "start_time": "2019-02-14T10:36:17.347402Z"
    },
    "scrolled": true
   },
   "outputs": [],
   "source": [
    "df_rot.tail()"
   ]
  },
  {
   "cell_type": "markdown",
   "metadata": {},
   "source": [
    "### Den Haag"
   ]
  },
  {
   "cell_type": "code",
   "execution_count": null,
   "metadata": {
    "ExecuteTime": {
     "end_time": "2019-02-14T10:40:18.024307Z",
     "start_time": "2019-02-14T10:36:17.402342Z"
    }
   },
   "outputs": [],
   "source": [
    "df_haag = main_scraper(cfg_haag.url, city='Den Haag', nb_page=12)"
   ]
  },
  {
   "cell_type": "code",
   "execution_count": null,
   "metadata": {
    "ExecuteTime": {
     "end_time": "2019-02-14T10:40:18.033346Z",
     "start_time": "2019-02-14T10:40:18.026874Z"
    }
   },
   "outputs": [],
   "source": [
    "df_haag.shape"
   ]
  },
  {
   "cell_type": "code",
   "execution_count": null,
   "metadata": {
    "ExecuteTime": {
     "end_time": "2019-02-14T10:40:18.050930Z",
     "start_time": "2019-02-14T10:40:18.036449Z"
    }
   },
   "outputs": [],
   "source": [
    "df_haag.head()"
   ]
  },
  {
   "cell_type": "markdown",
   "metadata": {},
   "source": [
    "### Groningen"
   ]
  },
  {
   "cell_type": "code",
   "execution_count": null,
   "metadata": {
    "ExecuteTime": {
     "end_time": "2019-02-14T10:42:16.132509Z",
     "start_time": "2019-02-14T10:40:18.053977Z"
    }
   },
   "outputs": [],
   "source": [
    "df_gro = main_scraper(cfg_gro.url, city='Groningen', nb_page=6)"
   ]
  },
  {
   "cell_type": "code",
   "execution_count": null,
   "metadata": {
    "ExecuteTime": {
     "end_time": "2019-02-14T10:42:16.143704Z",
     "start_time": "2019-02-14T10:42:16.136340Z"
    }
   },
   "outputs": [],
   "source": [
    "df_gro.shape"
   ]
  },
  {
   "cell_type": "code",
   "execution_count": null,
   "metadata": {
    "ExecuteTime": {
     "end_time": "2019-02-14T10:42:16.167797Z",
     "start_time": "2019-02-14T10:42:16.148079Z"
    }
   },
   "outputs": [],
   "source": [
    "df_gro.head()"
   ]
  },
  {
   "cell_type": "markdown",
   "metadata": {},
   "source": [
    "### Utrecht"
   ]
  },
  {
   "cell_type": "code",
   "execution_count": null,
   "metadata": {
    "ExecuteTime": {
     "end_time": "2019-02-14T10:45:58.287658Z",
     "start_time": "2019-02-14T10:42:16.171297Z"
    }
   },
   "outputs": [],
   "source": [
    "df_utr = main_scraper(cfg_utr.url, city='Utrecht', nb_page=10)"
   ]
  },
  {
   "cell_type": "code",
   "execution_count": null,
   "metadata": {
    "ExecuteTime": {
     "end_time": "2019-02-14T10:45:58.301331Z",
     "start_time": "2019-02-14T10:45:58.289914Z"
    }
   },
   "outputs": [],
   "source": [
    "df_utr.shape"
   ]
  },
  {
   "cell_type": "code",
   "execution_count": null,
   "metadata": {
    "ExecuteTime": {
     "end_time": "2019-02-14T10:45:58.355731Z",
     "start_time": "2019-02-14T10:45:58.304819Z"
    },
    "scrolled": true
   },
   "outputs": [],
   "source": [
    "df_utr.head()"
   ]
  },
  {
   "cell_type": "markdown",
   "metadata": {},
   "source": [
    "### Eindhoven"
   ]
  },
  {
   "cell_type": "code",
   "execution_count": null,
   "metadata": {
    "ExecuteTime": {
     "end_time": "2019-02-14T10:48:06.540400Z",
     "start_time": "2019-02-14T10:45:58.359133Z"
    }
   },
   "outputs": [],
   "source": [
    "df_ein = main_scraper(cfg_utr.url, city='Eindhoven', nb_page=9)"
   ]
  },
  {
   "cell_type": "code",
   "execution_count": null,
   "metadata": {
    "ExecuteTime": {
     "end_time": "2019-02-14T10:48:06.556378Z",
     "start_time": "2019-02-14T10:48:06.542957Z"
    }
   },
   "outputs": [],
   "source": [
    "df_ein.shape"
   ]
  },
  {
   "cell_type": "code",
   "execution_count": null,
   "metadata": {
    "ExecuteTime": {
     "end_time": "2019-02-14T10:48:06.584644Z",
     "start_time": "2019-02-14T10:48:06.560034Z"
    }
   },
   "outputs": [],
   "source": [
    "df_ein.head()"
   ]
  },
  {
   "cell_type": "markdown",
   "metadata": {},
   "source": [
    "## Clean output"
   ]
  },
  {
   "cell_type": "code",
   "execution_count": null,
   "metadata": {},
   "outputs": [],
   "source": []
  },
  {
   "cell_type": "markdown",
   "metadata": {},
   "source": [
    "## Merge all data"
   ]
  },
  {
   "cell_type": "code",
   "execution_count": null,
   "metadata": {
    "ExecuteTime": {
     "end_time": "2019-02-14T10:48:06.602365Z",
     "start_time": "2019-02-14T10:48:06.588325Z"
    }
   },
   "outputs": [],
   "source": [
    "df_list = [df_ams, df_rot, df_haag, df_gro, df_utr, df_ein]\n",
    "df = pd.concat(df_list)"
   ]
  },
  {
   "cell_type": "code",
   "execution_count": null,
   "metadata": {
    "ExecuteTime": {
     "end_time": "2019-02-14T10:48:06.620118Z",
     "start_time": "2019-02-14T10:48:06.607426Z"
    }
   },
   "outputs": [],
   "source": [
    "df.shape"
   ]
  },
  {
   "cell_type": "code",
   "execution_count": null,
   "metadata": {
    "ExecuteTime": {
     "end_time": "2019-02-14T10:48:06.655959Z",
     "start_time": "2019-02-14T10:48:06.623193Z"
    }
   },
   "outputs": [],
   "source": [
    "df.head()"
   ]
  },
  {
   "cell_type": "code",
   "execution_count": null,
   "metadata": {},
   "outputs": [],
   "source": []
  }
 ],
 "metadata": {
  "kernelspec": {
   "display_name": "Python 3",
   "language": "python",
   "name": "python3"
  },
  "language_info": {
   "codemirror_mode": {
    "name": "ipython",
    "version": 3
   },
   "file_extension": ".py",
   "mimetype": "text/x-python",
   "name": "python",
   "nbconvert_exporter": "python",
   "pygments_lexer": "ipython3",
   "version": "3.6.6"
  },
  "toc": {
   "nav_menu": {},
   "number_sections": true,
   "sideBar": true,
   "skip_h1_title": false,
   "toc_cell": false,
   "toc_position": {
    "height": "714.867px",
    "left": "0px",
    "right": "1310px",
    "top": "111.133px",
    "width": "130px"
   },
   "toc_section_display": "block",
   "toc_window_display": true
  }
 },
 "nbformat": 4,
 "nbformat_minor": 2
}
